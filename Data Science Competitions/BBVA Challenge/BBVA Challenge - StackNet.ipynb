{
 "cells": [
  {
   "cell_type": "code",
   "execution_count": 1,
   "metadata": {},
   "outputs": [],
   "source": [
    "%matplotlib inline\n",
    "%config InlineBackend.figure_format = 'retina'\n",
    "import numpy as np\n",
    "import pandas as pd\n",
    "import matplotlib.pyplot as plt\n",
    "import seaborn as sns\n",
    "sns.set()"
   ]
  },
  {
   "cell_type": "code",
   "execution_count": 2,
   "metadata": {},
   "outputs": [],
   "source": [
    "import random\n",
    "import json\n",
    "from functools import reduce\n",
    "from itertools import product\n",
    "from operator import mul"
   ]
  },
  {
   "cell_type": "code",
   "execution_count": 3,
   "metadata": {},
   "outputs": [],
   "source": [
    "from xgboost import XGBClassifier\n",
    "from lightgbm import LGBMClassifier\n",
    "from catboost import CatBoostClassifier\n",
    "from sklearn.ensemble import RandomForestClassifier\n",
    "from sklearn.ensemble import ExtraTreesClassifier\n",
    "from sklearn.linear_model import SGDClassifier\n",
    "from sklearn.linear_model import LogisticRegression\n",
    "from sklearn.neural_network import MLPClassifier\n",
    "from sklearn.neighbors import KNeighborsClassifier\n",
    "from sklearn.svm import SVC\n",
    "import time\n",
    "\n",
    "from sklearn.metrics import accuracy_score, f1_score, roc_auc_score, log_loss\n",
    "from sklearn.model_selection import StratifiedKFold"
   ]
  },
  {
   "cell_type": "code",
   "execution_count": 13,
   "metadata": {},
   "outputs": [],
   "source": [
    "pd.set_option('display.max_columns', 500)\n",
    "pd.set_option('display.max_rows', 500)"
   ]
  },
  {
   "cell_type": "code",
   "execution_count": 5,
   "metadata": {},
   "outputs": [],
   "source": [
    "train = pd.read_csv('_data/train_independent.csv')\n",
    "test = pd.read_csv('_data/test_independent.csv')"
   ]
  },
  {
   "cell_type": "code",
   "execution_count": 6,
   "metadata": {},
   "outputs": [],
   "source": [
    "ensemble_train = pd.read_csv('_data/ensemble_train_extra.csv')\n",
    "ensemble_test = pd.read_csv('_data/ensemble_test_extra.csv')"
   ]
  },
  {
   "cell_type": "code",
   "execution_count": 16,
   "metadata": {},
   "outputs": [],
   "source": [
    "cols = [col for col in ensemble_train.columns if 'PCA' in col or 'Kmeans' in col or 'SUBMOTIVO' in col]"
   ]
  },
  {
   "cell_type": "code",
   "execution_count": 19,
   "metadata": {},
   "outputs": [],
   "source": [
    "anti_cols = [col for col in ensemble_train.columns if col not in cols]"
   ]
  },
  {
   "cell_type": "code",
   "execution_count": 18,
   "metadata": {},
   "outputs": [],
   "source": [
    "train_extra = ensemble_train[cols]\n",
    "test_extra = ensemble_test[cols]"
   ]
  },
  {
   "cell_type": "code",
   "execution_count": 21,
   "metadata": {},
   "outputs": [],
   "source": [
    "ensemble_train = ensemble_train[anti_cols]\n",
    "ensemble_test = ensemble_test[anti_cols]"
   ]
  },
  {
   "cell_type": "markdown",
   "metadata": {},
   "source": [
    "## OOF LGBM"
   ]
  },
  {
   "cell_type": "code",
   "execution_count": 23,
   "metadata": {},
   "outputs": [],
   "source": [
    "kfolds = StratifiedKFold(n_splits=5, shuffle=True, random_state=1)"
   ]
  },
  {
   "cell_type": "code",
   "execution_count": 31,
   "metadata": {},
   "outputs": [],
   "source": [
    "def run_model(model, X, y, dataset_desc='', params_desc=''):\n",
    "    model_name = str(model.__class__).split('.')[-1].replace('>','').replace(\"'\",'')\n",
    "    print(model_name)\n",
    "    predictions = y.copy()\n",
    "    logloss = []\n",
    "    for train_idx, test_idx in kfolds.split(X, y):\n",
    "        model.fit(X.iloc[train_idx,:], y[train_idx])\n",
    "        \n",
    "        y_ = model.predict_proba(X.iloc[test_idx,:])[:,1]\n",
    "        predictions[test_idx] = y_\n",
    "        logloss += [log_loss(y.iloc[test_idx], y_)]\n",
    "        print(logloss[-1])\n",
    "        \n",
    "    print(np.mean(logloss), np.std(logloss))\n",
    "        \n",
    "    return predictions"
   ]
  },
  {
   "cell_type": "code",
   "execution_count": 32,
   "metadata": {},
   "outputs": [],
   "source": [
    "params = {\n",
    "    'objective': 'binary',\n",
    "    'metric': 'binary_logloss',\n",
    "    'num_leaves': 100,\n",
    "    'reg_alpha': 1,\n",
    "    'reg_lambda': 1,\n",
    "    'colsample_bytree': 0.8,\n",
    "}"
   ]
  },
  {
   "cell_type": "code",
   "execution_count": null,
   "metadata": {},
   "outputs": [],
   "source": [
    "ensemble_train['LGBM-Extra'] = run_model(LGBMClassifier(**params), \n",
    "                    train_extra, train['ATTRITION'])"
   ]
  },
  {
   "cell_type": "code",
   "execution_count": 39,
   "metadata": {},
   "outputs": [],
   "source": [
    "lgbm = LGBMClassifier(**params)\n",
    "lgbm.fit(train_extra, train['ATTRITION'])\n",
    "ensemble_test['LGBM-Extra'] = lgbm.predict_proba(test_extra)[:,1]"
   ]
  },
  {
   "cell_type": "code",
   "execution_count": 40,
   "metadata": {},
   "outputs": [
    {
     "data": {
      "text/plain": [
       "((70000, 19), (30000, 19))"
      ]
     },
     "execution_count": 40,
     "metadata": {},
     "output_type": "execute_result"
    }
   ],
   "source": [
    "ensemble_train.shape, ensemble_test.shape"
   ]
  },
  {
   "cell_type": "code",
   "execution_count": 45,
   "metadata": {},
   "outputs": [
    {
     "data": {
      "text/plain": [
       "((70000, 85), (30000, 85))"
      ]
     },
     "execution_count": 45,
     "metadata": {},
     "output_type": "execute_result"
    }
   ],
   "source": [
    "train_extra.shape, test_extra.shape"
   ]
  },
  {
   "cell_type": "code",
   "execution_count": 43,
   "metadata": {},
   "outputs": [],
   "source": [
    "ensemble_train.to_csv('ensemble_train_input2.csv', index=False)\n",
    "ensemble_test.to_csv('ensemble_test_input2.csv', index=False)"
   ]
  },
  {
   "cell_type": "code",
   "execution_count": 44,
   "metadata": {},
   "outputs": [],
   "source": [
    "train_extra.to_csv('ensemble_train_input1B.csv', index=False)\n",
    "test_extra.to_csv('ensemble_test_input1B.csv', index=False)"
   ]
  },
  {
   "cell_type": "markdown",
   "metadata": {},
   "source": [
    "## Final Ensemble"
   ]
  },
  {
   "cell_type": "code",
   "execution_count": 54,
   "metadata": {},
   "outputs": [
    {
     "data": {
      "text/plain": [
       "((70000, 73), (70000, 85), (70000, 19))"
      ]
     },
     "execution_count": 54,
     "metadata": {},
     "output_type": "execute_result"
    }
   ],
   "source": [
    "train.shape, train_extra.shape, ensemble_train.shape"
   ]
  },
  {
   "cell_type": "code",
   "execution_count": 82,
   "metadata": {},
   "outputs": [],
   "source": [
    "from keras.layers import Input, Dense, Activation, BatchNormalization, Dropout, concatenate\n",
    "from keras.models import Model\n",
    "from keras.optimizers import Adam"
   ]
  },
  {
   "cell_type": "code",
   "execution_count": 89,
   "metadata": {},
   "outputs": [],
   "source": [
    "def create_model():\n",
    "    main_input = Input((train.shape[1] + train_extra.shape[1] - 2,), name='main_input')\n",
    "    layer1A = Dense(100)(main_input)\n",
    "    layer1A = Activation('relu')(layer1A)\n",
    "    layer1A = BatchNormalization()(layer1A)\n",
    "    layer1A = Dropout(0.2)(layer1A)\n",
    "    \n",
    "    ensemble_input = Input((ensemble_train.shape[1] - 1,), name='ensemble_input')\n",
    "    layer1B = Dense(12)(ensemble_input)\n",
    "    layer1B = Activation('relu')(layer1B)\n",
    "    layer1B = BatchNormalization()(layer1B)\n",
    "    layer1B = Dropout(0.2)(layer1B)\n",
    "    \n",
    "    x = concatenate([layer1A, layer1B])\n",
    "    \n",
    "    x = Dense(100)(x)\n",
    "    x = Activation('relu')(x)\n",
    "    x = BatchNormalization()(x)\n",
    "    x = Dropout(0.5)(x)\n",
    "    \n",
    "    main_output = Dense(1, activation='sigmoid', name='main_output')(x)\n",
    "    \n",
    "    model = Model(inputs=[main_input, ensemble_input], outputs=[main_output])\n",
    "    \n",
    "    adam = Adam()\n",
    "    model.compile(loss='binary_crossentropy', optimizer=adam)\n",
    "    return model"
   ]
  },
  {
   "cell_type": "code",
   "execution_count": 91,
   "metadata": {},
   "outputs": [],
   "source": [
    "model = create_model()"
   ]
  },
  {
   "cell_type": "code",
   "execution_count": 92,
   "metadata": {},
   "outputs": [
    {
     "name": "stdout",
     "output_type": "stream",
     "text": [
      "Epoch 1/50\n",
      "70000/70000 [==============================] - 9s 132us/step - loss: 0.4116\n",
      "Epoch 2/50\n",
      "70000/70000 [==============================] - 9s 125us/step - loss: 0.3323\n",
      "Epoch 3/50\n",
      "70000/70000 [==============================] - 9s 126us/step - loss: 0.3209\n",
      "Epoch 4/50\n",
      "70000/70000 [==============================] - 9s 129us/step - loss: 0.3195\n",
      "Epoch 5/50\n",
      "70000/70000 [==============================] - 9s 131us/step - loss: 0.3154\n",
      "Epoch 6/50\n",
      "70000/70000 [==============================] - 15s 220us/step - loss: 0.3136\n",
      "Epoch 7/50\n",
      "70000/70000 [==============================] - 13s 189us/step - loss: 0.3114\n",
      "Epoch 8/50\n",
      "70000/70000 [==============================] - 10s 147us/step - loss: 0.3113\n",
      "Epoch 9/50\n",
      "70000/70000 [==============================] - 10s 144us/step - loss: 0.3096\n",
      "Epoch 10/50\n",
      "70000/70000 [==============================] - 10s 143us/step - loss: 0.3099\n",
      "Epoch 11/50\n",
      "70000/70000 [==============================] - 10s 143us/step - loss: 0.3095\n",
      "Epoch 12/50\n",
      "70000/70000 [==============================] - 10s 145us/step - loss: 0.3082\n",
      "Epoch 13/50\n",
      "70000/70000 [==============================] - 11s 155us/step - loss: 0.3081\n",
      "Epoch 14/50\n",
      "70000/70000 [==============================] - 10s 148us/step - loss: 0.3074\n",
      "Epoch 15/50\n",
      "70000/70000 [==============================] - 10s 148us/step - loss: 0.3075\n",
      "Epoch 16/50\n",
      "70000/70000 [==============================] - 10s 149us/step - loss: 0.3074\n",
      "Epoch 17/50\n",
      "70000/70000 [==============================] - 11s 153us/step - loss: 0.3079\n",
      "Epoch 18/50\n",
      "70000/70000 [==============================] - 17s 238us/step - loss: 0.3074\n",
      "Epoch 19/50\n",
      "70000/70000 [==============================] - 18s 264us/step - loss: 0.3070\n",
      "Epoch 20/50\n",
      "70000/70000 [==============================] - 12s 168us/step - loss: 0.3059\n",
      "Epoch 21/50\n",
      "70000/70000 [==============================] - 11s 160us/step - loss: 0.3063\n",
      "Epoch 22/50\n",
      "70000/70000 [==============================] - 11s 160us/step - loss: 0.3075\n",
      "Epoch 23/50\n",
      "70000/70000 [==============================] - 11s 163us/step - loss: 0.3055\n",
      "Epoch 24/50\n",
      "70000/70000 [==============================] - 17s 243us/step - loss: 0.3060\n",
      "Epoch 25/50\n",
      "70000/70000 [==============================] - 16s 228us/step - loss: 0.3062\n",
      "Epoch 26/50\n",
      "70000/70000 [==============================] - 14s 194us/step - loss: 0.3065\n",
      "Epoch 27/50\n",
      "70000/70000 [==============================] - 13s 184us/step - loss: 0.3047\n",
      "Epoch 28/50\n",
      "70000/70000 [==============================] - 12s 176us/step - loss: 0.3051\n",
      "Epoch 29/50\n",
      "70000/70000 [==============================] - 13s 193us/step - loss: 0.3048\n",
      "Epoch 30/50\n",
      "70000/70000 [==============================] - 14s 200us/step - loss: 0.3055\n",
      "Epoch 31/50\n",
      "70000/70000 [==============================] - 15s 213us/step - loss: 0.3044\n",
      "Epoch 32/50\n",
      "70000/70000 [==============================] - 15s 221us/step - loss: 0.3048\n",
      "Epoch 33/50\n",
      "70000/70000 [==============================] - 14s 202us/step - loss: 0.3040\n",
      "Epoch 34/50\n",
      "70000/70000 [==============================] - 12s 172us/step - loss: 0.3048\n",
      "Epoch 35/50\n",
      "70000/70000 [==============================] - 17s 240us/step - loss: 0.3043\n",
      "Epoch 36/50\n",
      "70000/70000 [==============================] - 14s 196us/step - loss: 0.3049\n",
      "Epoch 37/50\n",
      "70000/70000 [==============================] - 16s 224us/step - loss: 0.3036\n",
      "Epoch 38/50\n",
      "70000/70000 [==============================] - 13s 189us/step - loss: 0.3043\n",
      "Epoch 39/50\n",
      "70000/70000 [==============================] - 17s 241us/step - loss: 0.3037\n",
      "Epoch 40/50\n",
      "70000/70000 [==============================] - 13s 192us/step - loss: 0.3042\n",
      "Epoch 41/50\n",
      "70000/70000 [==============================] - 14s 195us/step - loss: 0.3035\n",
      "Epoch 42/50\n",
      "70000/70000 [==============================] - 15s 208us/step - loss: 0.3043\n",
      "Epoch 43/50\n",
      "70000/70000 [==============================] - 15s 211us/step - loss: 0.3045\n",
      "Epoch 44/50\n",
      "70000/70000 [==============================] - 15s 209us/step - loss: 0.3027\n",
      "Epoch 45/50\n",
      "70000/70000 [==============================] - 14s 203us/step - loss: 0.3046\n",
      "Epoch 46/50\n",
      "70000/70000 [==============================] - 16s 222us/step - loss: 0.3034\n",
      "Epoch 47/50\n",
      "70000/70000 [==============================] - 21s 297us/step - loss: 0.3038\n",
      "Epoch 48/50\n",
      "70000/70000 [==============================] - 15s 217us/step - loss: 0.3034\n",
      "Epoch 49/50\n",
      "70000/70000 [==============================] - 14s 194us/step - loss: 0.3039\n",
      "Epoch 50/50\n",
      "70000/70000 [==============================] - 14s 197us/step - loss: 0.3044\n"
     ]
    },
    {
     "data": {
      "text/plain": [
       "<keras.callbacks.History at 0x7f82bcdbb080>"
      ]
     },
     "execution_count": 92,
     "metadata": {},
     "output_type": "execute_result"
    }
   ],
   "source": [
    "model.fit({\n",
    "    'main_input': pd.concat((train.drop(['ID_CORRELATIVO', 'ATTRITION'], axis=1), \n",
    "                             train_extra), axis=1),\n",
    "    'ensemble_input': ensemble_train.drop('ID_CORRELATIVO', axis=1)\n",
    "    }, train['ATTRITION'], batch_size=32, epochs=50)"
   ]
  },
  {
   "cell_type": "code",
   "execution_count": 96,
   "metadata": {},
   "outputs": [],
   "source": [
    "y_test_pred = model.predict({\n",
    "    'main_input': pd.concat((test.drop(['ID_CORRELATIVO'], axis=1), \n",
    "                             test_extra), axis=1),\n",
    "    'ensemble_input': ensemble_test.drop('ID_CORRELATIVO', axis=1)})"
   ]
  },
  {
   "cell_type": "code",
   "execution_count": 99,
   "metadata": {},
   "outputs": [],
   "source": [
    "submission = pd.DataFrame()\n",
    "submission['ID_CORRELATIVO'] = test['ID_CORRELATIVO']\n",
    "submission['ATTRITION'] = y_test_pred[:,0]"
   ]
  },
  {
   "cell_type": "code",
   "execution_count": 100,
   "metadata": {},
   "outputs": [
    {
     "data": {
      "text/html": [
       "<div>\n",
       "<style scoped>\n",
       "    .dataframe tbody tr th:only-of-type {\n",
       "        vertical-align: middle;\n",
       "    }\n",
       "\n",
       "    .dataframe tbody tr th {\n",
       "        vertical-align: top;\n",
       "    }\n",
       "\n",
       "    .dataframe thead th {\n",
       "        text-align: right;\n",
       "    }\n",
       "</style>\n",
       "<table border=\"1\" class=\"dataframe\">\n",
       "  <thead>\n",
       "    <tr style=\"text-align: right;\">\n",
       "      <th></th>\n",
       "      <th>ID_CORRELATIVO</th>\n",
       "      <th>ATTRITION</th>\n",
       "    </tr>\n",
       "  </thead>\n",
       "  <tbody>\n",
       "    <tr>\n",
       "      <th>0</th>\n",
       "      <td>47411</td>\n",
       "      <td>0.334118</td>\n",
       "    </tr>\n",
       "    <tr>\n",
       "      <th>1</th>\n",
       "      <td>39861</td>\n",
       "      <td>0.223711</td>\n",
       "    </tr>\n",
       "    <tr>\n",
       "      <th>2</th>\n",
       "      <td>38898</td>\n",
       "      <td>0.023750</td>\n",
       "    </tr>\n",
       "    <tr>\n",
       "      <th>3</th>\n",
       "      <td>50927</td>\n",
       "      <td>0.019959</td>\n",
       "    </tr>\n",
       "    <tr>\n",
       "      <th>4</th>\n",
       "      <td>32969</td>\n",
       "      <td>0.421899</td>\n",
       "    </tr>\n",
       "  </tbody>\n",
       "</table>\n",
       "</div>"
      ],
      "text/plain": [
       "   ID_CORRELATIVO  ATTRITION\n",
       "0           47411   0.334118\n",
       "1           39861   0.223711\n",
       "2           38898   0.023750\n",
       "3           50927   0.019959\n",
       "4           32969   0.421899"
      ]
     },
     "execution_count": 100,
     "metadata": {},
     "output_type": "execute_result"
    }
   ],
   "source": [
    "submission.head()"
   ]
  },
  {
   "cell_type": "code",
   "execution_count": 101,
   "metadata": {},
   "outputs": [],
   "source": [
    "submission.to_csv('_data/submission14_StackNet1.csv', index=False)"
   ]
  },
  {
   "cell_type": "markdown",
   "metadata": {},
   "source": [
    "## New Architecture"
   ]
  },
  {
   "cell_type": "code",
   "execution_count": 102,
   "metadata": {},
   "outputs": [],
   "source": [
    "def create_model():\n",
    "    main_input = Input((train.shape[1] + train_extra.shape[1] - 2,), name='main_input')\n",
    "    layer1A = Dense(100)(main_input)\n",
    "    layer1A = Activation('relu')(layer1A)\n",
    "    layer1A = BatchNormalization()(layer1A)\n",
    "    layer1A = Dropout(0.2)(layer1A)\n",
    "    \n",
    "    layer1A = Dense(10)(layer1A)\n",
    "    layer1A = Activation('relu')(layer1A)\n",
    "    layer1A = BatchNormalization()(layer1A)\n",
    "    layer1A = Dropout(0.3)(layer1A)\n",
    "    \n",
    "    ensemble_input = Input((ensemble_train.shape[1] - 1,), name='ensemble_input')\n",
    "    layer1B = Dense(12)(ensemble_input)\n",
    "    layer1B = Activation('relu')(layer1B)\n",
    "    layer1B = BatchNormalization()(layer1B)\n",
    "    layer1B = Dropout(0.2)(layer1B)\n",
    "    \n",
    "    x = concatenate([layer1A, layer1B])\n",
    "    \n",
    "    x = Dense(100)(x)\n",
    "    x = Activation('relu')(x)\n",
    "    x = BatchNormalization()(x)\n",
    "    x = Dropout(0.5)(x)\n",
    "    \n",
    "    main_output = Dense(1, activation='sigmoid', name='main_output')(x)\n",
    "    \n",
    "    model = Model(inputs=[main_input, ensemble_input], outputs=[main_output])\n",
    "    \n",
    "    adam = Adam()\n",
    "    model.compile(loss='binary_crossentropy', optimizer=adam)\n",
    "    return model"
   ]
  },
  {
   "cell_type": "code",
   "execution_count": 103,
   "metadata": {},
   "outputs": [],
   "source": [
    "stacknet = create_model()"
   ]
  },
  {
   "cell_type": "code",
   "execution_count": 104,
   "metadata": {},
   "outputs": [
    {
     "name": "stdout",
     "output_type": "stream",
     "text": [
      "Epoch 1/50\n",
      "70000/70000 [==============================] - 8s 109us/step - loss: 0.4572\n",
      "Epoch 2/50\n",
      "70000/70000 [==============================] - 7s 107us/step - loss: 0.3559\n",
      "Epoch 3/50\n",
      "70000/70000 [==============================] - 8s 108us/step - loss: 0.3228\n",
      "Epoch 4/50\n",
      "70000/70000 [==============================] - 8s 112us/step - loss: 0.3146\n",
      "Epoch 5/50\n",
      "70000/70000 [==============================] - 7s 96us/step - loss: 0.3103\n",
      "Epoch 6/50\n",
      "70000/70000 [==============================] - 8s 118us/step - loss: 0.3092\n",
      "Epoch 7/50\n",
      "70000/70000 [==============================] - 7s 104us/step - loss: 0.3076\n",
      "Epoch 8/50\n",
      "70000/70000 [==============================] - 9s 125us/step - loss: 0.3078\n",
      "Epoch 9/50\n",
      "70000/70000 [==============================] - 10s 138us/step - loss: 0.3056\n",
      "Epoch 10/50\n",
      "70000/70000 [==============================] - 8s 111us/step - loss: 0.3063\n",
      "Epoch 11/50\n",
      "70000/70000 [==============================] - 8s 114us/step - loss: 0.3045\n",
      "Epoch 12/50\n",
      "70000/70000 [==============================] - 8s 117us/step - loss: 0.3049\n",
      "Epoch 13/50\n",
      "70000/70000 [==============================] - 9s 122us/step - loss: 0.3035\n",
      "Epoch 14/50\n",
      "70000/70000 [==============================] - 8s 121us/step - loss: 0.3041\n",
      "Epoch 15/50\n",
      "70000/70000 [==============================] - 9s 128us/step - loss: 0.3035\n",
      "Epoch 16/50\n",
      "70000/70000 [==============================] - 9s 123us/step - loss: 0.3027\n",
      "Epoch 17/50\n",
      "70000/70000 [==============================] - 8s 121us/step - loss: 0.3037\n",
      "Epoch 18/50\n",
      "70000/70000 [==============================] - 9s 123us/step - loss: 0.3037\n",
      "Epoch 19/50\n",
      "70000/70000 [==============================] - 9s 128us/step - loss: 0.3031\n",
      "Epoch 20/50\n",
      "70000/70000 [==============================] - 9s 124us/step - loss: 0.3026\n",
      "Epoch 21/50\n",
      "70000/70000 [==============================] - 9s 126us/step - loss: 0.3028\n",
      "Epoch 22/50\n",
      "70000/70000 [==============================] - 9s 121us/step - loss: 0.3017\n",
      "Epoch 23/50\n",
      "70000/70000 [==============================] - 9s 135us/step - loss: 0.3021\n",
      "Epoch 24/50\n",
      "70000/70000 [==============================] - 9s 133us/step - loss: 0.3023\n",
      "Epoch 25/50\n",
      "70000/70000 [==============================] - 10s 143us/step - loss: 0.3019\n",
      "Epoch 26/50\n",
      "70000/70000 [==============================] - 11s 154us/step - loss: 0.3021\n",
      "Epoch 27/50\n",
      "70000/70000 [==============================] - 9s 133us/step - loss: 0.3031\n",
      "Epoch 28/50\n",
      "70000/70000 [==============================] - 9s 128us/step - loss: 0.3019\n",
      "Epoch 29/50\n",
      "70000/70000 [==============================] - 10s 144us/step - loss: 0.3025\n",
      "Epoch 30/50\n",
      "70000/70000 [==============================] - 9s 131us/step - loss: 0.3028\n",
      "Epoch 31/50\n",
      "70000/70000 [==============================] - 9s 132us/step - loss: 0.3016\n",
      "Epoch 32/50\n",
      "70000/70000 [==============================] - 9s 133us/step - loss: 0.3012\n",
      "Epoch 33/50\n",
      "70000/70000 [==============================] - 9s 132us/step - loss: 0.3021\n",
      "Epoch 34/50\n",
      "70000/70000 [==============================] - 10s 137us/step - loss: 0.3019\n",
      "Epoch 35/50\n",
      "70000/70000 [==============================] - 9s 128us/step - loss: 0.3023\n",
      "Epoch 36/50\n",
      "70000/70000 [==============================] - 11s 155us/step - loss: 0.3016\n",
      "Epoch 37/50\n",
      "70000/70000 [==============================] - 9s 133us/step - loss: 0.3012\n",
      "Epoch 38/50\n",
      "70000/70000 [==============================] - 9s 130us/step - loss: 0.3010\n",
      "Epoch 39/50\n",
      "70000/70000 [==============================] - 11s 151us/step - loss: 0.3019\n",
      "Epoch 40/50\n",
      "70000/70000 [==============================] - 9s 135us/step - loss: 0.3012\n",
      "Epoch 41/50\n",
      "70000/70000 [==============================] - 9s 132us/step - loss: 0.3023\n",
      "Epoch 42/50\n",
      "70000/70000 [==============================] - 9s 134us/step - loss: 0.3022\n",
      "Epoch 43/50\n",
      "70000/70000 [==============================] - 11s 151us/step - loss: 0.3018\n",
      "Epoch 44/50\n",
      "70000/70000 [==============================] - 10s 137us/step - loss: 0.3014\n",
      "Epoch 45/50\n",
      "70000/70000 [==============================] - 10s 136us/step - loss: 0.3016\n",
      "Epoch 46/50\n",
      "70000/70000 [==============================] - 9s 132us/step - loss: 0.3016\n",
      "Epoch 47/50\n",
      "70000/70000 [==============================] - 10s 146us/step - loss: 0.3007\n",
      "Epoch 48/50\n",
      "70000/70000 [==============================] - 11s 150us/step - loss: 0.3003\n",
      "Epoch 49/50\n",
      "70000/70000 [==============================] - 10s 144us/step - loss: 0.3013\n",
      "Epoch 50/50\n",
      "70000/70000 [==============================] - 12s 168us/step - loss: 0.3012\n"
     ]
    },
    {
     "data": {
      "text/plain": [
       "<keras.callbacks.History at 0x7f82a04af4a8>"
      ]
     },
     "execution_count": 104,
     "metadata": {},
     "output_type": "execute_result"
    }
   ],
   "source": [
    "stacknet.fit({\n",
    "    'main_input': pd.concat((train.drop(['ID_CORRELATIVO', 'ATTRITION'], axis=1), \n",
    "                             train_extra), axis=1),\n",
    "    'ensemble_input': ensemble_train.drop('ID_CORRELATIVO', axis=1)\n",
    "    }, train['ATTRITION'], batch_size=64, epochs=50)"
   ]
  },
  {
   "cell_type": "code",
   "execution_count": 109,
   "metadata": {},
   "outputs": [
    {
     "name": "stdout",
     "output_type": "stream",
     "text": [
      "Epoch 1/10\n",
      "70000/70000 [==============================] - 6s 92us/step - loss: 0.3009\n",
      "Epoch 2/10\n",
      "70000/70000 [==============================] - 8s 109us/step - loss: 0.3006\n",
      "Epoch 3/10\n",
      "70000/70000 [==============================] - 10s 137us/step - loss: 0.3021\n",
      "Epoch 4/10\n",
      "70000/70000 [==============================] - 10s 138us/step - loss: 0.3008\n",
      "Epoch 5/10\n",
      "70000/70000 [==============================] - 11s 155us/step - loss: 0.3009\n",
      "Epoch 6/10\n",
      "70000/70000 [==============================] - 8s 114us/step - loss: 0.3003\n",
      "Epoch 7/10\n",
      "70000/70000 [==============================] - 8s 116us/step - loss: 0.3008\n",
      "Epoch 8/10\n",
      "70000/70000 [==============================] - 8s 116us/step - loss: 0.3003\n",
      "Epoch 9/10\n",
      "70000/70000 [==============================] - 9s 134us/step - loss: 0.3013\n",
      "Epoch 10/10\n",
      "70000/70000 [==============================] - 9s 126us/step - loss: 0.3002\n"
     ]
    },
    {
     "data": {
      "text/plain": [
       "<keras.callbacks.History at 0x7f8284a5d860>"
      ]
     },
     "execution_count": 109,
     "metadata": {},
     "output_type": "execute_result"
    }
   ],
   "source": [
    "stacknet.fit({\n",
    "    'main_input': pd.concat((train.drop(['ID_CORRELATIVO', 'ATTRITION'], axis=1), \n",
    "                             train_extra), axis=1),\n",
    "    'ensemble_input': ensemble_train.drop('ID_CORRELATIVO', axis=1)\n",
    "    }, train['ATTRITION'], batch_size=64, epochs=10)"
   ]
  },
  {
   "cell_type": "code",
   "execution_count": 110,
   "metadata": {},
   "outputs": [
    {
     "name": "stdout",
     "output_type": "stream",
     "text": [
      "Epoch 1/10\n",
      "70000/70000 [==============================] - 6s 92us/step - loss: 0.3009\n",
      "Epoch 2/10\n",
      "70000/70000 [==============================] - 6s 92us/step - loss: 0.3010\n",
      "Epoch 3/10\n",
      "70000/70000 [==============================] - 6s 92us/step - loss: 0.3004\n",
      "Epoch 4/10\n",
      "70000/70000 [==============================] - 8s 108us/step - loss: 0.3008\n",
      "Epoch 5/10\n",
      "70000/70000 [==============================] - 8s 112us/step - loss: 0.3003\n",
      "Epoch 6/10\n",
      "70000/70000 [==============================] - 8s 115us/step - loss: 0.3006\n",
      "Epoch 7/10\n",
      "70000/70000 [==============================] - 9s 136us/step - loss: 0.3002\n",
      "Epoch 8/10\n",
      "70000/70000 [==============================] - 9s 129us/step - loss: 0.3012\n",
      "Epoch 9/10\n",
      "70000/70000 [==============================] - 9s 125us/step - loss: 0.3006\n",
      "Epoch 10/10\n",
      "70000/70000 [==============================] - 9s 127us/step - loss: 0.3009\n"
     ]
    },
    {
     "data": {
      "text/plain": [
       "<keras.callbacks.History at 0x7f82849bf9b0>"
      ]
     },
     "execution_count": 110,
     "metadata": {},
     "output_type": "execute_result"
    }
   ],
   "source": [
    "stacknet.fit({\n",
    "    'main_input': pd.concat((train.drop(['ID_CORRELATIVO', 'ATTRITION'], axis=1), \n",
    "                             train_extra), axis=1),\n",
    "    'ensemble_input': ensemble_train.drop('ID_CORRELATIVO', axis=1)\n",
    "    }, train['ATTRITION'], batch_size=64, epochs=10)"
   ]
  },
  {
   "cell_type": "code",
   "execution_count": 111,
   "metadata": {},
   "outputs": [],
   "source": [
    "y_test_pred = stacknet.predict({\n",
    "    'main_input': pd.concat((test.drop(['ID_CORRELATIVO'], axis=1), \n",
    "                             test_extra), axis=1),\n",
    "    'ensemble_input': ensemble_test.drop('ID_CORRELATIVO', axis=1)})"
   ]
  },
  {
   "cell_type": "code",
   "execution_count": 112,
   "metadata": {},
   "outputs": [],
   "source": [
    "submission = pd.DataFrame()\n",
    "submission['ID_CORRELATIVO'] = test['ID_CORRELATIVO']\n",
    "submission['ATTRITION'] = y_test_pred[:,0]"
   ]
  },
  {
   "cell_type": "code",
   "execution_count": 107,
   "metadata": {},
   "outputs": [
    {
     "data": {
      "text/html": [
       "<div>\n",
       "<style scoped>\n",
       "    .dataframe tbody tr th:only-of-type {\n",
       "        vertical-align: middle;\n",
       "    }\n",
       "\n",
       "    .dataframe tbody tr th {\n",
       "        vertical-align: top;\n",
       "    }\n",
       "\n",
       "    .dataframe thead th {\n",
       "        text-align: right;\n",
       "    }\n",
       "</style>\n",
       "<table border=\"1\" class=\"dataframe\">\n",
       "  <thead>\n",
       "    <tr style=\"text-align: right;\">\n",
       "      <th></th>\n",
       "      <th>ID_CORRELATIVO</th>\n",
       "      <th>ATTRITION</th>\n",
       "    </tr>\n",
       "  </thead>\n",
       "  <tbody>\n",
       "    <tr>\n",
       "      <th>0</th>\n",
       "      <td>47411</td>\n",
       "      <td>0.251947</td>\n",
       "    </tr>\n",
       "    <tr>\n",
       "      <th>1</th>\n",
       "      <td>39861</td>\n",
       "      <td>0.254838</td>\n",
       "    </tr>\n",
       "    <tr>\n",
       "      <th>2</th>\n",
       "      <td>38898</td>\n",
       "      <td>0.026838</td>\n",
       "    </tr>\n",
       "    <tr>\n",
       "      <th>3</th>\n",
       "      <td>50927</td>\n",
       "      <td>0.024988</td>\n",
       "    </tr>\n",
       "    <tr>\n",
       "      <th>4</th>\n",
       "      <td>32969</td>\n",
       "      <td>0.296249</td>\n",
       "    </tr>\n",
       "  </tbody>\n",
       "</table>\n",
       "</div>"
      ],
      "text/plain": [
       "   ID_CORRELATIVO  ATTRITION\n",
       "0           47411   0.251947\n",
       "1           39861   0.254838\n",
       "2           38898   0.026838\n",
       "3           50927   0.024988\n",
       "4           32969   0.296249"
      ]
     },
     "execution_count": 107,
     "metadata": {},
     "output_type": "execute_result"
    }
   ],
   "source": [
    "submission.head()"
   ]
  },
  {
   "cell_type": "code",
   "execution_count": 113,
   "metadata": {},
   "outputs": [
    {
     "data": {
      "text/html": [
       "<div>\n",
       "<style scoped>\n",
       "    .dataframe tbody tr th:only-of-type {\n",
       "        vertical-align: middle;\n",
       "    }\n",
       "\n",
       "    .dataframe tbody tr th {\n",
       "        vertical-align: top;\n",
       "    }\n",
       "\n",
       "    .dataframe thead th {\n",
       "        text-align: right;\n",
       "    }\n",
       "</style>\n",
       "<table border=\"1\" class=\"dataframe\">\n",
       "  <thead>\n",
       "    <tr style=\"text-align: right;\">\n",
       "      <th></th>\n",
       "      <th>ID_CORRELATIVO</th>\n",
       "      <th>ATTRITION</th>\n",
       "    </tr>\n",
       "  </thead>\n",
       "  <tbody>\n",
       "    <tr>\n",
       "      <th>0</th>\n",
       "      <td>47411</td>\n",
       "      <td>0.244099</td>\n",
       "    </tr>\n",
       "    <tr>\n",
       "      <th>1</th>\n",
       "      <td>39861</td>\n",
       "      <td>0.246848</td>\n",
       "    </tr>\n",
       "    <tr>\n",
       "      <th>2</th>\n",
       "      <td>38898</td>\n",
       "      <td>0.016385</td>\n",
       "    </tr>\n",
       "    <tr>\n",
       "      <th>3</th>\n",
       "      <td>50927</td>\n",
       "      <td>0.019840</td>\n",
       "    </tr>\n",
       "    <tr>\n",
       "      <th>4</th>\n",
       "      <td>32969</td>\n",
       "      <td>0.300241</td>\n",
       "    </tr>\n",
       "  </tbody>\n",
       "</table>\n",
       "</div>"
      ],
      "text/plain": [
       "   ID_CORRELATIVO  ATTRITION\n",
       "0           47411   0.244099\n",
       "1           39861   0.246848\n",
       "2           38898   0.016385\n",
       "3           50927   0.019840\n",
       "4           32969   0.300241"
      ]
     },
     "execution_count": 113,
     "metadata": {},
     "output_type": "execute_result"
    }
   ],
   "source": [
    "submission.head()"
   ]
  },
  {
   "cell_type": "code",
   "execution_count": 114,
   "metadata": {},
   "outputs": [],
   "source": [
    "submission.to_csv('_data/submission15_StackNet_deep_02.csv', index=False)"
   ]
  },
  {
   "cell_type": "code",
   "execution_count": null,
   "metadata": {},
   "outputs": [],
   "source": []
  }
 ],
 "metadata": {
  "kernelspec": {
   "display_name": "Python 3",
   "language": "python",
   "name": "python3"
  },
  "language_info": {
   "codemirror_mode": {
    "name": "ipython",
    "version": 3
   },
   "file_extension": ".py",
   "mimetype": "text/x-python",
   "name": "python",
   "nbconvert_exporter": "python",
   "pygments_lexer": "ipython3",
   "version": "3.6.3"
  }
 },
 "nbformat": 4,
 "nbformat_minor": 2
}
