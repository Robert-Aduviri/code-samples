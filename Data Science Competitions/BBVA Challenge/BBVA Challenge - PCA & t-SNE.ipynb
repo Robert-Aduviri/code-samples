{
 "cells": [
  {
   "cell_type": "code",
   "execution_count": 1,
   "metadata": {},
   "outputs": [],
   "source": [
    "%matplotlib inline\n",
    "%config InlineBackend.figure_format = 'retina'\n",
    "import numpy as np\n",
    "import pandas as pd\n",
    "import matplotlib.pyplot as plt\n",
    "import seaborn as sns\n",
    "sns.set()"
   ]
  },
  {
   "cell_type": "code",
   "execution_count": 2,
   "metadata": {},
   "outputs": [],
   "source": [
    "import random\n",
    "import json\n",
    "from functools import reduce\n",
    "from itertools import product\n",
    "from operator import mul"
   ]
  },
  {
   "cell_type": "code",
   "execution_count": 3,
   "metadata": {},
   "outputs": [],
   "source": [
    "# from xgboost import XGBClassifier\n",
    "# from lightgbm import LGBMClassifier\n",
    "# from catboost import CatBoostClassifier\n",
    "from sklearn.ensemble import RandomForestClassifier\n",
    "from sklearn.ensemble import ExtraTreesClassifier\n",
    "from sklearn.linear_model import SGDClassifier\n",
    "from sklearn.linear_model import LogisticRegression\n",
    "from sklearn.neural_network import MLPClassifier\n",
    "from sklearn.neighbors import KNeighborsClassifier\n",
    "from sklearn.svm import SVC\n",
    "from sklearn.svm import LinearSVC\n",
    "import time\n",
    "\n",
    "from sklearn.metrics import accuracy_score, f1_score, roc_auc_score, log_loss\n",
    "from sklearn.model_selection import StratifiedKFold"
   ]
  },
  {
   "cell_type": "code",
   "execution_count": 4,
   "metadata": {},
   "outputs": [],
   "source": [
    "import os\n",
    "def beep(duration=2, freq=440):\n",
    "    os.system('play --no-show-progress --null --channels 1 synth %s sine %f' % (duration, freq))"
   ]
  },
  {
   "cell_type": "code",
   "execution_count": 5,
   "metadata": {},
   "outputs": [],
   "source": [
    "# run PCA and check eigen values to find number of latent features\n",
    "# use PCA output as features\n",
    "# use LDA output as features\n",
    "# use Matrix Factorization as features\n",
    "# NMF factorization (>=0) NMF(log(X + 1))\n",
    "# use AE bottleneck as features\n",
    "# add submotivo as features\n",
    "# find 20 clusters and make features as the L2-distance to each cluster\n",
    "# use SVM output as features\n",
    "# use stats features\n",
    "\n",
    "# vowpal-wabbit linear models\n",
    "# keras NN with dropout & batch norm"
   ]
  },
  {
   "cell_type": "code",
   "execution_count": 6,
   "metadata": {},
   "outputs": [],
   "source": [
    "kfolds = StratifiedKFold(n_splits=5, shuffle=True, random_state=1)"
   ]
  },
  {
   "cell_type": "code",
   "execution_count": 7,
   "metadata": {},
   "outputs": [],
   "source": [
    "train = pd.read_csv('_data/train_independent.csv')\n",
    "test = pd.read_csv('_data/test_independent.csv')"
   ]
  },
  {
   "cell_type": "code",
   "execution_count": 10,
   "metadata": {},
   "outputs": [],
   "source": [
    "def run_model(model, X, y, dataset_desc='', params_desc=''):\n",
    "    model_name = str(model.__class__).split('.')[-1].replace('>','').replace(\"'\",'')\n",
    "    print(model_name)\n",
    "    auc = []\n",
    "    logloss = []\n",
    "    train_auc = []\n",
    "    train_logloss = []\n",
    "    start = int(time.time() * 1000)\n",
    "    for train_idx, test_idx in kfolds.split(X, y):\n",
    "        model.fit(X.iloc[train_idx,:], y[train_idx])\n",
    "        \n",
    "        y_ = model.predict_proba(X.iloc[test_idx,:])[:,1]\n",
    "        auc += [roc_auc_score(y.iloc[test_idx], y_)]\n",
    "        logloss += [log_loss(y.iloc[test_idx], y_)]\n",
    "        \n",
    "        y_ = model.predict_proba(X.iloc[train_idx,:])[:,1]\n",
    "        train_auc += [roc_auc_score(y.iloc[train_idx], y_)]\n",
    "        train_logloss += [log_loss(y.iloc[train_idx], y_)]\n",
    "        \n",
    "        print(logloss[-1], train_logloss[-1])\n",
    "        \n",
    "    end = int(time.time() * 1000)\n",
    "    results.loc[len(results)] = [dataset_desc, model_name, params_desc,\n",
    "                                 np.mean(auc), np.std(auc), \n",
    "                                 np.mean(logloss), np.std(logloss), str(end - start),\n",
    "                                 np.mean(train_logloss), np.std(train_logloss),\n",
    "                                 np.mean(train_auc), np.std(train_auc), \n",
    "                                 np.mean(logloss) - np.mean(train_logloss)]\n",
    "    print(f'logloss: {np.mean(logloss)}, train_logloss: {np.mean(train_logloss)}')\n",
    "#     winsound.Beep(2500, 1000)"
   ]
  },
  {
   "cell_type": "code",
   "execution_count": 8,
   "metadata": {},
   "outputs": [],
   "source": [
    "model = SVC(kernel='linear', verbose=True)"
   ]
  },
  {
   "cell_type": "code",
   "execution_count": 9,
   "metadata": {},
   "outputs": [
    {
     "name": "stdout",
     "output_type": "stream",
     "text": [
      "[LibSVM]"
     ]
    },
    {
     "data": {
      "text/plain": [
       "SVC(C=1.0, cache_size=200, class_weight=None, coef0=0.0,\n",
       "  decision_function_shape='ovr', degree=3, gamma='auto', kernel='linear',\n",
       "  max_iter=-1, probability=False, random_state=None, shrinking=True,\n",
       "  tol=0.001, verbose=True)"
      ]
     },
     "execution_count": 9,
     "metadata": {},
     "output_type": "execute_result"
    }
   ],
   "source": [
    "model.fit(train.drop(['ID_CORRELATIVO', 'ATTRITION'], axis=1), \n",
    "          train['ATTRITION'])"
   ]
  },
  {
   "cell_type": "code",
   "execution_count": 13,
   "metadata": {},
   "outputs": [],
   "source": [
    "params = {\n",
    "    'C': 1,\n",
    "    'kernel': 'linear',\n",
    "    'verbose': True,\n",
    "    'probability': True\n",
    "}"
   ]
  },
  {
   "cell_type": "code",
   "execution_count": null,
   "metadata": {},
   "outputs": [],
   "source": [
    "run_model(SVC(**params), \n",
    "          train.drop(['ID_CORRELATIVO', 'ATTRITION'], axis=1), \n",
    "          train['ATTRITION'], \n",
    "          'independent', str(params))"
   ]
  },
  {
   "cell_type": "markdown",
   "metadata": {},
   "source": [
    "## PCA"
   ]
  },
  {
   "cell_type": "code",
   "execution_count": 15,
   "metadata": {},
   "outputs": [],
   "source": [
    "from sklearn.decomposition import PCA"
   ]
  },
  {
   "cell_type": "code",
   "execution_count": 11,
   "metadata": {},
   "outputs": [
    {
     "data": {
      "text/plain": [
       "(70000, 73)"
      ]
     },
     "execution_count": 11,
     "metadata": {},
     "output_type": "execute_result"
    }
   ],
   "source": [
    "train.shape"
   ]
  },
  {
   "cell_type": "code",
   "execution_count": 22,
   "metadata": {},
   "outputs": [],
   "source": [
    "pca = PCA(n_components=71)"
   ]
  },
  {
   "cell_type": "code",
   "execution_count": 23,
   "metadata": {},
   "outputs": [
    {
     "data": {
      "text/plain": [
       "PCA(copy=True, iterated_power='auto', n_components=71, random_state=None,\n",
       "  svd_solver='auto', tol=0.0, whiten=False)"
      ]
     },
     "execution_count": 23,
     "metadata": {},
     "output_type": "execute_result"
    }
   ],
   "source": [
    "pca.fit(\n",
    "    pd.concat((train.drop(['ID_CORRELATIVO', 'ATTRITION'], axis=1),\n",
    "              test.drop('ID_CORRELATIVO', axis=1))))"
   ]
  },
  {
   "cell_type": "code",
   "execution_count": 24,
   "metadata": {},
   "outputs": [
    {
     "data": {
      "text/plain": [
       "Text(0,0.5,'explained_variance_')"
      ]
     },
     "execution_count": 24,
     "metadata": {},
     "output_type": "execute_result"
    },
    {
     "data": {
      "image/png": "[encoded data removed]",
      "text/plain": [
       "<matplotlib.figure.Figure at 0x7f2a1f2f0588>"
      ]
     },
     "metadata": {
      "image/png": {
       "height": 397,
       "width": 555
      }
     },
     "output_type": "display_data"
    }
   ],
   "source": [
    "plt.figure(1, figsize=(10, 7))\n",
    "plt.clf()\n",
    "plt.axes([.2, .2, .7, .7])\n",
    "plt.plot(pca.explained_variance_, linewidth=2)\n",
    "plt.axis('tight')\n",
    "plt.xlabel('n_components')\n",
    "plt.ylabel('explained_variance_')"
   ]
  },
  {
   "cell_type": "code",
   "execution_count": 16,
   "metadata": {},
   "outputs": [],
   "source": [
    "pca = PCA(n_components=30)"
   ]
  },
  {
   "cell_type": "code",
   "execution_count": 17,
   "metadata": {},
   "outputs": [
    {
     "data": {
      "text/plain": [
       "PCA(copy=True, iterated_power='auto', n_components=30, random_state=None,\n",
       "  svd_solver='auto', tol=0.0, whiten=False)"
      ]
     },
     "execution_count": 17,
     "metadata": {},
     "output_type": "execute_result"
    }
   ],
   "source": [
    "pca.fit(\n",
    "    pd.concat((train.drop(['ID_CORRELATIVO', 'ATTRITION'], axis=1),\n",
    "              test.drop('ID_CORRELATIVO', axis=1))))"
   ]
  },
  {
   "cell_type": "code",
   "execution_count": 18,
   "metadata": {},
   "outputs": [],
   "source": [
    "train_pca = pca.transform(train.drop(['ID_CORRELATIVO', 'ATTRITION'], axis=1))"
   ]
  },
  {
   "cell_type": "code",
   "execution_count": 19,
   "metadata": {},
   "outputs": [],
   "source": [
    "test_pca = pca.transform(test.drop('ID_CORRELATIVO', axis=1))"
   ]
  },
  {
   "cell_type": "code",
   "execution_count": 34,
   "metadata": {},
   "outputs": [],
   "source": [
    "pd.DataFrame(train_pca).to_csv('train_pca.csv', index=False)"
   ]
  },
  {
   "cell_type": "code",
   "execution_count": 35,
   "metadata": {},
   "outputs": [],
   "source": [
    "pd.DataFrame(test_pca).to_csv('test_pca.csv', index=False)"
   ]
  },
  {
   "cell_type": "markdown",
   "metadata": {},
   "source": [
    "## t-SNE"
   ]
  },
  {
   "cell_type": "code",
   "execution_count": 11,
   "metadata": {},
   "outputs": [],
   "source": [
    "from sklearn.manifold import TSNE"
   ]
  },
  {
   "cell_type": "code",
   "execution_count": 23,
   "metadata": {},
   "outputs": [],
   "source": [
    "tsne = TSNE(n_components=3, verbose=3)"
   ]
  },
  {
   "cell_type": "code",
   "execution_count": 24,
   "metadata": {},
   "outputs": [
    {
     "name": "stdout",
     "output_type": "stream",
     "text": [
      "[t-SNE] Computing 91 nearest neighbors...\n",
      "[t-SNE] Indexed 100000 samples in 0.354s...\n",
      "[t-SNE] Computed neighbors for 100000 samples in 265.699s...\n",
      "[t-SNE] Computed conditional probabilities for sample 1000 / 100000\n",
      "[t-SNE] Computed conditional probabilities for sample 2000 / 100000\n",
      "[t-SNE] Computed conditional probabilities for sample 3000 / 100000\n",
      "[t-SNE] Computed conditional probabilities for sample 4000 / 100000\n",
      "[t-SNE] Computed conditional probabilities for sample 5000 / 100000\n",
      "[t-SNE] Computed conditional probabilities for sample 6000 / 100000\n",
      "[t-SNE] Computed conditional probabilities for sample 7000 / 100000\n",
      "[t-SNE] Computed conditional probabilities for sample 8000 / 100000\n",
      "[t-SNE] Computed conditional probabilities for sample 9000 / 100000\n",
      "[t-SNE] Computed conditional probabilities for sample 10000 / 100000\n",
      "[t-SNE] Computed conditional probabilities for sample 11000 / 100000\n",
      "[t-SNE] Computed conditional probabilities for sample 12000 / 100000\n",
      "[t-SNE] Computed conditional probabilities for sample 13000 / 100000\n",
      "[t-SNE] Computed conditional probabilities for sample 14000 / 100000\n",
      "[t-SNE] Computed conditional probabilities for sample 15000 / 100000\n",
      "[t-SNE] Computed conditional probabilities for sample 16000 / 100000\n",
      "[t-SNE] Computed conditional probabilities for sample 17000 / 100000\n",
      "[t-SNE] Computed conditional probabilities for sample 18000 / 100000\n",
      "[t-SNE] Computed conditional probabilities for sample 19000 / 100000\n",
      "[t-SNE] Computed conditional probabilities for sample 20000 / 100000\n",
      "[t-SNE] Computed conditional probabilities for sample 21000 / 100000\n",
      "[t-SNE] Computed conditional probabilities for sample 22000 / 100000\n",
      "[t-SNE] Computed conditional probabilities for sample 23000 / 100000\n",
      "[t-SNE] Computed conditional probabilities for sample 24000 / 100000\n",
      "[t-SNE] Computed conditional probabilities for sample 25000 / 100000\n",
      "[t-SNE] Computed conditional probabilities for sample 26000 / 100000\n",
      "[t-SNE] Computed conditional probabilities for sample 27000 / 100000\n",
      "[t-SNE] Computed conditional probabilities for sample 28000 / 100000\n",
      "[t-SNE] Computed conditional probabilities for sample 29000 / 100000\n",
      "[t-SNE] Computed conditional probabilities for sample 30000 / 100000\n",
      "[t-SNE] Computed conditional probabilities for sample 31000 / 100000\n",
      "[t-SNE] Computed conditional probabilities for sample 32000 / 100000\n",
      "[t-SNE] Computed conditional probabilities for sample 33000 / 100000\n",
      "[t-SNE] Computed conditional probabilities for sample 34000 / 100000\n",
      "[t-SNE] Computed conditional probabilities for sample 35000 / 100000\n",
      "[t-SNE] Computed conditional probabilities for sample 36000 / 100000\n",
      "[t-SNE] Computed conditional probabilities for sample 37000 / 100000\n",
      "[t-SNE] Computed conditional probabilities for sample 38000 / 100000\n",
      "[t-SNE] Computed conditional probabilities for sample 39000 / 100000\n",
      "[t-SNE] Computed conditional probabilities for sample 40000 / 100000\n",
      "[t-SNE] Computed conditional probabilities for sample 41000 / 100000\n",
      "[t-SNE] Computed conditional probabilities for sample 42000 / 100000\n",
      "[t-SNE] Computed conditional probabilities for sample 43000 / 100000\n",
      "[t-SNE] Computed conditional probabilities for sample 44000 / 100000\n",
      "[t-SNE] Computed conditional probabilities for sample 45000 / 100000\n",
      "[t-SNE] Computed conditional probabilities for sample 46000 / 100000\n",
      "[t-SNE] Computed conditional probabilities for sample 47000 / 100000\n",
      "[t-SNE] Computed conditional probabilities for sample 48000 / 100000\n",
      "[t-SNE] Computed conditional probabilities for sample 49000 / 100000\n",
      "[t-SNE] Computed conditional probabilities for sample 50000 / 100000\n",
      "[t-SNE] Computed conditional probabilities for sample 51000 / 100000\n",
      "[t-SNE] Computed conditional probabilities for sample 52000 / 100000\n",
      "[t-SNE] Computed conditional probabilities for sample 53000 / 100000\n",
      "[t-SNE] Computed conditional probabilities for sample 54000 / 100000\n",
      "[t-SNE] Computed conditional probabilities for sample 55000 / 100000\n",
      "[t-SNE] Computed conditional probabilities for sample 56000 / 100000\n",
      "[t-SNE] Computed conditional probabilities for sample 57000 / 100000\n",
      "[t-SNE] Computed conditional probabilities for sample 58000 / 100000\n",
      "[t-SNE] Computed conditional probabilities for sample 59000 / 100000\n",
      "[t-SNE] Computed conditional probabilities for sample 60000 / 100000\n",
      "[t-SNE] Computed conditional probabilities for sample 61000 / 100000\n",
      "[t-SNE] Computed conditional probabilities for sample 62000 / 100000\n",
      "[t-SNE] Computed conditional probabilities for sample 63000 / 100000\n",
      "[t-SNE] Computed conditional probabilities for sample 64000 / 100000\n",
      "[t-SNE] Computed conditional probabilities for sample 65000 / 100000\n",
      "[t-SNE] Computed conditional probabilities for sample 66000 / 100000\n",
      "[t-SNE] Computed conditional probabilities for sample 67000 / 100000\n",
      "[t-SNE] Computed conditional probabilities for sample 68000 / 100000\n",
      "[t-SNE] Computed conditional probabilities for sample 69000 / 100000\n",
      "[t-SNE] Computed conditional probabilities for sample 70000 / 100000\n",
      "[t-SNE] Computed conditional probabilities for sample 71000 / 100000\n",
      "[t-SNE] Computed conditional probabilities for sample 72000 / 100000\n",
      "[t-SNE] Computed conditional probabilities for sample 73000 / 100000\n",
      "[t-SNE] Computed conditional probabilities for sample 74000 / 100000\n",
      "[t-SNE] Computed conditional probabilities for sample 75000 / 100000\n",
      "[t-SNE] Computed conditional probabilities for sample 76000 / 100000\n",
      "[t-SNE] Computed conditional probabilities for sample 77000 / 100000\n",
      "[t-SNE] Computed conditional probabilities for sample 78000 / 100000\n",
      "[t-SNE] Computed conditional probabilities for sample 79000 / 100000\n",
      "[t-SNE] Computed conditional probabilities for sample 80000 / 100000\n",
      "[t-SNE] Computed conditional probabilities for sample 81000 / 100000\n",
      "[t-SNE] Computed conditional probabilities for sample 82000 / 100000\n",
      "[t-SNE] Computed conditional probabilities for sample 83000 / 100000\n",
      "[t-SNE] Computed conditional probabilities for sample 84000 / 100000\n",
      "[t-SNE] Computed conditional probabilities for sample 85000 / 100000\n",
      "[t-SNE] Computed conditional probabilities for sample 86000 / 100000\n",
      "[t-SNE] Computed conditional probabilities for sample 87000 / 100000\n",
      "[t-SNE] Computed conditional probabilities for sample 88000 / 100000\n",
      "[t-SNE] Computed conditional probabilities for sample 89000 / 100000\n",
      "[t-SNE] Computed conditional probabilities for sample 90000 / 100000\n",
      "[t-SNE] Computed conditional probabilities for sample 91000 / 100000\n",
      "[t-SNE] Computed conditional probabilities for sample 92000 / 100000\n",
      "[t-SNE] Computed conditional probabilities for sample 93000 / 100000\n",
      "[t-SNE] Computed conditional probabilities for sample 94000 / 100000\n",
      "[t-SNE] Computed conditional probabilities for sample 95000 / 100000\n",
      "[t-SNE] Computed conditional probabilities for sample 96000 / 100000\n",
      "[t-SNE] Computed conditional probabilities for sample 97000 / 100000\n",
      "[t-SNE] Computed conditional probabilities for sample 98000 / 100000\n",
      "[t-SNE] Computed conditional probabilities for sample 99000 / 100000\n",
      "[t-SNE] Computed conditional probabilities for sample 100000 / 100000\n",
      "[t-SNE] Mean sigma: 0.000000\n",
      "[t-SNE] Computed conditional probabilities in 7.145s\n",
      "[t-SNE] Iteration 50: error = 119.5898819, gradient norm = 0.0000003 (50 iterations in 1636.765s)\n",
      "[t-SNE] Iteration 100: error = 119.5870514, gradient norm = 0.0001178 (50 iterations in 4379.736s)\n",
      "[t-SNE] Iteration 150: error = 102.1771393, gradient norm = 0.0011664 (50 iterations in 1323.201s)\n",
      "[t-SNE] Iteration 200: error = 93.4588547, gradient norm = 0.0004464 (50 iterations in 578.678s)\n",
      "[t-SNE] Iteration 250: error = 90.3304901, gradient norm = 0.0002616 (50 iterations in 551.590s)\n",
      "[t-SNE] KL divergence after 250 iterations with early exaggeration: 90.330490\n",
      "[t-SNE] Iteration 300: error = 4.8020353, gradient norm = 0.0007249 (50 iterations in 555.126s)\n",
      "[t-SNE] Iteration 350: error = 4.3180346, gradient norm = 0.0004364 (50 iterations in 565.817s)\n",
      "[t-SNE] Iteration 400: error = 3.9081125, gradient norm = 0.0002993 (50 iterations in 600.438s)\n",
      "[t-SNE] Iteration 450: error = 3.5755010, gradient norm = 0.0002156 (50 iterations in 622.332s)\n",
      "[t-SNE] Iteration 500: error = 3.3150516, gradient norm = 0.0001628 (50 iterations in 630.749s)\n",
      "[t-SNE] Iteration 550: error = 3.1082981, gradient norm = 0.0001277 (50 iterations in 648.291s)\n",
      "[t-SNE] Iteration 600: error = 2.9406219, gradient norm = 0.0001030 (50 iterations in 626.239s)\n",
      "[t-SNE] Iteration 650: error = 2.8022473, gradient norm = 0.0000850 (50 iterations in 613.295s)\n",
      "[t-SNE] Iteration 700: error = 2.6856232, gradient norm = 0.0000717 (50 iterations in 620.441s)\n",
      "[t-SNE] Iteration 750: error = 2.5856817, gradient norm = 0.0000613 (50 iterations in 623.258s)\n",
      "[t-SNE] Iteration 800: error = 2.4999335, gradient norm = 0.0000532 (50 iterations in 628.027s)\n",
      "[t-SNE] Iteration 850: error = 2.4248719, gradient norm = 0.0000466 (50 iterations in 619.789s)\n",
      "[t-SNE] Iteration 900: error = 2.3588355, gradient norm = 0.0000413 (50 iterations in 619.916s)\n",
      "[t-SNE] Iteration 950: error = 2.2999985, gradient norm = 0.0000369 (50 iterations in 618.334s)\n",
      "[t-SNE] Iteration 1000: error = 2.2469063, gradient norm = 0.0000332 (50 iterations in 601.841s)\n",
      "[t-SNE] Error after 1000 iterations: 2.246906\n"
     ]
    },
    {
     "data": {
      "text/plain": [
       "TSNE(angle=0.5, early_exaggeration=12.0, init='random', learning_rate=200.0,\n",
       "   method='barnes_hut', metric='euclidean', min_grad_norm=1e-07,\n",
       "   n_components=3, n_iter=1000, n_iter_without_progress=300,\n",
       "   perplexity=30.0, random_state=None, verbose=3)"
      ]
     },
     "execution_count": 24,
     "metadata": {},
     "output_type": "execute_result"
    }
   ],
   "source": [
    "tsne.fit(np.concatenate((train_pca, test_pca)))"
   ]
  },
  {
   "cell_type": "code",
   "execution_count": 25,
   "metadata": {},
   "outputs": [],
   "source": [
    "pd.DataFrame(tsne.embedding_).to_csv('train_test_tsne_3D.cvs', index=False)"
   ]
  },
  {
   "cell_type": "code",
   "execution_count": null,
   "metadata": {},
   "outputs": [
    {
     "name": "stdout",
     "output_type": "stream",
     "text": [
      "[t-SNE] Computing 91 nearest neighbors...\n",
      "[t-SNE] Indexed 100000 samples in 13.626s...\n",
      "[t-SNE] Computed neighbors for 100000 samples in 1955.626s...\n",
      "[t-SNE] Computed conditional probabilities for sample 1000 / 100000\n",
      "[t-SNE] Computed conditional probabilities for sample 2000 / 100000\n",
      "[t-SNE] Computed conditional probabilities for sample 3000 / 100000\n",
      "[t-SNE] Computed conditional probabilities for sample 4000 / 100000\n",
      "[t-SNE] Computed conditional probabilities for sample 5000 / 100000\n",
      "[t-SNE] Computed conditional probabilities for sample 6000 / 100000\n",
      "[t-SNE] Computed conditional probabilities for sample 7000 / 100000\n",
      "[t-SNE] Computed conditional probabilities for sample 8000 / 100000\n",
      "[t-SNE] Computed conditional probabilities for sample 9000 / 100000\n",
      "[t-SNE] Computed conditional probabilities for sample 10000 / 100000\n",
      "[t-SNE] Computed conditional probabilities for sample 11000 / 100000\n",
      "[t-SNE] Computed conditional probabilities for sample 12000 / 100000\n",
      "[t-SNE] Computed conditional probabilities for sample 13000 / 100000\n",
      "[t-SNE] Computed conditional probabilities for sample 14000 / 100000\n",
      "[t-SNE] Computed conditional probabilities for sample 15000 / 100000\n",
      "[t-SNE] Computed conditional probabilities for sample 16000 / 100000\n",
      "[t-SNE] Computed conditional probabilities for sample 17000 / 100000\n",
      "[t-SNE] Computed conditional probabilities for sample 18000 / 100000\n",
      "[t-SNE] Computed conditional probabilities for sample 19000 / 100000\n",
      "[t-SNE] Computed conditional probabilities for sample 20000 / 100000\n",
      "[t-SNE] Computed conditional probabilities for sample 21000 / 100000\n",
      "[t-SNE] Computed conditional probabilities for sample 22000 / 100000\n",
      "[t-SNE] Computed conditional probabilities for sample 23000 / 100000\n",
      "[t-SNE] Computed conditional probabilities for sample 24000 / 100000\n",
      "[t-SNE] Computed conditional probabilities for sample 25000 / 100000\n",
      "[t-SNE] Computed conditional probabilities for sample 26000 / 100000\n",
      "[t-SNE] Computed conditional probabilities for sample 27000 / 100000\n",
      "[t-SNE] Computed conditional probabilities for sample 28000 / 100000\n",
      "[t-SNE] Computed conditional probabilities for sample 29000 / 100000\n",
      "[t-SNE] Computed conditional probabilities for sample 30000 / 100000\n",
      "[t-SNE] Computed conditional probabilities for sample 31000 / 100000\n",
      "[t-SNE] Computed conditional probabilities for sample 32000 / 100000\n",
      "[t-SNE] Computed conditional probabilities for sample 33000 / 100000\n",
      "[t-SNE] Computed conditional probabilities for sample 34000 / 100000\n",
      "[t-SNE] Computed conditional probabilities for sample 35000 / 100000\n",
      "[t-SNE] Computed conditional probabilities for sample 36000 / 100000\n",
      "[t-SNE] Computed conditional probabilities for sample 37000 / 100000\n",
      "[t-SNE] Computed conditional probabilities for sample 38000 / 100000\n",
      "[t-SNE] Computed conditional probabilities for sample 39000 / 100000\n",
      "[t-SNE] Computed conditional probabilities for sample 40000 / 100000\n",
      "[t-SNE] Computed conditional probabilities for sample 41000 / 100000\n",
      "[t-SNE] Computed conditional probabilities for sample 42000 / 100000\n",
      "[t-SNE] Computed conditional probabilities for sample 43000 / 100000\n",
      "[t-SNE] Computed conditional probabilities for sample 44000 / 100000\n",
      "[t-SNE] Computed conditional probabilities for sample 45000 / 100000\n",
      "[t-SNE] Computed conditional probabilities for sample 46000 / 100000\n",
      "[t-SNE] Computed conditional probabilities for sample 47000 / 100000\n",
      "[t-SNE] Computed conditional probabilities for sample 48000 / 100000\n",
      "[t-SNE] Computed conditional probabilities for sample 49000 / 100000\n",
      "[t-SNE] Computed conditional probabilities for sample 50000 / 100000\n",
      "[t-SNE] Computed conditional probabilities for sample 51000 / 100000\n",
      "[t-SNE] Computed conditional probabilities for sample 52000 / 100000\n",
      "[t-SNE] Computed conditional probabilities for sample 53000 / 100000\n",
      "[t-SNE] Computed conditional probabilities for sample 54000 / 100000\n",
      "[t-SNE] Computed conditional probabilities for sample 55000 / 100000\n",
      "[t-SNE] Computed conditional probabilities for sample 56000 / 100000\n",
      "[t-SNE] Computed conditional probabilities for sample 57000 / 100000\n",
      "[t-SNE] Computed conditional probabilities for sample 58000 / 100000\n",
      "[t-SNE] Computed conditional probabilities for sample 59000 / 100000\n",
      "[t-SNE] Computed conditional probabilities for sample 60000 / 100000\n",
      "[t-SNE] Computed conditional probabilities for sample 61000 / 100000\n",
      "[t-SNE] Computed conditional probabilities for sample 62000 / 100000\n",
      "[t-SNE] Computed conditional probabilities for sample 63000 / 100000\n",
      "[t-SNE] Computed conditional probabilities for sample 64000 / 100000\n",
      "[t-SNE] Computed conditional probabilities for sample 65000 / 100000\n",
      "[t-SNE] Computed conditional probabilities for sample 66000 / 100000\n",
      "[t-SNE] Computed conditional probabilities for sample 67000 / 100000\n",
      "[t-SNE] Computed conditional probabilities for sample 68000 / 100000\n",
      "[t-SNE] Computed conditional probabilities for sample 69000 / 100000\n",
      "[t-SNE] Computed conditional probabilities for sample 70000 / 100000\n",
      "[t-SNE] Computed conditional probabilities for sample 71000 / 100000\n",
      "[t-SNE] Computed conditional probabilities for sample 72000 / 100000\n",
      "[t-SNE] Computed conditional probabilities for sample 73000 / 100000\n",
      "[t-SNE] Computed conditional probabilities for sample 74000 / 100000\n",
      "[t-SNE] Computed conditional probabilities for sample 75000 / 100000\n",
      "[t-SNE] Computed conditional probabilities for sample 76000 / 100000\n",
      "[t-SNE] Computed conditional probabilities for sample 77000 / 100000\n",
      "[t-SNE] Computed conditional probabilities for sample 78000 / 100000\n",
      "[t-SNE] Computed conditional probabilities for sample 79000 / 100000\n",
      "[t-SNE] Computed conditional probabilities for sample 80000 / 100000\n",
      "[t-SNE] Computed conditional probabilities for sample 81000 / 100000\n",
      "[t-SNE] Computed conditional probabilities for sample 82000 / 100000\n",
      "[t-SNE] Computed conditional probabilities for sample 83000 / 100000\n",
      "[t-SNE] Computed conditional probabilities for sample 84000 / 100000\n",
      "[t-SNE] Computed conditional probabilities for sample 85000 / 100000\n",
      "[t-SNE] Computed conditional probabilities for sample 86000 / 100000\n",
      "[t-SNE] Computed conditional probabilities for sample 87000 / 100000\n",
      "[t-SNE] Computed conditional probabilities for sample 88000 / 100000\n",
      "[t-SNE] Computed conditional probabilities for sample 89000 / 100000\n",
      "[t-SNE] Computed conditional probabilities for sample 90000 / 100000\n",
      "[t-SNE] Computed conditional probabilities for sample 91000 / 100000\n",
      "[t-SNE] Computed conditional probabilities for sample 92000 / 100000\n",
      "[t-SNE] Computed conditional probabilities for sample 93000 / 100000\n",
      "[t-SNE] Computed conditional probabilities for sample 94000 / 100000\n",
      "[t-SNE] Computed conditional probabilities for sample 95000 / 100000\n",
      "[t-SNE] Computed conditional probabilities for sample 96000 / 100000\n",
      "[t-SNE] Computed conditional probabilities for sample 97000 / 100000\n",
      "[t-SNE] Computed conditional probabilities for sample 98000 / 100000\n",
      "[t-SNE] Computed conditional probabilities for sample 99000 / 100000\n",
      "[t-SNE] Computed conditional probabilities for sample 100000 / 100000\n",
      "[t-SNE] Mean sigma: 0.000000\n",
      "[t-SNE] Computed conditional probabilities in 6.920s\n",
      "[t-SNE] Iteration 50: error = 118.3059082, gradient norm = 0.0000003 (50 iterations in 965.489s)\n"
     ]
    }
   ],
   "source": [
    "tsne.fit(\n",
    "    pd.concat((train.drop(['ID_CORRELATIVO', 'ATTRITION'], axis=1),\n",
    "              test.drop('ID_CORRELATIVO', axis=1))))"
   ]
  },
  {
   "cell_type": "code",
   "execution_count": null,
   "metadata": {},
   "outputs": [],
   "source": [
    "train_tsne = tsne.transform(train.drop(['ID_CORRELATIVO', 'ATTRITION'], axis=1))"
   ]
  },
  {
   "cell_type": "code",
   "execution_count": null,
   "metadata": {},
   "outputs": [],
   "source": [
    "test_tsne = tsne.transform(test.drop('ID_CORRELATIVO', axis=1))"
   ]
  },
  {
   "cell_type": "code",
   "execution_count": null,
   "metadata": {},
   "outputs": [],
   "source": [
    "pd.DataFrame(train_tsne).to_csv('train_tsne.csv', index=False)"
   ]
  },
  {
   "cell_type": "code",
   "execution_count": null,
   "metadata": {},
   "outputs": [],
   "source": [
    "pd.DataFrame(test_tsne).to_csv('test_tsne.csv', index=False)"
   ]
  }
 ],
 "metadata": {
  "kernelspec": {
   "display_name": "Python 3",
   "language": "python",
   "name": "python3"
  },
  "language_info": {
   "codemirror_mode": {
    "name": "ipython",
    "version": 3
   },
   "file_extension": ".py",
   "mimetype": "text/x-python",
   "name": "python",
   "nbconvert_exporter": "python",
   "pygments_lexer": "ipython3",
   "version": "3.6.3"
  }
 },
 "nbformat": 4,
 "nbformat_minor": 2
}
