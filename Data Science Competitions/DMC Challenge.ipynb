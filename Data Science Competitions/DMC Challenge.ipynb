{
 "cells": [
  {
   "cell_type": "code",
   "execution_count": 3,
   "metadata": {
    "collapsed": true
   },
   "outputs": [],
   "source": [
    "%matplotlib inline\n",
    "%config InlineBackend.figure_format = 'retina'\n",
    "import numpy as np\n",
    "import pandas as pd\n",
    "import matplotlib.pyplot as plt"
   ]
  },
  {
   "cell_type": "code",
   "execution_count": 4,
   "metadata": {
    "collapsed": true
   },
   "outputs": [],
   "source": [
    "df = pd.read_excel('train_universidad.xlsx', sheetname=1)"
   ]
  },
  {
   "cell_type": "code",
   "execution_count": 5,
   "metadata": {},
   "outputs": [
    {
     "name": "stdout",
     "output_type": "stream",
     "text": [
      "<class 'pandas.core.frame.DataFrame'>\n",
      "RangeIndex: 20000 entries, 0 to 19999\n",
      "Data columns (total 11 columns):\n",
      "COD_ENCUESTADO                    20000 non-null int64\n",
      "Nombre Campus                     20000 non-null int64\n",
      "NIVEL ACTUAL                      20000 non-null object\n",
      "Clave de carrera                  20000 non-null int64\n",
      "Ciclo                             20000 non-null int64\n",
      "COMENTARIO                        20000 non-null object\n",
      "IND_GEA                           299 non-null object\n",
      "IND_DELEGADO                      3532 non-null object\n",
      "CANT_CURSOS_MATRICU_SIN_INGLES    19634 non-null float64\n",
      "UOD_depostista_ind_deportista     148 non-null object\n",
      "NPS                               20000 non-null int64\n",
      "dtypes: float64(1), int64(5), object(5)\n",
      "memory usage: 1.7+ MB\n"
     ]
    }
   ],
   "source": [
    "df.info()"
   ]
  },
  {
   "cell_type": "code",
   "execution_count": 6,
   "metadata": {},
   "outputs": [
    {
     "data": {
      "text/html": [
       "<div>\n",
       "<table border=\"1\" class=\"dataframe\">\n",
       "  <thead>\n",
       "    <tr style=\"text-align: right;\">\n",
       "      <th></th>\n",
       "      <th>COD_ENCUESTADO</th>\n",
       "      <th>Nombre Campus</th>\n",
       "      <th>NIVEL ACTUAL</th>\n",
       "      <th>Clave de carrera</th>\n",
       "      <th>Ciclo</th>\n",
       "      <th>COMENTARIO</th>\n",
       "      <th>IND_GEA</th>\n",
       "      <th>IND_DELEGADO</th>\n",
       "      <th>CANT_CURSOS_MATRICU_SIN_INGLES</th>\n",
       "      <th>UOD_depostista_ind_deportista</th>\n",
       "      <th>NPS</th>\n",
       "    </tr>\n",
       "  </thead>\n",
       "  <tbody>\n",
       "    <tr>\n",
       "      <th>0</th>\n",
       "      <td>13501</td>\n",
       "      <td>1</td>\n",
       "      <td>AC</td>\n",
       "      <td>3</td>\n",
       "      <td>2</td>\n",
       "      <td>Me gusta la u es paja bro y soy pito</td>\n",
       "      <td>NaN</td>\n",
       "      <td>Delegado</td>\n",
       "      <td>6.0</td>\n",
       "      <td>NaN</td>\n",
       "      <td>3</td>\n",
       "    </tr>\n",
       "    <tr>\n",
       "      <th>1</th>\n",
       "      <td>23622</td>\n",
       "      <td>3</td>\n",
       "      <td>AC</td>\n",
       "      <td>25</td>\n",
       "      <td>1</td>\n",
       "      <td>El metodo de blended no le hace bien a todos</td>\n",
       "      <td>NaN</td>\n",
       "      <td>Delegado</td>\n",
       "      <td>5.0</td>\n",
       "      <td>NaN</td>\n",
       "      <td>3</td>\n",
       "    </tr>\n",
       "    <tr>\n",
       "      <th>2</th>\n",
       "      <td>8354</td>\n",
       "      <td>4</td>\n",
       "      <td>AC</td>\n",
       "      <td>31</td>\n",
       "      <td>1</td>\n",
       "      <td>Los profesores, sus métodos de enseñanza bes ...</td>\n",
       "      <td>NaN</td>\n",
       "      <td>NaN</td>\n",
       "      <td>5.0</td>\n",
       "      <td>NaN</td>\n",
       "      <td>4</td>\n",
       "    </tr>\n",
       "    <tr>\n",
       "      <th>3</th>\n",
       "      <td>17745</td>\n",
       "      <td>4</td>\n",
       "      <td>AC</td>\n",
       "      <td>28</td>\n",
       "      <td>6</td>\n",
       "      <td>Porque posee gran mayoría de profesores espec...</td>\n",
       "      <td>GEA</td>\n",
       "      <td>NaN</td>\n",
       "      <td>6.0</td>\n",
       "      <td>NaN</td>\n",
       "      <td>3</td>\n",
       "    </tr>\n",
       "    <tr>\n",
       "      <th>4</th>\n",
       "      <td>10867</td>\n",
       "      <td>3</td>\n",
       "      <td>AC</td>\n",
       "      <td>34</td>\n",
       "      <td>1</td>\n",
       "      <td>La pencion</td>\n",
       "      <td>NaN</td>\n",
       "      <td>NaN</td>\n",
       "      <td>6.0</td>\n",
       "      <td>NaN</td>\n",
       "      <td>3</td>\n",
       "    </tr>\n",
       "  </tbody>\n",
       "</table>\n",
       "</div>"
      ],
      "text/plain": [
       "   COD_ENCUESTADO  Nombre Campus NIVEL ACTUAL  Clave de carrera  Ciclo  \\\n",
       "0           13501              1           AC                 3      2   \n",
       "1           23622              3           AC                25      1   \n",
       "2            8354              4           AC                31      1   \n",
       "3           17745              4           AC                28      6   \n",
       "4           10867              3           AC                34      1   \n",
       "\n",
       "                                          COMENTARIO IND_GEA IND_DELEGADO  \\\n",
       "0               Me gusta la u es paja bro y soy pito     NaN     Delegado   \n",
       "1       El metodo de blended no le hace bien a todos     NaN     Delegado   \n",
       "2   Los profesores, sus métodos de enseñanza bes ...     NaN          NaN   \n",
       "3   Porque posee gran mayoría de profesores espec...     GEA          NaN   \n",
       "4                                         La pencion     NaN          NaN   \n",
       "\n",
       "   CANT_CURSOS_MATRICU_SIN_INGLES UOD_depostista_ind_deportista  NPS  \n",
       "0                             6.0                           NaN    3  \n",
       "1                             5.0                           NaN    3  \n",
       "2                             5.0                           NaN    4  \n",
       "3                             6.0                           NaN    3  \n",
       "4                             6.0                           NaN    3  "
      ]
     },
     "execution_count": 6,
     "metadata": {},
     "output_type": "execute_result"
    }
   ],
   "source": [
    "df.head()"
   ]
  },
  {
   "cell_type": "markdown",
   "metadata": {},
   "source": [
    "### 299 GEA, 3532 delegados, 148 deportistas"
   ]
  },
  {
   "cell_type": "code",
   "execution_count": 7,
   "metadata": {},
   "outputs": [
    {
     "data": {
      "text/html": [
       "<div>\n",
       "<table border=\"1\" class=\"dataframe\">\n",
       "  <thead>\n",
       "    <tr style=\"text-align: right;\">\n",
       "      <th></th>\n",
       "      <th>COD_ENCUESTADO</th>\n",
       "      <th>Nombre Campus</th>\n",
       "      <th>NIVEL ACTUAL</th>\n",
       "      <th>Clave de carrera</th>\n",
       "      <th>Ciclo</th>\n",
       "      <th>COMENTARIO</th>\n",
       "      <th>IND_GEA</th>\n",
       "      <th>IND_DELEGADO</th>\n",
       "      <th>CANT_CURSOS_MATRICU_SIN_INGLES</th>\n",
       "      <th>UOD_depostista_ind_deportista</th>\n",
       "      <th>NPS</th>\n",
       "    </tr>\n",
       "  </thead>\n",
       "  <tbody>\n",
       "    <tr>\n",
       "      <th>753</th>\n",
       "      <td>6366</td>\n",
       "      <td>4</td>\n",
       "      <td>AC</td>\n",
       "      <td>25</td>\n",
       "      <td>3</td>\n",
       "      <td>1.Deberían mejorar la imagen externa de la un...</td>\n",
       "      <td>GEA</td>\n",
       "      <td>Delegado</td>\n",
       "      <td>6.0</td>\n",
       "      <td>Deportista</td>\n",
       "      <td>1</td>\n",
       "    </tr>\n",
       "    <tr>\n",
       "      <th>3212</th>\n",
       "      <td>9874</td>\n",
       "      <td>3</td>\n",
       "      <td>AC</td>\n",
       "      <td>7</td>\n",
       "      <td>3</td>\n",
       "      <td>Faltan libros en biblioteca</td>\n",
       "      <td>GEA</td>\n",
       "      <td>Delegado</td>\n",
       "      <td>5.0</td>\n",
       "      <td>Deportista</td>\n",
       "      <td>2</td>\n",
       "    </tr>\n",
       "  </tbody>\n",
       "</table>\n",
       "</div>"
      ],
      "text/plain": [
       "      COD_ENCUESTADO  Nombre Campus NIVEL ACTUAL  Clave de carrera  Ciclo  \\\n",
       "753             6366              4           AC                25      3   \n",
       "3212            9874              3           AC                 7      3   \n",
       "\n",
       "                                             COMENTARIO IND_GEA IND_DELEGADO  \\\n",
       "753    1.Deberían mejorar la imagen externa de la un...     GEA     Delegado   \n",
       "3212                        Faltan libros en biblioteca     GEA     Delegado   \n",
       "\n",
       "      CANT_CURSOS_MATRICU_SIN_INGLES UOD_depostista_ind_deportista  NPS  \n",
       "753                              6.0                    Deportista    1  \n",
       "3212                             5.0                    Deportista    2  "
      ]
     },
     "execution_count": 7,
     "metadata": {},
     "output_type": "execute_result"
    }
   ],
   "source": [
    "df[~df['IND_GEA'].isnull() & ~df['IND_DELEGADO'].isnull() & ~df['UOD_depostista_ind_deportista'].isnull()]"
   ]
  },
  {
   "cell_type": "code",
   "execution_count": 8,
   "metadata": {},
   "outputs": [
    {
     "data": {
      "text/plain": [
       "' 1.Deberían mejorar la imagen externa de la universidad. Es decir, deberían disminuir las burlas hacia la universidad. 2. deberían mejorar mucho el nivel académico.'"
      ]
     },
     "execution_count": 8,
     "metadata": {},
     "output_type": "execute_result"
    }
   ],
   "source": [
    "df['COMENTARIO'][753]"
   ]
  },
  {
   "cell_type": "code",
   "execution_count": 9,
   "metadata": {},
   "outputs": [
    {
     "data": {
      "text/html": [
       "<div>\n",
       "<table border=\"1\" class=\"dataframe\">\n",
       "  <thead>\n",
       "    <tr style=\"text-align: right;\">\n",
       "      <th></th>\n",
       "      <th>COD_ENCUESTADO</th>\n",
       "      <th>Nombre Campus</th>\n",
       "      <th>NIVEL ACTUAL</th>\n",
       "      <th>Clave de carrera</th>\n",
       "      <th>Ciclo</th>\n",
       "      <th>COMENTARIO</th>\n",
       "      <th>IND_GEA</th>\n",
       "      <th>IND_DELEGADO</th>\n",
       "      <th>CANT_CURSOS_MATRICU_SIN_INGLES</th>\n",
       "      <th>UOD_depostista_ind_deportista</th>\n",
       "      <th>NPS</th>\n",
       "    </tr>\n",
       "  </thead>\n",
       "  <tbody>\n",
       "    <tr>\n",
       "      <th>count</th>\n",
       "      <td>20000.000000</td>\n",
       "      <td>20000.000000</td>\n",
       "      <td>20000</td>\n",
       "      <td>20000.000000</td>\n",
       "      <td>20000.00000</td>\n",
       "      <td>20000</td>\n",
       "      <td>299</td>\n",
       "      <td>3532</td>\n",
       "      <td>19634.000000</td>\n",
       "      <td>148</td>\n",
       "      <td>20000.000000</td>\n",
       "    </tr>\n",
       "    <tr>\n",
       "      <th>unique</th>\n",
       "      <td>NaN</td>\n",
       "      <td>NaN</td>\n",
       "      <td>4</td>\n",
       "      <td>NaN</td>\n",
       "      <td>NaN</td>\n",
       "      <td>17611</td>\n",
       "      <td>1</td>\n",
       "      <td>1</td>\n",
       "      <td>NaN</td>\n",
       "      <td>1</td>\n",
       "      <td>NaN</td>\n",
       "    </tr>\n",
       "    <tr>\n",
       "      <th>top</th>\n",
       "      <td>NaN</td>\n",
       "      <td>NaN</td>\n",
       "      <td>AC</td>\n",
       "      <td>NaN</td>\n",
       "      <td>NaN</td>\n",
       "      <td>La enseñanza</td>\n",
       "      <td>GEA</td>\n",
       "      <td>Delegado</td>\n",
       "      <td>NaN</td>\n",
       "      <td>Deportista</td>\n",
       "      <td>NaN</td>\n",
       "    </tr>\n",
       "    <tr>\n",
       "      <th>freq</th>\n",
       "      <td>NaN</td>\n",
       "      <td>NaN</td>\n",
       "      <td>14990</td>\n",
       "      <td>NaN</td>\n",
       "      <td>NaN</td>\n",
       "      <td>111</td>\n",
       "      <td>299</td>\n",
       "      <td>3532</td>\n",
       "      <td>NaN</td>\n",
       "      <td>148</td>\n",
       "      <td>NaN</td>\n",
       "    </tr>\n",
       "    <tr>\n",
       "      <th>mean</th>\n",
       "      <td>16951.724850</td>\n",
       "      <td>2.608150</td>\n",
       "      <td>NaN</td>\n",
       "      <td>42.322700</td>\n",
       "      <td>3.05240</td>\n",
       "      <td>NaN</td>\n",
       "      <td>NaN</td>\n",
       "      <td>NaN</td>\n",
       "      <td>4.784965</td>\n",
       "      <td>NaN</td>\n",
       "      <td>3.123350</td>\n",
       "    </tr>\n",
       "    <tr>\n",
       "      <th>std</th>\n",
       "      <td>9634.968902</td>\n",
       "      <td>1.050742</td>\n",
       "      <td>NaN</td>\n",
       "      <td>44.518496</td>\n",
       "      <td>2.35532</td>\n",
       "      <td>NaN</td>\n",
       "      <td>NaN</td>\n",
       "      <td>NaN</td>\n",
       "      <td>1.416735</td>\n",
       "      <td>NaN</td>\n",
       "      <td>0.858587</td>\n",
       "    </tr>\n",
       "    <tr>\n",
       "      <th>min</th>\n",
       "      <td>1.000000</td>\n",
       "      <td>1.000000</td>\n",
       "      <td>NaN</td>\n",
       "      <td>1.000000</td>\n",
       "      <td>1.00000</td>\n",
       "      <td>NaN</td>\n",
       "      <td>NaN</td>\n",
       "      <td>NaN</td>\n",
       "      <td>0.000000</td>\n",
       "      <td>NaN</td>\n",
       "      <td>1.000000</td>\n",
       "    </tr>\n",
       "    <tr>\n",
       "      <th>25%</th>\n",
       "      <td>8727.750000</td>\n",
       "      <td>2.000000</td>\n",
       "      <td>NaN</td>\n",
       "      <td>10.000000</td>\n",
       "      <td>1.00000</td>\n",
       "      <td>NaN</td>\n",
       "      <td>NaN</td>\n",
       "      <td>NaN</td>\n",
       "      <td>4.000000</td>\n",
       "      <td>NaN</td>\n",
       "      <td>3.000000</td>\n",
       "    </tr>\n",
       "    <tr>\n",
       "      <th>50%</th>\n",
       "      <td>17070.500000</td>\n",
       "      <td>3.000000</td>\n",
       "      <td>NaN</td>\n",
       "      <td>26.000000</td>\n",
       "      <td>2.00000</td>\n",
       "      <td>NaN</td>\n",
       "      <td>NaN</td>\n",
       "      <td>NaN</td>\n",
       "      <td>5.000000</td>\n",
       "      <td>NaN</td>\n",
       "      <td>3.000000</td>\n",
       "    </tr>\n",
       "    <tr>\n",
       "      <th>75%</th>\n",
       "      <td>25274.250000</td>\n",
       "      <td>3.000000</td>\n",
       "      <td>NaN</td>\n",
       "      <td>100.000000</td>\n",
       "      <td>4.00000</td>\n",
       "      <td>NaN</td>\n",
       "      <td>NaN</td>\n",
       "      <td>NaN</td>\n",
       "      <td>6.000000</td>\n",
       "      <td>NaN</td>\n",
       "      <td>4.000000</td>\n",
       "    </tr>\n",
       "    <tr>\n",
       "      <th>max</th>\n",
       "      <td>33672.000000</td>\n",
       "      <td>4.000000</td>\n",
       "      <td>NaN</td>\n",
       "      <td>226.000000</td>\n",
       "      <td>14.00000</td>\n",
       "      <td>NaN</td>\n",
       "      <td>NaN</td>\n",
       "      <td>NaN</td>\n",
       "      <td>10.000000</td>\n",
       "      <td>NaN</td>\n",
       "      <td>4.000000</td>\n",
       "    </tr>\n",
       "  </tbody>\n",
       "</table>\n",
       "</div>"
      ],
      "text/plain": [
       "        COD_ENCUESTADO  Nombre Campus NIVEL ACTUAL  Clave de carrera  \\\n",
       "count     20000.000000   20000.000000        20000      20000.000000   \n",
       "unique             NaN            NaN            4               NaN   \n",
       "top                NaN            NaN           AC               NaN   \n",
       "freq               NaN            NaN        14990               NaN   \n",
       "mean      16951.724850       2.608150          NaN         42.322700   \n",
       "std        9634.968902       1.050742          NaN         44.518496   \n",
       "min           1.000000       1.000000          NaN          1.000000   \n",
       "25%        8727.750000       2.000000          NaN         10.000000   \n",
       "50%       17070.500000       3.000000          NaN         26.000000   \n",
       "75%       25274.250000       3.000000          NaN        100.000000   \n",
       "max       33672.000000       4.000000          NaN        226.000000   \n",
       "\n",
       "              Ciclo     COMENTARIO IND_GEA IND_DELEGADO  \\\n",
       "count   20000.00000          20000     299         3532   \n",
       "unique          NaN          17611       1            1   \n",
       "top             NaN   La enseñanza     GEA     Delegado   \n",
       "freq            NaN            111     299         3532   \n",
       "mean        3.05240            NaN     NaN          NaN   \n",
       "std         2.35532            NaN     NaN          NaN   \n",
       "min         1.00000            NaN     NaN          NaN   \n",
       "25%         1.00000            NaN     NaN          NaN   \n",
       "50%         2.00000            NaN     NaN          NaN   \n",
       "75%         4.00000            NaN     NaN          NaN   \n",
       "max        14.00000            NaN     NaN          NaN   \n",
       "\n",
       "        CANT_CURSOS_MATRICU_SIN_INGLES UOD_depostista_ind_deportista  \\\n",
       "count                     19634.000000                           148   \n",
       "unique                             NaN                             1   \n",
       "top                                NaN                    Deportista   \n",
       "freq                               NaN                           148   \n",
       "mean                          4.784965                           NaN   \n",
       "std                           1.416735                           NaN   \n",
       "min                           0.000000                           NaN   \n",
       "25%                           4.000000                           NaN   \n",
       "50%                           5.000000                           NaN   \n",
       "75%                           6.000000                           NaN   \n",
       "max                          10.000000                           NaN   \n",
       "\n",
       "                 NPS  \n",
       "count   20000.000000  \n",
       "unique           NaN  \n",
       "top              NaN  \n",
       "freq             NaN  \n",
       "mean        3.123350  \n",
       "std         0.858587  \n",
       "min         1.000000  \n",
       "25%         3.000000  \n",
       "50%         3.000000  \n",
       "75%         4.000000  \n",
       "max         4.000000  "
      ]
     },
     "execution_count": 9,
     "metadata": {},
     "output_type": "execute_result"
    }
   ],
   "source": [
    "df.describe(include='all')"
   ]
  },
  {
   "cell_type": "markdown",
   "metadata": {},
   "source": [
    "### 72 carreras y cada campus tiene ~40 carreras"
   ]
  },
  {
   "cell_type": "code",
   "execution_count": 10,
   "metadata": {},
   "outputs": [
    {
     "data": {
      "text/plain": [
       "72"
      ]
     },
     "execution_count": 10,
     "metadata": {},
     "output_type": "execute_result"
    }
   ],
   "source": [
    "len(df['Clave de carrera'].unique())"
   ]
  },
  {
   "cell_type": "code",
   "execution_count": 11,
   "metadata": {},
   "outputs": [
    {
     "data": {
      "text/plain": [
       "Nombre Campus\n",
       "1    34\n",
       "2    30\n",
       "3    42\n",
       "4    42\n",
       "Name: Clave de carrera, dtype: int64"
      ]
     },
     "execution_count": 11,
     "metadata": {},
     "output_type": "execute_result"
    }
   ],
   "source": [
    "df.groupby('Nombre Campus')['Clave de carrera'].unique().apply(lambda x: len(x))"
   ]
  },
  {
   "cell_type": "markdown",
   "metadata": {},
   "source": [
    "### Hay comentarios repetidos"
   ]
  },
  {
   "cell_type": "code",
   "execution_count": 12,
   "metadata": {},
   "outputs": [
    {
     "data": {
      "text/plain": [
       "[(' La enseñanza', 111),\n",
       " (' Atención al alumno', 78),\n",
       " (' Es buena', 71),\n",
       " (' La exigencia', 68),\n",
       " (' Los profesores', 65),\n",
       " (' La calidad de enseñanza', 51),\n",
       " (' Infraestructura', 47),\n",
       " (' Buenos profesores', 41),\n",
       " (' Exigencia', 39),\n",
       " (' Porque si', 37)]"
      ]
     },
     "execution_count": 12,
     "metadata": {},
     "output_type": "execute_result"
    }
   ],
   "source": [
    "from collections import Counter\n",
    "comments = Counter()\n",
    "comments.update(list(df['COMENTARIO']))\n",
    "comments.most_common(10)"
   ]
  },
  {
   "cell_type": "code",
   "execution_count": 13,
   "metadata": {},
   "outputs": [
    {
     "data": {
      "text/plain": [
       "array([  3,  25,  31,  28,  34,  40,   5, 109,  26, 105,  13,  12,  21,\n",
       "       107,  37,   6, 106,  14, 104, 101,  15, 110,   7,  39,   9,  30,\n",
       "        11,  36,  17,  32,   2, 108,  16,  27,  29,  35, 100,  38,  22,\n",
       "        33, 217, 111, 103, 223,  24,  10, 222, 214,  18,  20,   4,  23,\n",
       "         1, 225, 102, 218,   8, 216, 215, 219, 220, 210, 221, 206, 211,\n",
       "       224,  19, 213, 226, 209, 205, 203], dtype=int64)"
      ]
     },
     "execution_count": 13,
     "metadata": {},
     "output_type": "execute_result"
    }
   ],
   "source": [
    "df['Clave de carrera'].unique()"
   ]
  },
  {
   "cell_type": "code",
   "execution_count": 14,
   "metadata": {},
   "outputs": [
    {
     "data": {
      "text/plain": [
       "5      1616\n",
       "25     1489\n",
       "101    1387\n",
       "31     1374\n",
       "7      1188\n",
       "3       839\n",
       "107     815\n",
       "37      618\n",
       "33      581\n",
       "15      555\n",
       "Name: Clave de carrera, dtype: int64"
      ]
     },
     "execution_count": 14,
     "metadata": {},
     "output_type": "execute_result"
    }
   ],
   "source": [
    "df['Clave de carrera'].value_counts()[:10]"
   ]
  },
  {
   "cell_type": "markdown",
   "metadata": {},
   "source": [
    "### La mayoría califica con una puntuación alta"
   ]
  },
  {
   "cell_type": "code",
   "execution_count": 16,
   "metadata": {
    "collapsed": true
   },
   "outputs": [],
   "source": [
    "import seaborn as sns"
   ]
  },
  {
   "cell_type": "code",
   "execution_count": 17,
   "metadata": {},
   "outputs": [
    {
     "data": {
      "image/png": "[encoded data removed]",
      "text/plain": [
       "<matplotlib.figure.Figure at 0x17f1975e358>"
      ]
     },
     "metadata": {
      "image/png": {
       "height": 345,
       "width": 1084
      }
     },
     "output_type": "display_data"
    }
   ],
   "source": [
    "carreras = [5,25,101,31,7,3]\n",
    "fig, axs = plt.subplots(ncols=len(carreras))\n",
    "fig.set_size_inches(18.5, 5.5)\n",
    "for i, carrera in enumerate(carreras):\n",
    "    sns.countplot(x='NPS', data=df[df['Clave de carrera']==carrera], ax=axs[i])"
   ]
  },
  {
   "cell_type": "markdown",
   "metadata": {},
   "source": [
    "### Preprocessing"
   ]
  },
  {
   "cell_type": "code",
   "execution_count": 18,
   "metadata": {},
   "outputs": [
    {
     "data": {
      "text/plain": [
       "<matplotlib.axes._subplots.AxesSubplot at 0x17f19724828>"
      ]
     },
     "execution_count": 18,
     "metadata": {},
     "output_type": "execute_result"
    },
    {
     "data": {
      "image/png": "[encoded data removed]",
      "text/plain": [
       "<matplotlib.figure.Figure at 0x17f17774f60>"
      ]
     },
     "metadata": {
      "image/png": {
       "height": 697,
       "width": 1731
      }
     },
     "output_type": "display_data"
    }
   ],
   "source": [
    "sns.plt.figure(figsize=(30,12))\n",
    "sns.countplot(x='Clave de carrera', data=df)"
   ]
  },
  {
   "cell_type": "code",
   "execution_count": 20,
   "metadata": {},
   "outputs": [
    {
     "data": {
      "text/plain": [
       "<matplotlib.axes._subplots.AxesSubplot at 0x17f178e9a20>"
      ]
     },
     "execution_count": 20,
     "metadata": {},
     "output_type": "execute_result"
    },
    {
     "data": {
      "image/png": "[encoded data removed]",
      "text/plain": [
       "<matplotlib.figure.Figure at 0x17f176e1b00>"
      ]
     },
     "metadata": {
      "image/png": {
       "height": 343,
       "width": 504
      }
     },
     "output_type": "display_data"
    }
   ],
   "source": [
    "sns.countplot(x='CANT_CURSOS_MATRICU_SIN_INGLES', data=df)"
   ]
  },
  {
   "cell_type": "code",
   "execution_count": 19,
   "metadata": {},
   "outputs": [
    {
     "data": {
      "text/html": [
       "<div>\n",
       "<table border=\"1\" class=\"dataframe\">\n",
       "  <thead>\n",
       "    <tr style=\"text-align: right;\">\n",
       "      <th></th>\n",
       "      <th>COD_ENCUESTADO</th>\n",
       "      <th>Nombre Campus</th>\n",
       "      <th>NIVEL ACTUAL</th>\n",
       "      <th>Clave de carrera</th>\n",
       "      <th>Ciclo</th>\n",
       "      <th>COMENTARIO</th>\n",
       "      <th>IND_GEA</th>\n",
       "      <th>IND_DELEGADO</th>\n",
       "      <th>CANT_CURSOS_MATRICU_SIN_INGLES</th>\n",
       "      <th>UOD_depostista_ind_deportista</th>\n",
       "      <th>NPS</th>\n",
       "    </tr>\n",
       "  </thead>\n",
       "  <tbody>\n",
       "    <tr>\n",
       "      <th>0</th>\n",
       "      <td>13501</td>\n",
       "      <td>1</td>\n",
       "      <td>AC</td>\n",
       "      <td>3</td>\n",
       "      <td>2</td>\n",
       "      <td>Me gusta la u es paja bro y soy pito</td>\n",
       "      <td>NaN</td>\n",
       "      <td>Delegado</td>\n",
       "      <td>6.0</td>\n",
       "      <td>NaN</td>\n",
       "      <td>3</td>\n",
       "    </tr>\n",
       "    <tr>\n",
       "      <th>1</th>\n",
       "      <td>23622</td>\n",
       "      <td>3</td>\n",
       "      <td>AC</td>\n",
       "      <td>25</td>\n",
       "      <td>1</td>\n",
       "      <td>El metodo de blended no le hace bien a todos</td>\n",
       "      <td>NaN</td>\n",
       "      <td>Delegado</td>\n",
       "      <td>5.0</td>\n",
       "      <td>NaN</td>\n",
       "      <td>3</td>\n",
       "    </tr>\n",
       "    <tr>\n",
       "      <th>2</th>\n",
       "      <td>8354</td>\n",
       "      <td>4</td>\n",
       "      <td>AC</td>\n",
       "      <td>31</td>\n",
       "      <td>1</td>\n",
       "      <td>Los profesores, sus métodos de enseñanza bes ...</td>\n",
       "      <td>NaN</td>\n",
       "      <td>NaN</td>\n",
       "      <td>5.0</td>\n",
       "      <td>NaN</td>\n",
       "      <td>4</td>\n",
       "    </tr>\n",
       "    <tr>\n",
       "      <th>3</th>\n",
       "      <td>17745</td>\n",
       "      <td>4</td>\n",
       "      <td>AC</td>\n",
       "      <td>28</td>\n",
       "      <td>6</td>\n",
       "      <td>Porque posee gran mayoría de profesores espec...</td>\n",
       "      <td>GEA</td>\n",
       "      <td>NaN</td>\n",
       "      <td>6.0</td>\n",
       "      <td>NaN</td>\n",
       "      <td>3</td>\n",
       "    </tr>\n",
       "    <tr>\n",
       "      <th>4</th>\n",
       "      <td>10867</td>\n",
       "      <td>3</td>\n",
       "      <td>AC</td>\n",
       "      <td>34</td>\n",
       "      <td>1</td>\n",
       "      <td>La pencion</td>\n",
       "      <td>NaN</td>\n",
       "      <td>NaN</td>\n",
       "      <td>6.0</td>\n",
       "      <td>NaN</td>\n",
       "      <td>3</td>\n",
       "    </tr>\n",
       "  </tbody>\n",
       "</table>\n",
       "</div>"
      ],
      "text/plain": [
       "   COD_ENCUESTADO  Nombre Campus NIVEL ACTUAL  Clave de carrera  Ciclo  \\\n",
       "0           13501              1           AC                 3      2   \n",
       "1           23622              3           AC                25      1   \n",
       "2            8354              4           AC                31      1   \n",
       "3           17745              4           AC                28      6   \n",
       "4           10867              3           AC                34      1   \n",
       "\n",
       "                                          COMENTARIO IND_GEA IND_DELEGADO  \\\n",
       "0               Me gusta la u es paja bro y soy pito     NaN     Delegado   \n",
       "1       El metodo de blended no le hace bien a todos     NaN     Delegado   \n",
       "2   Los profesores, sus métodos de enseñanza bes ...     NaN          NaN   \n",
       "3   Porque posee gran mayoría de profesores espec...     GEA          NaN   \n",
       "4                                         La pencion     NaN          NaN   \n",
       "\n",
       "   CANT_CURSOS_MATRICU_SIN_INGLES UOD_depostista_ind_deportista  NPS  \n",
       "0                             6.0                           NaN    3  \n",
       "1                             5.0                           NaN    3  \n",
       "2                             5.0                           NaN    4  \n",
       "3                             6.0                           NaN    3  \n",
       "4                             6.0                           NaN    3  "
      ]
     },
     "execution_count": 19,
     "metadata": {},
     "output_type": "execute_result"
    }
   ],
   "source": [
    "df.head()"
   ]
  },
  {
   "cell_type": "markdown",
   "metadata": {},
   "source": [
    "- COD_ENCUESTADO: drop\n",
    "- Nombre Campus: one-hot\n",
    "- NIVEL ACTUAL: one-hot\n",
    "- Clave de carrera: one-hot\n",
    "- Ciclo: OK\n",
    "- IND_GEA: 0-1\n",
    "- IND_DELEGADO: 0-1\n",
    "- CANT_CURSOS_MATRICU_SIN_INGLES: OK\n",
    "- UOD_depostista_ind_deportista: 0-1"
   ]
  },
  {
   "cell_type": "code",
   "execution_count": 46,
   "metadata": {
    "collapsed": true
   },
   "outputs": [],
   "source": [
    "df_ml = df.copy(deep=True)"
   ]
  },
  {
   "cell_type": "code",
   "execution_count": 47,
   "metadata": {
    "collapsed": true
   },
   "outputs": [],
   "source": [
    "df_ml = df_ml.drop('COD_ENCUESTADO', axis=1)"
   ]
  },
  {
   "cell_type": "code",
   "execution_count": 48,
   "metadata": {
    "collapsed": true
   },
   "outputs": [],
   "source": [
    "df_ml = pd.concat((df_ml, pd.get_dummies(df_ml['Nombre Campus'], prefix='Campus')), axis=1)"
   ]
  },
  {
   "cell_type": "code",
   "execution_count": 49,
   "metadata": {
    "collapsed": true
   },
   "outputs": [],
   "source": [
    "df_ml = pd.concat((df_ml, pd.get_dummies(df_ml['NIVEL ACTUAL'], prefix='Nivel')), axis=1)"
   ]
  },
  {
   "cell_type": "code",
   "execution_count": 50,
   "metadata": {
    "collapsed": true
   },
   "outputs": [],
   "source": [
    "df_ml = pd.concat((df_ml, pd.get_dummies(df_ml['IND_GEA'], prefix='GEA')), axis=1)"
   ]
  },
  {
   "cell_type": "code",
   "execution_count": 51,
   "metadata": {
    "collapsed": true
   },
   "outputs": [],
   "source": [
    "df_ml = pd.concat((df_ml, pd.get_dummies(df_ml['IND_DELEGADO'], prefix='Delegado')), axis=1)"
   ]
  },
  {
   "cell_type": "code",
   "execution_count": 52,
   "metadata": {
    "collapsed": true
   },
   "outputs": [],
   "source": [
    "df_ml = pd.concat((df_ml, pd.get_dummies(df_ml['UOD_depostista_ind_deportista'], prefix='Deportista')), axis=1)"
   ]
  },
  {
   "cell_type": "code",
   "execution_count": 53,
   "metadata": {
    "collapsed": true
   },
   "outputs": [],
   "source": [
    "df_ml = df_ml.drop('Nombre Campus', axis=1)\n",
    "df_ml = df_ml.drop('NIVEL ACTUAL', axis=1)\n",
    "df_ml = df_ml.drop('IND_GEA', axis=1)\n",
    "df_ml = df_ml.drop('IND_DELEGADO', axis=1)\n",
    "df_ml = df_ml.drop('UOD_depostista_ind_deportista', axis=1)\n",
    "df_ml = df_ml.drop('Clave de carrera', axis=1)\n",
    "df_ml = df_ml.drop('COMENTARIO', axis=1)"
   ]
  },
  {
   "cell_type": "code",
   "execution_count": 54,
   "metadata": {
    "collapsed": true
   },
   "outputs": [],
   "source": [
    "df_ml['CANT_CURSOS_MATRICU_SIN_INGLES'] = df_ml['CANT_CURSOS_MATRICU_SIN_INGLES'].fillna(df_ml['CANT_CURSOS_MATRICU_SIN_INGLES'].median())"
   ]
  },
  {
   "cell_type": "code",
   "execution_count": 55,
   "metadata": {},
   "outputs": [
    {
     "data": {
      "text/html": [
       "<div>\n",
       "<table border=\"1\" class=\"dataframe\">\n",
       "  <thead>\n",
       "    <tr style=\"text-align: right;\">\n",
       "      <th></th>\n",
       "      <th>Ciclo</th>\n",
       "      <th>CANT_CURSOS_MATRICU_SIN_INGLES</th>\n",
       "      <th>NPS</th>\n",
       "      <th>Campus_1</th>\n",
       "      <th>Campus_2</th>\n",
       "      <th>Campus_3</th>\n",
       "      <th>Campus_4</th>\n",
       "      <th>Nivel_AC</th>\n",
       "      <th>Nivel_FC</th>\n",
       "      <th>Nivel_ON LINE</th>\n",
       "      <th>Nivel_PRESENCIAL</th>\n",
       "      <th>GEA_GEA</th>\n",
       "      <th>Delegado_Delegado</th>\n",
       "      <th>Deportista_Deportista</th>\n",
       "    </tr>\n",
       "  </thead>\n",
       "  <tbody>\n",
       "    <tr>\n",
       "      <th>0</th>\n",
       "      <td>2</td>\n",
       "      <td>6.0</td>\n",
       "      <td>3</td>\n",
       "      <td>1</td>\n",
       "      <td>0</td>\n",
       "      <td>0</td>\n",
       "      <td>0</td>\n",
       "      <td>1</td>\n",
       "      <td>0</td>\n",
       "      <td>0</td>\n",
       "      <td>0</td>\n",
       "      <td>0</td>\n",
       "      <td>1</td>\n",
       "      <td>0</td>\n",
       "    </tr>\n",
       "    <tr>\n",
       "      <th>1</th>\n",
       "      <td>1</td>\n",
       "      <td>5.0</td>\n",
       "      <td>3</td>\n",
       "      <td>0</td>\n",
       "      <td>0</td>\n",
       "      <td>1</td>\n",
       "      <td>0</td>\n",
       "      <td>1</td>\n",
       "      <td>0</td>\n",
       "      <td>0</td>\n",
       "      <td>0</td>\n",
       "      <td>0</td>\n",
       "      <td>1</td>\n",
       "      <td>0</td>\n",
       "    </tr>\n",
       "    <tr>\n",
       "      <th>2</th>\n",
       "      <td>1</td>\n",
       "      <td>5.0</td>\n",
       "      <td>4</td>\n",
       "      <td>0</td>\n",
       "      <td>0</td>\n",
       "      <td>0</td>\n",
       "      <td>1</td>\n",
       "      <td>1</td>\n",
       "      <td>0</td>\n",
       "      <td>0</td>\n",
       "      <td>0</td>\n",
       "      <td>0</td>\n",
       "      <td>0</td>\n",
       "      <td>0</td>\n",
       "    </tr>\n",
       "    <tr>\n",
       "      <th>3</th>\n",
       "      <td>6</td>\n",
       "      <td>6.0</td>\n",
       "      <td>3</td>\n",
       "      <td>0</td>\n",
       "      <td>0</td>\n",
       "      <td>0</td>\n",
       "      <td>1</td>\n",
       "      <td>1</td>\n",
       "      <td>0</td>\n",
       "      <td>0</td>\n",
       "      <td>0</td>\n",
       "      <td>1</td>\n",
       "      <td>0</td>\n",
       "      <td>0</td>\n",
       "    </tr>\n",
       "    <tr>\n",
       "      <th>4</th>\n",
       "      <td>1</td>\n",
       "      <td>6.0</td>\n",
       "      <td>3</td>\n",
       "      <td>0</td>\n",
       "      <td>0</td>\n",
       "      <td>1</td>\n",
       "      <td>0</td>\n",
       "      <td>1</td>\n",
       "      <td>0</td>\n",
       "      <td>0</td>\n",
       "      <td>0</td>\n",
       "      <td>0</td>\n",
       "      <td>0</td>\n",
       "      <td>0</td>\n",
       "    </tr>\n",
       "  </tbody>\n",
       "</table>\n",
       "</div>"
      ],
      "text/plain": [
       "   Ciclo  CANT_CURSOS_MATRICU_SIN_INGLES  NPS  Campus_1  Campus_2  Campus_3  \\\n",
       "0      2                             6.0    3         1         0         0   \n",
       "1      1                             5.0    3         0         0         1   \n",
       "2      1                             5.0    4         0         0         0   \n",
       "3      6                             6.0    3         0         0         0   \n",
       "4      1                             6.0    3         0         0         1   \n",
       "\n",
       "   Campus_4  Nivel_AC  Nivel_FC  Nivel_ON LINE  Nivel_PRESENCIAL  GEA_GEA  \\\n",
       "0         0         1         0              0                 0        0   \n",
       "1         0         1         0              0                 0        0   \n",
       "2         1         1         0              0                 0        0   \n",
       "3         1         1         0              0                 0        1   \n",
       "4         0         1         0              0                 0        0   \n",
       "\n",
       "   Delegado_Delegado  Deportista_Deportista  \n",
       "0                  1                      0  \n",
       "1                  1                      0  \n",
       "2                  0                      0  \n",
       "3                  0                      0  \n",
       "4                  0                      0  "
      ]
     },
     "execution_count": 55,
     "metadata": {},
     "output_type": "execute_result"
    }
   ],
   "source": [
    "df_ml.head()"
   ]
  },
  {
   "cell_type": "markdown",
   "metadata": {},
   "source": [
    "### Machine Learning (Baseline)"
   ]
  },
  {
   "cell_type": "code",
   "execution_count": 43,
   "metadata": {
    "collapsed": true
   },
   "outputs": [],
   "source": [
    "from sklearn.model_selection import cross_val_score\n",
    "from sklearn.linear_model import LogisticRegression\n",
    "from sklearn.linear_model import RidgeClassifier\n",
    "from sklearn.linear_model import SGDClassifier\n",
    "from sklearn.linear_model import PassiveAggressiveClassifier\n",
    "from sklearn.naive_bayes import GaussianNB\n",
    "from sklearn.naive_bayes import MultinomialNB\n",
    "from sklearn.naive_bayes import BernoulliNB\n",
    "from sklearn.svm import SVC\n",
    "from sklearn.svm import LinearSVC\n",
    "from sklearn.neighbors import KNeighborsClassifier\n",
    "from sklearn.gaussian_process import GaussianProcessClassifier\n",
    "from sklearn.ensemble import RandomForestClassifier\n",
    "from sklearn.ensemble import GradientBoostingClassifier\n",
    "from sklearn.neural_network import MLPClassifier\n",
    "from xgboost import XGBClassifier"
   ]
  },
  {
   "cell_type": "code",
   "execution_count": 92,
   "metadata": {
    "collapsed": true
   },
   "outputs": [],
   "source": [
    "import warnings\n",
    "warnings.filterwarnings('ignore')"
   ]
  },
  {
   "cell_type": "code",
   "execution_count": 44,
   "metadata": {
    "collapsed": true
   },
   "outputs": [],
   "source": [
    "import time"
   ]
  },
  {
   "cell_type": "code",
   "execution_count": 58,
   "metadata": {
    "collapsed": true
   },
   "outputs": [],
   "source": [
    "from sklearn.metrics import accuracy_score, log_loss\n",
    "def my_scorer(estimator, X, y):\n",
    "    y_pred = estimator.predict(X)\n",
    "    acc, loss = accuracy_score(y, y_pred), log_loss(y, y_pred)\n",
    "    return acc, loss"
   ]
  },
  {
   "cell_type": "code",
   "execution_count": 200,
   "metadata": {
    "collapsed": true
   },
   "outputs": [],
   "source": [
    "def run_model(clf, X, y):\n",
    "    start = int(time.time() * 1000)\n",
    "    scores = cross_val_score(clf, X, y, cv=5, scoring='accuracy', verbose=0)\n",
    "    end = int(time.time() * 1000)\n",
    "    print(\"%s \\t\\t Accuracy: %0.2f (+/- %0.2f) Time: %d ms\" % \\\n",
    "          (str(clf.__class__).split('.')[-1].replace('>','').replace(\"'\",''), \\\n",
    "          scores.mean(), scores.std() * 2, end - start))"
   ]
  },
  {
   "cell_type": "code",
   "execution_count": 60,
   "metadata": {
    "collapsed": true
   },
   "outputs": [],
   "source": [
    "def run_models(X, y):\n",
    "    run_model(LogisticRegression(), X, y)\n",
    "    run_model(RidgeClassifier(), X, y)\n",
    "    run_model(SGDClassifier(), X, y)\n",
    "#     run_model(PassiveAggressiveClassifier(), X, y)\n",
    "#     run_model(GaussianNB(), X, y)\n",
    "    run_model(MultinomialNB(), X, y)\n",
    "    run_model(BernoulliNB(), X, y)\n",
    "#     run_model(SVC(), X, y)\n",
    "    run_model(XGBClassifier(), X, y)\n",
    "    run_model(LinearSVC(), X, y)\n",
    "#     run_model(KNeighborsClassifier(), X, y)\n",
    "#     run_model(GaussianProcessClassifier(), X, y)\n",
    "    run_model(RandomForestClassifier(), X, y)\n",
    "    run_model(GradientBoostingClassifier(), X, y)\n",
    "    run_model(MLPClassifier(hidden_layer_sizes=(32)), X, y)        "
   ]
  },
  {
   "cell_type": "code",
   "execution_count": 61,
   "metadata": {},
   "outputs": [
    {
     "name": "stdout",
     "output_type": "stream",
     "text": [
      "<class 'pandas.core.frame.DataFrame'>\n",
      "RangeIndex: 20000 entries, 0 to 19999\n",
      "Data columns (total 14 columns):\n",
      "Ciclo                             20000 non-null int64\n",
      "CANT_CURSOS_MATRICU_SIN_INGLES    20000 non-null float64\n",
      "NPS                               20000 non-null int64\n",
      "Campus_1                          20000 non-null uint8\n",
      "Campus_2                          20000 non-null uint8\n",
      "Campus_3                          20000 non-null uint8\n",
      "Campus_4                          20000 non-null uint8\n",
      "Nivel_AC                          20000 non-null uint8\n",
      "Nivel_FC                          20000 non-null uint8\n",
      "Nivel_ON LINE                     20000 non-null uint8\n",
      "Nivel_PRESENCIAL                  20000 non-null uint8\n",
      "GEA_GEA                           20000 non-null uint8\n",
      "Delegado_Delegado                 20000 non-null uint8\n",
      "Deportista_Deportista             20000 non-null uint8\n",
      "dtypes: float64(1), int64(2), uint8(11)\n",
      "memory usage: 683.7 KB\n"
     ]
    }
   ],
   "source": [
    "df_ml.info()"
   ]
  },
  {
   "cell_type": "code",
   "execution_count": 62,
   "metadata": {},
   "outputs": [
    {
     "name": "stdout",
     "output_type": "stream",
     "text": [
      "LogisticRegression \t\t Accuracy: 0.45 (+/- 0.01) Time: 1135 ms\n",
      "RidgeClassifier \t\t Accuracy: 0.45 (+/- 0.01) Time: 230 ms\n",
      "SGDClassifier \t\t Accuracy: 0.28 (+/- 0.27) Time: 416 ms\n",
      "GaussianNB \t\t Accuracy: 0.16 (+/- 0.00) Time: 150 ms\n",
      "MultinomialNB \t\t Accuracy: 0.44 (+/- 0.01) Time: 157 ms\n",
      "BernoulliNB \t\t Accuracy: 0.43 (+/- 0.01) Time: 164 ms\n",
      "XGBClassifier \t\t Accuracy: 0.44 (+/- 0.01) Time: 29255 ms\n",
      "LinearSVC \t\t Accuracy: 0.44 (+/- 0.01) Time: 39401 ms\n",
      "RandomForestClassifier \t\t Accuracy: 0.43 (+/- 0.01) Time: 765 ms\n",
      "GradientBoostingClassifier \t\t Accuracy: 0.44 (+/- 0.01) Time: 36245 ms\n",
      "MLPClassifier \t\t Accuracy: 0.45 (+/- 0.01) Time: 8759 ms\n"
     ]
    }
   ],
   "source": [
    "run_models(df_ml.drop('NPS', axis=1), df_ml['NPS'])"
   ]
  },
  {
   "cell_type": "code",
   "execution_count": 63,
   "metadata": {
    "collapsed": true
   },
   "outputs": [],
   "source": [
    "def run_models(X, y):\n",
    "    run_model(LogisticRegression(), X, y)\n",
    "#     run_model(RidgeClassifier(), X, y)\n",
    "    run_model(SGDClassifier(loss='log'), X, y)\n",
    "#     run_model(PassiveAggressiveClassifier(), X, y)\n",
    "#     run_model(GaussianNB(), X, y)\n",
    "    run_model(MultinomialNB(), X, y)\n",
    "    run_model(BernoulliNB(), X, y)\n",
    "#     run_model(SVC(), X, y)\n",
    "    run_model(XGBClassifier(), X, y)\n",
    "#     run_model(LinearSVC(), X, y)\n",
    "#     run_model(KNeighborsClassifier(), X, y)\n",
    "#     run_model(GaussianProcessClassifier(), X, y)\n",
    "    run_model(RandomForestClassifier(), X, y)\n",
    "    run_model(GradientBoostingClassifier(), X, y)\n",
    "    run_model(MLPClassifier(hidden_layer_sizes=(32)), X, y)        "
   ]
  },
  {
   "cell_type": "code",
   "execution_count": 64,
   "metadata": {
    "collapsed": true
   },
   "outputs": [],
   "source": [
    "def run_model(clf, X, y):\n",
    "    start = int(time.time() * 1000)\n",
    "    scores = cross_val_score(clf, X, y, cv=5, scoring='neg_log_loss', verbose=0)\n",
    "    end = int(time.time() * 1000)\n",
    "    print(\"%s \\t\\t Accuracy: %0.2f (+/- %0.2f) Time: %d ms\" % \\\n",
    "          (str(clf.__class__).split('.')[-1].replace('>','').replace(\"'\",''), \\\n",
    "          scores.mean(), scores.std() * 2, end - start))"
   ]
  },
  {
   "cell_type": "code",
   "execution_count": 65,
   "metadata": {},
   "outputs": [
    {
     "name": "stdout",
     "output_type": "stream",
     "text": [
      "LogisticRegression \t\t Accuracy: -1.16 (+/- 0.00) Time: 1092 ms\n",
      "SGDClassifier \t\t Accuracy: -1.81 (+/- 0.28) Time: 462 ms\n",
      "GaussianNB \t\t Accuracy: -4.62 (+/- 0.21) Time: 606 ms\n",
      "MultinomialNB \t\t Accuracy: -1.17 (+/- 0.00) Time: 431 ms\n",
      "BernoulliNB \t\t Accuracy: -1.18 (+/- 0.00) Time: 223 ms\n",
      "XGBClassifier \t\t Accuracy: -1.16 (+/- 0.01) Time: 35699 ms\n",
      "RandomForestClassifier \t\t Accuracy: -2.06 (+/- 0.13) Time: 1163 ms\n",
      "GradientBoostingClassifier \t\t Accuracy: -1.16 (+/- 0.00) Time: 30499 ms\n",
      "MLPClassifier \t\t Accuracy: -1.16 (+/- 0.00) Time: 6047 ms\n"
     ]
    }
   ],
   "source": [
    "run_models(df_ml.drop('NPS', axis=1), df_ml['NPS'])"
   ]
  },
  {
   "cell_type": "markdown",
   "metadata": {},
   "source": [
    "### Improvements"
   ]
  },
  {
   "cell_type": "markdown",
   "metadata": {},
   "source": [
    "- COD_ENCUESTADO: drop\n",
    "- Nombre Campus: one-hot\n",
    "- NIVEL ACTUAL: one-hot\n",
    "- Clave de carrera: drop -> cluster (bins)\n",
    "- Ciclo: OK\n",
    "- COMENTARIO: drop -> NLP\n",
    "- IND_GEA: 0-1\n",
    "- IND_DELEGADO: 0-1\n",
    "- CANT_CURSOS_MATRICU_SIN_INGLES: OK\n",
    "- UOD_depostista_ind_deportista: 0-1 "
   ]
  },
  {
   "cell_type": "code",
   "execution_count": 66,
   "metadata": {},
   "outputs": [
    {
     "data": {
      "text/html": [
       "<div>\n",
       "<table border=\"1\" class=\"dataframe\">\n",
       "  <thead>\n",
       "    <tr style=\"text-align: right;\">\n",
       "      <th></th>\n",
       "      <th>Ciclo</th>\n",
       "      <th>CANT_CURSOS_MATRICU_SIN_INGLES</th>\n",
       "      <th>NPS</th>\n",
       "      <th>Campus_1</th>\n",
       "      <th>Campus_2</th>\n",
       "      <th>Campus_3</th>\n",
       "      <th>Campus_4</th>\n",
       "      <th>Nivel_AC</th>\n",
       "      <th>Nivel_FC</th>\n",
       "      <th>Nivel_ON LINE</th>\n",
       "      <th>Nivel_PRESENCIAL</th>\n",
       "      <th>GEA_GEA</th>\n",
       "      <th>Delegado_Delegado</th>\n",
       "      <th>Deportista_Deportista</th>\n",
       "    </tr>\n",
       "  </thead>\n",
       "  <tbody>\n",
       "    <tr>\n",
       "      <th>0</th>\n",
       "      <td>2</td>\n",
       "      <td>6.0</td>\n",
       "      <td>3</td>\n",
       "      <td>1</td>\n",
       "      <td>0</td>\n",
       "      <td>0</td>\n",
       "      <td>0</td>\n",
       "      <td>1</td>\n",
       "      <td>0</td>\n",
       "      <td>0</td>\n",
       "      <td>0</td>\n",
       "      <td>0</td>\n",
       "      <td>1</td>\n",
       "      <td>0</td>\n",
       "    </tr>\n",
       "    <tr>\n",
       "      <th>1</th>\n",
       "      <td>1</td>\n",
       "      <td>5.0</td>\n",
       "      <td>3</td>\n",
       "      <td>0</td>\n",
       "      <td>0</td>\n",
       "      <td>1</td>\n",
       "      <td>0</td>\n",
       "      <td>1</td>\n",
       "      <td>0</td>\n",
       "      <td>0</td>\n",
       "      <td>0</td>\n",
       "      <td>0</td>\n",
       "      <td>1</td>\n",
       "      <td>0</td>\n",
       "    </tr>\n",
       "    <tr>\n",
       "      <th>2</th>\n",
       "      <td>1</td>\n",
       "      <td>5.0</td>\n",
       "      <td>4</td>\n",
       "      <td>0</td>\n",
       "      <td>0</td>\n",
       "      <td>0</td>\n",
       "      <td>1</td>\n",
       "      <td>1</td>\n",
       "      <td>0</td>\n",
       "      <td>0</td>\n",
       "      <td>0</td>\n",
       "      <td>0</td>\n",
       "      <td>0</td>\n",
       "      <td>0</td>\n",
       "    </tr>\n",
       "    <tr>\n",
       "      <th>3</th>\n",
       "      <td>6</td>\n",
       "      <td>6.0</td>\n",
       "      <td>3</td>\n",
       "      <td>0</td>\n",
       "      <td>0</td>\n",
       "      <td>0</td>\n",
       "      <td>1</td>\n",
       "      <td>1</td>\n",
       "      <td>0</td>\n",
       "      <td>0</td>\n",
       "      <td>0</td>\n",
       "      <td>1</td>\n",
       "      <td>0</td>\n",
       "      <td>0</td>\n",
       "    </tr>\n",
       "    <tr>\n",
       "      <th>4</th>\n",
       "      <td>1</td>\n",
       "      <td>6.0</td>\n",
       "      <td>3</td>\n",
       "      <td>0</td>\n",
       "      <td>0</td>\n",
       "      <td>1</td>\n",
       "      <td>0</td>\n",
       "      <td>1</td>\n",
       "      <td>0</td>\n",
       "      <td>0</td>\n",
       "      <td>0</td>\n",
       "      <td>0</td>\n",
       "      <td>0</td>\n",
       "      <td>0</td>\n",
       "    </tr>\n",
       "  </tbody>\n",
       "</table>\n",
       "</div>"
      ],
      "text/plain": [
       "   Ciclo  CANT_CURSOS_MATRICU_SIN_INGLES  NPS  Campus_1  Campus_2  Campus_3  \\\n",
       "0      2                             6.0    3         1         0         0   \n",
       "1      1                             5.0    3         0         0         1   \n",
       "2      1                             5.0    4         0         0         0   \n",
       "3      6                             6.0    3         0         0         0   \n",
       "4      1                             6.0    3         0         0         1   \n",
       "\n",
       "   Campus_4  Nivel_AC  Nivel_FC  Nivel_ON LINE  Nivel_PRESENCIAL  GEA_GEA  \\\n",
       "0         0         1         0              0                 0        0   \n",
       "1         0         1         0              0                 0        0   \n",
       "2         1         1         0              0                 0        0   \n",
       "3         1         1         0              0                 0        1   \n",
       "4         0         1         0              0                 0        0   \n",
       "\n",
       "   Delegado_Delegado  Deportista_Deportista  \n",
       "0                  1                      0  \n",
       "1                  1                      0  \n",
       "2                  0                      0  \n",
       "3                  0                      0  \n",
       "4                  0                      0  "
      ]
     },
     "execution_count": 66,
     "metadata": {},
     "output_type": "execute_result"
    }
   ],
   "source": [
    "df_ml.head()"
   ]
  },
  {
   "cell_type": "code",
   "execution_count": 67,
   "metadata": {},
   "outputs": [
    {
     "data": {
      "text/html": [
       "<div>\n",
       "<table border=\"1\" class=\"dataframe\">\n",
       "  <thead>\n",
       "    <tr style=\"text-align: right;\">\n",
       "      <th></th>\n",
       "      <th>COD_ENCUESTADO</th>\n",
       "      <th>Nombre Campus</th>\n",
       "      <th>NIVEL ACTUAL</th>\n",
       "      <th>Clave de carrera</th>\n",
       "      <th>Ciclo</th>\n",
       "      <th>COMENTARIO</th>\n",
       "      <th>IND_GEA</th>\n",
       "      <th>IND_DELEGADO</th>\n",
       "      <th>CANT_CURSOS_MATRICU_SIN_INGLES</th>\n",
       "      <th>UOD_depostista_ind_deportista</th>\n",
       "      <th>NPS</th>\n",
       "    </tr>\n",
       "  </thead>\n",
       "  <tbody>\n",
       "    <tr>\n",
       "      <th>0</th>\n",
       "      <td>13501</td>\n",
       "      <td>1</td>\n",
       "      <td>AC</td>\n",
       "      <td>3</td>\n",
       "      <td>2</td>\n",
       "      <td>Me gusta la u es paja bro y soy pito</td>\n",
       "      <td>NaN</td>\n",
       "      <td>Delegado</td>\n",
       "      <td>6.0</td>\n",
       "      <td>NaN</td>\n",
       "      <td>3</td>\n",
       "    </tr>\n",
       "    <tr>\n",
       "      <th>1</th>\n",
       "      <td>23622</td>\n",
       "      <td>3</td>\n",
       "      <td>AC</td>\n",
       "      <td>25</td>\n",
       "      <td>1</td>\n",
       "      <td>El metodo de blended no le hace bien a todos</td>\n",
       "      <td>NaN</td>\n",
       "      <td>Delegado</td>\n",
       "      <td>5.0</td>\n",
       "      <td>NaN</td>\n",
       "      <td>3</td>\n",
       "    </tr>\n",
       "    <tr>\n",
       "      <th>2</th>\n",
       "      <td>8354</td>\n",
       "      <td>4</td>\n",
       "      <td>AC</td>\n",
       "      <td>31</td>\n",
       "      <td>1</td>\n",
       "      <td>Los profesores, sus métodos de enseñanza bes ...</td>\n",
       "      <td>NaN</td>\n",
       "      <td>NaN</td>\n",
       "      <td>5.0</td>\n",
       "      <td>NaN</td>\n",
       "      <td>4</td>\n",
       "    </tr>\n",
       "    <tr>\n",
       "      <th>3</th>\n",
       "      <td>17745</td>\n",
       "      <td>4</td>\n",
       "      <td>AC</td>\n",
       "      <td>28</td>\n",
       "      <td>6</td>\n",
       "      <td>Porque posee gran mayoría de profesores espec...</td>\n",
       "      <td>GEA</td>\n",
       "      <td>NaN</td>\n",
       "      <td>6.0</td>\n",
       "      <td>NaN</td>\n",
       "      <td>3</td>\n",
       "    </tr>\n",
       "    <tr>\n",
       "      <th>4</th>\n",
       "      <td>10867</td>\n",
       "      <td>3</td>\n",
       "      <td>AC</td>\n",
       "      <td>34</td>\n",
       "      <td>1</td>\n",
       "      <td>La pencion</td>\n",
       "      <td>NaN</td>\n",
       "      <td>NaN</td>\n",
       "      <td>6.0</td>\n",
       "      <td>NaN</td>\n",
       "      <td>3</td>\n",
       "    </tr>\n",
       "  </tbody>\n",
       "</table>\n",
       "</div>"
      ],
      "text/plain": [
       "   COD_ENCUESTADO  Nombre Campus NIVEL ACTUAL  Clave de carrera  Ciclo  \\\n",
       "0           13501              1           AC                 3      2   \n",
       "1           23622              3           AC                25      1   \n",
       "2            8354              4           AC                31      1   \n",
       "3           17745              4           AC                28      6   \n",
       "4           10867              3           AC                34      1   \n",
       "\n",
       "                                          COMENTARIO IND_GEA IND_DELEGADO  \\\n",
       "0               Me gusta la u es paja bro y soy pito     NaN     Delegado   \n",
       "1       El metodo de blended no le hace bien a todos     NaN     Delegado   \n",
       "2   Los profesores, sus métodos de enseñanza bes ...     NaN          NaN   \n",
       "3   Porque posee gran mayoría de profesores espec...     GEA          NaN   \n",
       "4                                         La pencion     NaN          NaN   \n",
       "\n",
       "   CANT_CURSOS_MATRICU_SIN_INGLES UOD_depostista_ind_deportista  NPS  \n",
       "0                             6.0                           NaN    3  \n",
       "1                             5.0                           NaN    3  \n",
       "2                             5.0                           NaN    4  \n",
       "3                             6.0                           NaN    3  \n",
       "4                             6.0                           NaN    3  "
      ]
     },
     "execution_count": 67,
     "metadata": {},
     "output_type": "execute_result"
    }
   ],
   "source": [
    "df.head()"
   ]
  },
  {
   "cell_type": "code",
   "execution_count": 68,
   "metadata": {},
   "outputs": [
    {
     "data": {
      "text/plain": [
       "<matplotlib.axes._subplots.AxesSubplot at 0x16c214639e8>"
      ]
     },
     "execution_count": 68,
     "metadata": {},
     "output_type": "execute_result"
    },
    {
     "data": {
      "image/png": "[encoded data removed]",
      "text/plain": [
       "<matplotlib.figure.Figure at 0x16c214244a8>"
      ]
     },
     "metadata": {
      "image/png": {
       "height": 329,
       "width": 490
      }
     },
     "output_type": "display_data"
    }
   ],
   "source": [
    "df['COMENTARIO'].apply(lambda x: len(x.strip())).hist(bins=100)"
   ]
  },
  {
   "cell_type": "code",
   "execution_count": 21,
   "metadata": {
    "collapsed": true
   },
   "outputs": [],
   "source": [
    "from unidecode import unidecode\n",
    "import re"
   ]
  },
  {
   "cell_type": "code",
   "execution_count": 22,
   "metadata": {
    "collapsed": true
   },
   "outputs": [],
   "source": [
    "lemmatize = {}\n",
    "with open('lemmatization-es.txt') as f:\n",
    "    lemmatize = {unidecode(line.split()[1]): unidecode(line.split()[0]) for line in f.readlines()}\n",
    "lemmatize['para'] = 'para'\n",
    "lemmatize['nos'] = 'nos'\n",
    "lemmatize['como'] = 'como'\n",
    "lemmatize['estuvieramos'] = 'estar'\n",
    "lemmatize['lo'] = 'lo'\n",
    "lemmatize['el'] = 'el'\n",
    "lemmatize['la'] = 'el'\n",
    "lemmatize['los'] = 'el'\n",
    "lemmatize['las'] = 'el'\n",
    "lemmatize['una'] = '1'\n",
    "lemmatize['uno'] = '1'\n",
    "lemmatize['un'] = '1'\n",
    "lemmatize['dos'] = '2'\n",
    "lemmatize['nada'] = 'nada'\n",
    "lemmatize['espacio'] = 'espacio'\n",
    "lemmatize['persona'] = 'persona'\n",
    "lemmatize['personas'] = 'persona'"
   ]
  },
  {
   "cell_type": "code",
   "execution_count": 23,
   "metadata": {
    "collapsed": true
   },
   "outputs": [],
   "source": [
    "vocab = Counter()\n",
    "for comment in df['COMENTARIO']:\n",
    "    vocab.update([lemmatize.get(unidecode(x), unidecode(x)) for x in re.sub(r\"[;, \\(\\)',!?._-]\", \" \", comment.lower()).split()])"
   ]
  },
  {
   "cell_type": "code",
   "execution_count": 24,
   "metadata": {},
   "outputs": [
    {
     "data": {
      "text/plain": [
       "7740"
      ]
     },
     "execution_count": 24,
     "metadata": {},
     "output_type": "execute_result"
    }
   ],
   "source": [
    "len(vocab) # 17,384"
   ]
  },
  {
   "cell_type": "code",
   "execution_count": 25,
   "metadata": {},
   "outputs": [
    {
     "data": {
      "text/plain": [
       "[('el', 27768),\n",
       " ('de', 13130),\n",
       " ('que', 8271),\n",
       " ('y', 8077),\n",
       " ('en', 7200),\n",
       " ('ser', 6761),\n",
       " ('no', 4580),\n",
       " ('a', 3590),\n",
       " ('1', 3508),\n",
       " ('para', 3464)]"
      ]
     },
     "execution_count": 25,
     "metadata": {},
     "output_type": "execute_result"
    }
   ],
   "source": [
    "vocab.most_common(10)"
   ]
  },
  {
   "cell_type": "code",
   "execution_count": 125,
   "metadata": {
    "collapsed": true
   },
   "outputs": [],
   "source": [
    "pd.DataFrame(vocab.most_common(), columns=['Word', 'Frequency']).to_csv('Vocabulary.csv', index=False)"
   ]
  },
  {
   "cell_type": "code",
   "execution_count": 156,
   "metadata": {},
   "outputs": [
    {
     "data": {
      "text/html": [
       "<div>\n",
       "<table border=\"1\" class=\"dataframe\">\n",
       "  <thead>\n",
       "    <tr style=\"text-align: right;\">\n",
       "      <th></th>\n",
       "      <th>COD_ENCUESTADO</th>\n",
       "      <th>Nombre Campus</th>\n",
       "      <th>NIVEL ACTUAL</th>\n",
       "      <th>Clave de carrera</th>\n",
       "      <th>Ciclo</th>\n",
       "      <th>COMENTARIO</th>\n",
       "      <th>IND_GEA</th>\n",
       "      <th>IND_DELEGADO</th>\n",
       "      <th>CANT_CURSOS_MATRICU_SIN_INGLES</th>\n",
       "      <th>UOD_depostista_ind_deportista</th>\n",
       "      <th>NPS</th>\n",
       "    </tr>\n",
       "  </thead>\n",
       "  <tbody>\n",
       "    <tr>\n",
       "      <th>9</th>\n",
       "      <td>26698</td>\n",
       "      <td>1</td>\n",
       "      <td>FC</td>\n",
       "      <td>109</td>\n",
       "      <td>7</td>\n",
       "      <td>No es posible que para tener que matricularme...</td>\n",
       "      <td>NaN</td>\n",
       "      <td>Delegado</td>\n",
       "      <td>4.0</td>\n",
       "      <td>NaN</td>\n",
       "      <td>2</td>\n",
       "    </tr>\n",
       "    <tr>\n",
       "      <th>16</th>\n",
       "      <td>33316</td>\n",
       "      <td>2</td>\n",
       "      <td>FC</td>\n",
       "      <td>105</td>\n",
       "      <td>7</td>\n",
       "      <td>Primero, cambiar el horario de estudios cuand...</td>\n",
       "      <td>NaN</td>\n",
       "      <td>NaN</td>\n",
       "      <td>3.0</td>\n",
       "      <td>NaN</td>\n",
       "      <td>1</td>\n",
       "    </tr>\n",
       "    <tr>\n",
       "      <th>19</th>\n",
       "      <td>8773</td>\n",
       "      <td>1</td>\n",
       "      <td>AC</td>\n",
       "      <td>34</td>\n",
       "      <td>4</td>\n",
       "      <td>Demasiadas personas dentro del campus han qui...</td>\n",
       "      <td>NaN</td>\n",
       "      <td>Delegado</td>\n",
       "      <td>6.0</td>\n",
       "      <td>NaN</td>\n",
       "      <td>1</td>\n",
       "    </tr>\n",
       "    <tr>\n",
       "      <th>52</th>\n",
       "      <td>29495</td>\n",
       "      <td>4</td>\n",
       "      <td>FC</td>\n",
       "      <td>107</td>\n",
       "      <td>4</td>\n",
       "      <td>La enseñanza y temas son engaña muchachosel c...</td>\n",
       "      <td>NaN</td>\n",
       "      <td>NaN</td>\n",
       "      <td>4.0</td>\n",
       "      <td>NaN</td>\n",
       "      <td>1</td>\n",
       "    </tr>\n",
       "    <tr>\n",
       "      <th>70</th>\n",
       "      <td>7462</td>\n",
       "      <td>3</td>\n",
       "      <td>AC</td>\n",
       "      <td>5</td>\n",
       "      <td>5</td>\n",
       "      <td>Falta de aulas en cursos como Investigación d...</td>\n",
       "      <td>NaN</td>\n",
       "      <td>NaN</td>\n",
       "      <td>5.0</td>\n",
       "      <td>NaN</td>\n",
       "      <td>2</td>\n",
       "    </tr>\n",
       "    <tr>\n",
       "      <th>89</th>\n",
       "      <td>23451</td>\n",
       "      <td>1</td>\n",
       "      <td>AC</td>\n",
       "      <td>5</td>\n",
       "      <td>7</td>\n",
       "      <td>Respecto a la plataforma para celulares, la a...</td>\n",
       "      <td>NaN</td>\n",
       "      <td>NaN</td>\n",
       "      <td>6.0</td>\n",
       "      <td>NaN</td>\n",
       "      <td>3</td>\n",
       "    </tr>\n",
       "    <tr>\n",
       "      <th>184</th>\n",
       "      <td>25885</td>\n",
       "      <td>4</td>\n",
       "      <td>FC</td>\n",
       "      <td>101</td>\n",
       "      <td>3</td>\n",
       "      <td>La matrícula de este ciclo fue una pesadilla ...</td>\n",
       "      <td>NaN</td>\n",
       "      <td>NaN</td>\n",
       "      <td>4.0</td>\n",
       "      <td>NaN</td>\n",
       "      <td>1</td>\n",
       "    </tr>\n",
       "    <tr>\n",
       "      <th>200</th>\n",
       "      <td>15117</td>\n",
       "      <td>3</td>\n",
       "      <td>AC</td>\n",
       "      <td>7</td>\n",
       "      <td>6</td>\n",
       "      <td>Hay tantas personas en la universidad que par...</td>\n",
       "      <td>NaN</td>\n",
       "      <td>Delegado</td>\n",
       "      <td>4.0</td>\n",
       "      <td>NaN</td>\n",
       "      <td>2</td>\n",
       "    </tr>\n",
       "    <tr>\n",
       "      <th>214</th>\n",
       "      <td>5634</td>\n",
       "      <td>1</td>\n",
       "      <td>AC</td>\n",
       "      <td>37</td>\n",
       "      <td>1</td>\n",
       "      <td>Porque sé que tiene una malla distinta a otra...</td>\n",
       "      <td>NaN</td>\n",
       "      <td>Delegado</td>\n",
       "      <td>6.0</td>\n",
       "      <td>NaN</td>\n",
       "      <td>4</td>\n",
       "    </tr>\n",
       "    <tr>\n",
       "      <th>235</th>\n",
       "      <td>19910</td>\n",
       "      <td>2</td>\n",
       "      <td>AC</td>\n",
       "      <td>32</td>\n",
       "      <td>1</td>\n",
       "      <td>en el exceso de alumnos no bien preparados, e...</td>\n",
       "      <td>NaN</td>\n",
       "      <td>NaN</td>\n",
       "      <td>6.0</td>\n",
       "      <td>NaN</td>\n",
       "      <td>1</td>\n",
       "    </tr>\n",
       "    <tr>\n",
       "      <th>237</th>\n",
       "      <td>22150</td>\n",
       "      <td>3</td>\n",
       "      <td>AC</td>\n",
       "      <td>25</td>\n",
       "      <td>1</td>\n",
       "      <td>Lo que mas valoro de la universidad es que a ...</td>\n",
       "      <td>NaN</td>\n",
       "      <td>NaN</td>\n",
       "      <td>5.0</td>\n",
       "      <td>NaN</td>\n",
       "      <td>4</td>\n",
       "    </tr>\n",
       "    <tr>\n",
       "      <th>275</th>\n",
       "      <td>29546</td>\n",
       "      <td>3</td>\n",
       "      <td>FC</td>\n",
       "      <td>104</td>\n",
       "      <td>5</td>\n",
       "      <td>Los profesores son pésimos explicando ejemplo...</td>\n",
       "      <td>NaN</td>\n",
       "      <td>NaN</td>\n",
       "      <td>3.0</td>\n",
       "      <td>NaN</td>\n",
       "      <td>1</td>\n",
       "    </tr>\n",
       "    <tr>\n",
       "      <th>329</th>\n",
       "      <td>11444</td>\n",
       "      <td>1</td>\n",
       "      <td>AC</td>\n",
       "      <td>33</td>\n",
       "      <td>2</td>\n",
       "      <td>Los proyectos son bastante buenos, pero falla...</td>\n",
       "      <td>NaN</td>\n",
       "      <td>NaN</td>\n",
       "      <td>5.0</td>\n",
       "      <td>NaN</td>\n",
       "      <td>2</td>\n",
       "    </tr>\n",
       "    <tr>\n",
       "      <th>373</th>\n",
       "      <td>23584</td>\n",
       "      <td>1</td>\n",
       "      <td>AC</td>\n",
       "      <td>37</td>\n",
       "      <td>3</td>\n",
       "      <td>Debería de haber por ley una guardería y un l...</td>\n",
       "      <td>NaN</td>\n",
       "      <td>NaN</td>\n",
       "      <td>5.0</td>\n",
       "      <td>NaN</td>\n",
       "      <td>2</td>\n",
       "    </tr>\n",
       "    <tr>\n",
       "      <th>397</th>\n",
       "      <td>14303</td>\n",
       "      <td>4</td>\n",
       "      <td>AC</td>\n",
       "      <td>5</td>\n",
       "      <td>2</td>\n",
       "      <td>En primer lugar, la atención no es eficiente ...</td>\n",
       "      <td>NaN</td>\n",
       "      <td>Delegado</td>\n",
       "      <td>3.0</td>\n",
       "      <td>NaN</td>\n",
       "      <td>2</td>\n",
       "    </tr>\n",
       "    <tr>\n",
       "      <th>403</th>\n",
       "      <td>7724</td>\n",
       "      <td>3</td>\n",
       "      <td>AC</td>\n",
       "      <td>10</td>\n",
       "      <td>6</td>\n",
       "      <td>Deben poner microondas en los primeros pisos ...</td>\n",
       "      <td>GEA</td>\n",
       "      <td>NaN</td>\n",
       "      <td>7.0</td>\n",
       "      <td>NaN</td>\n",
       "      <td>3</td>\n",
       "    </tr>\n",
       "    <tr>\n",
       "      <th>404</th>\n",
       "      <td>7560</td>\n",
       "      <td>4</td>\n",
       "      <td>AC</td>\n",
       "      <td>31</td>\n",
       "      <td>3</td>\n",
       "      <td>La app mi universidad es muy deficiente u no ...</td>\n",
       "      <td>NaN</td>\n",
       "      <td>Delegado</td>\n",
       "      <td>4.0</td>\n",
       "      <td>NaN</td>\n",
       "      <td>3</td>\n",
       "    </tr>\n",
       "    <tr>\n",
       "      <th>479</th>\n",
       "      <td>18205</td>\n",
       "      <td>4</td>\n",
       "      <td>AC</td>\n",
       "      <td>29</td>\n",
       "      <td>6</td>\n",
       "      <td>Las quejas de los alumnos no siempre son aten...</td>\n",
       "      <td>GEA</td>\n",
       "      <td>Delegado</td>\n",
       "      <td>6.0</td>\n",
       "      <td>NaN</td>\n",
       "      <td>2</td>\n",
       "    </tr>\n",
       "    <tr>\n",
       "      <th>520</th>\n",
       "      <td>22886</td>\n",
       "      <td>2</td>\n",
       "      <td>AC</td>\n",
       "      <td>13</td>\n",
       "      <td>1</td>\n",
       "      <td>Optar por espacios más grandes , ya que ya af...</td>\n",
       "      <td>NaN</td>\n",
       "      <td>NaN</td>\n",
       "      <td>7.0</td>\n",
       "      <td>NaN</td>\n",
       "      <td>2</td>\n",
       "    </tr>\n",
       "    <tr>\n",
       "      <th>538</th>\n",
       "      <td>25852</td>\n",
       "      <td>1</td>\n",
       "      <td>FC</td>\n",
       "      <td>107</td>\n",
       "      <td>3</td>\n",
       "      <td>La asesoría virtual, si bien es de cada alumn...</td>\n",
       "      <td>NaN</td>\n",
       "      <td>Delegado</td>\n",
       "      <td>5.0</td>\n",
       "      <td>NaN</td>\n",
       "      <td>3</td>\n",
       "    </tr>\n",
       "    <tr>\n",
       "      <th>615</th>\n",
       "      <td>4852</td>\n",
       "      <td>4</td>\n",
       "      <td>AC</td>\n",
       "      <td>29</td>\n",
       "      <td>4</td>\n",
       "      <td>si bien la universidad ha crecido en cuanto a...</td>\n",
       "      <td>NaN</td>\n",
       "      <td>NaN</td>\n",
       "      <td>4.0</td>\n",
       "      <td>NaN</td>\n",
       "      <td>1</td>\n",
       "    </tr>\n",
       "    <tr>\n",
       "      <th>680</th>\n",
       "      <td>27340</td>\n",
       "      <td>3</td>\n",
       "      <td>FC</td>\n",
       "      <td>100</td>\n",
       "      <td>5</td>\n",
       "      <td>Mejorar el Blackboard, a veces es desordenado...</td>\n",
       "      <td>NaN</td>\n",
       "      <td>NaN</td>\n",
       "      <td>5.0</td>\n",
       "      <td>NaN</td>\n",
       "      <td>3</td>\n",
       "    </tr>\n",
       "    <tr>\n",
       "      <th>789</th>\n",
       "      <td>29834</td>\n",
       "      <td>4</td>\n",
       "      <td>FC</td>\n",
       "      <td>107</td>\n",
       "      <td>6</td>\n",
       "      <td>A pasar de tener varies sedes no Dan la facil...</td>\n",
       "      <td>NaN</td>\n",
       "      <td>NaN</td>\n",
       "      <td>1.0</td>\n",
       "      <td>NaN</td>\n",
       "      <td>2</td>\n",
       "    </tr>\n",
       "    <tr>\n",
       "      <th>826</th>\n",
       "      <td>13263</td>\n",
       "      <td>4</td>\n",
       "      <td>AC</td>\n",
       "      <td>3</td>\n",
       "      <td>2</td>\n",
       "      <td>Facilidad en el cambio de carrera. Mejoras en...</td>\n",
       "      <td>NaN</td>\n",
       "      <td>NaN</td>\n",
       "      <td>5.0</td>\n",
       "      <td>NaN</td>\n",
       "      <td>3</td>\n",
       "    </tr>\n",
       "    <tr>\n",
       "      <th>830</th>\n",
       "      <td>1846</td>\n",
       "      <td>4</td>\n",
       "      <td>AC</td>\n",
       "      <td>31</td>\n",
       "      <td>2</td>\n",
       "      <td>El problema radica en el sistema y los fallos...</td>\n",
       "      <td>NaN</td>\n",
       "      <td>NaN</td>\n",
       "      <td>7.0</td>\n",
       "      <td>NaN</td>\n",
       "      <td>3</td>\n",
       "    </tr>\n",
       "    <tr>\n",
       "      <th>872</th>\n",
       "      <td>28516</td>\n",
       "      <td>4</td>\n",
       "      <td>FC</td>\n",
       "      <td>105</td>\n",
       "      <td>1</td>\n",
       "      <td>Cuando ingrese pregunte sobre los cursos para...</td>\n",
       "      <td>NaN</td>\n",
       "      <td>NaN</td>\n",
       "      <td>4.0</td>\n",
       "      <td>NaN</td>\n",
       "      <td>1</td>\n",
       "    </tr>\n",
       "    <tr>\n",
       "      <th>926</th>\n",
       "      <td>26171</td>\n",
       "      <td>2</td>\n",
       "      <td>FC</td>\n",
       "      <td>107</td>\n",
       "      <td>1</td>\n",
       "      <td>Soy del programa Epe realmente estoy contenta...</td>\n",
       "      <td>NaN</td>\n",
       "      <td>NaN</td>\n",
       "      <td>4.0</td>\n",
       "      <td>NaN</td>\n",
       "      <td>4</td>\n",
       "    </tr>\n",
       "    <tr>\n",
       "      <th>952</th>\n",
       "      <td>6702</td>\n",
       "      <td>4</td>\n",
       "      <td>AC</td>\n",
       "      <td>15</td>\n",
       "      <td>5</td>\n",
       "      <td>Me han estafado. No hay áreas de esparcimient...</td>\n",
       "      <td>NaN</td>\n",
       "      <td>NaN</td>\n",
       "      <td>7.0</td>\n",
       "      <td>NaN</td>\n",
       "      <td>1</td>\n",
       "    </tr>\n",
       "    <tr>\n",
       "      <th>982</th>\n",
       "      <td>33349</td>\n",
       "      <td>4</td>\n",
       "      <td>PRESENCIAL</td>\n",
       "      <td>210</td>\n",
       "      <td>1</td>\n",
       "      <td>Su plana de directivos esta en constante búsq...</td>\n",
       "      <td>NaN</td>\n",
       "      <td>NaN</td>\n",
       "      <td>NaN</td>\n",
       "      <td>NaN</td>\n",
       "      <td>4</td>\n",
       "    </tr>\n",
       "    <tr>\n",
       "      <th>996</th>\n",
       "      <td>27075</td>\n",
       "      <td>3</td>\n",
       "      <td>FC</td>\n",
       "      <td>101</td>\n",
       "      <td>5</td>\n",
       "      <td>En las sedes, ya no alcanzó a llegar a clases...</td>\n",
       "      <td>NaN</td>\n",
       "      <td>NaN</td>\n",
       "      <td>4.0</td>\n",
       "      <td>NaN</td>\n",
       "      <td>1</td>\n",
       "    </tr>\n",
       "    <tr>\n",
       "      <th>...</th>\n",
       "      <td>...</td>\n",
       "      <td>...</td>\n",
       "      <td>...</td>\n",
       "      <td>...</td>\n",
       "      <td>...</td>\n",
       "      <td>...</td>\n",
       "      <td>...</td>\n",
       "      <td>...</td>\n",
       "      <td>...</td>\n",
       "      <td>...</td>\n",
       "      <td>...</td>\n",
       "    </tr>\n",
       "    <tr>\n",
       "      <th>18723</th>\n",
       "      <td>22167</td>\n",
       "      <td>3</td>\n",
       "      <td>AC</td>\n",
       "      <td>18</td>\n",
       "      <td>3</td>\n",
       "      <td>Malos horarios.para los cachimbos, no dan muc...</td>\n",
       "      <td>NaN</td>\n",
       "      <td>NaN</td>\n",
       "      <td>5.0</td>\n",
       "      <td>NaN</td>\n",
       "      <td>2</td>\n",
       "    </tr>\n",
       "    <tr>\n",
       "      <th>18725</th>\n",
       "      <td>31203</td>\n",
       "      <td>4</td>\n",
       "      <td>FC</td>\n",
       "      <td>104</td>\n",
       "      <td>2</td>\n",
       "      <td>El cambio de horario de 8 a 11 es inadecuado,...</td>\n",
       "      <td>NaN</td>\n",
       "      <td>NaN</td>\n",
       "      <td>5.0</td>\n",
       "      <td>NaN</td>\n",
       "      <td>2</td>\n",
       "    </tr>\n",
       "    <tr>\n",
       "      <th>18778</th>\n",
       "      <td>25587</td>\n",
       "      <td>3</td>\n",
       "      <td>FC</td>\n",
       "      <td>103</td>\n",
       "      <td>7</td>\n",
       "      <td>Primero bloquean a los alumnos si es que no h...</td>\n",
       "      <td>NaN</td>\n",
       "      <td>NaN</td>\n",
       "      <td>2.0</td>\n",
       "      <td>NaN</td>\n",
       "      <td>1</td>\n",
       "    </tr>\n",
       "    <tr>\n",
       "      <th>18807</th>\n",
       "      <td>18809</td>\n",
       "      <td>3</td>\n",
       "      <td>AC</td>\n",
       "      <td>5</td>\n",
       "      <td>5</td>\n",
       "      <td>Yo tengo mas que nada problemas, con los espa...</td>\n",
       "      <td>NaN</td>\n",
       "      <td>Delegado</td>\n",
       "      <td>5.0</td>\n",
       "      <td>NaN</td>\n",
       "      <td>2</td>\n",
       "    </tr>\n",
       "    <tr>\n",
       "      <th>18814</th>\n",
       "      <td>4692</td>\n",
       "      <td>4</td>\n",
       "      <td>AC</td>\n",
       "      <td>26</td>\n",
       "      <td>3</td>\n",
       "      <td>Los profesores cancelan sus clases sin avisar...</td>\n",
       "      <td>NaN</td>\n",
       "      <td>NaN</td>\n",
       "      <td>3.0</td>\n",
       "      <td>NaN</td>\n",
       "      <td>2</td>\n",
       "    </tr>\n",
       "    <tr>\n",
       "      <th>18958</th>\n",
       "      <td>31233</td>\n",
       "      <td>1</td>\n",
       "      <td>FC</td>\n",
       "      <td>106</td>\n",
       "      <td>2</td>\n",
       "      <td>Mucha burocracia para los tramites, cobro exc...</td>\n",
       "      <td>NaN</td>\n",
       "      <td>NaN</td>\n",
       "      <td>2.0</td>\n",
       "      <td>NaN</td>\n",
       "      <td>2</td>\n",
       "    </tr>\n",
       "    <tr>\n",
       "      <th>19020</th>\n",
       "      <td>3239</td>\n",
       "      <td>1</td>\n",
       "      <td>AC</td>\n",
       "      <td>26</td>\n",
       "      <td>2</td>\n",
       "      <td>La verdad es que no son muy exihentes.No tend...</td>\n",
       "      <td>NaN</td>\n",
       "      <td>Delegado</td>\n",
       "      <td>5.0</td>\n",
       "      <td>NaN</td>\n",
       "      <td>1</td>\n",
       "    </tr>\n",
       "    <tr>\n",
       "      <th>19080</th>\n",
       "      <td>25780</td>\n",
       "      <td>1</td>\n",
       "      <td>FC</td>\n",
       "      <td>107</td>\n",
       "      <td>4</td>\n",
       "      <td>Atencion al cliente, en la actualidad debido ...</td>\n",
       "      <td>NaN</td>\n",
       "      <td>NaN</td>\n",
       "      <td>4.0</td>\n",
       "      <td>NaN</td>\n",
       "      <td>3</td>\n",
       "    </tr>\n",
       "    <tr>\n",
       "      <th>19102</th>\n",
       "      <td>10058</td>\n",
       "      <td>4</td>\n",
       "      <td>AC</td>\n",
       "      <td>21</td>\n",
       "      <td>1</td>\n",
       "      <td>Los cambios en el reglamento académico deberí...</td>\n",
       "      <td>NaN</td>\n",
       "      <td>NaN</td>\n",
       "      <td>4.0</td>\n",
       "      <td>NaN</td>\n",
       "      <td>3</td>\n",
       "    </tr>\n",
       "    <tr>\n",
       "      <th>19256</th>\n",
       "      <td>21624</td>\n",
       "      <td>3</td>\n",
       "      <td>AC</td>\n",
       "      <td>31</td>\n",
       "      <td>2</td>\n",
       "      <td>No hay examen de admisión; no deberia haber b...</td>\n",
       "      <td>NaN</td>\n",
       "      <td>NaN</td>\n",
       "      <td>4.0</td>\n",
       "      <td>NaN</td>\n",
       "      <td>2</td>\n",
       "    </tr>\n",
       "    <tr>\n",
       "      <th>19270</th>\n",
       "      <td>26178</td>\n",
       "      <td>4</td>\n",
       "      <td>FC</td>\n",
       "      <td>108</td>\n",
       "      <td>6</td>\n",
       "      <td>Hay algunos profesores que son buenos, pero o...</td>\n",
       "      <td>NaN</td>\n",
       "      <td>NaN</td>\n",
       "      <td>2.0</td>\n",
       "      <td>NaN</td>\n",
       "      <td>3</td>\n",
       "    </tr>\n",
       "    <tr>\n",
       "      <th>19302</th>\n",
       "      <td>7719</td>\n",
       "      <td>4</td>\n",
       "      <td>AC</td>\n",
       "      <td>15</td>\n",
       "      <td>2</td>\n",
       "      <td>Es muy bueno en cuanto a enseñanza con profes...</td>\n",
       "      <td>NaN</td>\n",
       "      <td>NaN</td>\n",
       "      <td>7.0</td>\n",
       "      <td>NaN</td>\n",
       "      <td>3</td>\n",
       "    </tr>\n",
       "    <tr>\n",
       "      <th>19390</th>\n",
       "      <td>9065</td>\n",
       "      <td>4</td>\n",
       "      <td>AC</td>\n",
       "      <td>26</td>\n",
       "      <td>1</td>\n",
       "      <td>Cuando ingresé para la carrera que me gustaba...</td>\n",
       "      <td>NaN</td>\n",
       "      <td>NaN</td>\n",
       "      <td>4.0</td>\n",
       "      <td>NaN</td>\n",
       "      <td>2</td>\n",
       "    </tr>\n",
       "    <tr>\n",
       "      <th>19392</th>\n",
       "      <td>21441</td>\n",
       "      <td>3</td>\n",
       "      <td>AC</td>\n",
       "      <td>5</td>\n",
       "      <td>1</td>\n",
       "      <td>Todo los profesores de las tutorias deberían ...</td>\n",
       "      <td>NaN</td>\n",
       "      <td>NaN</td>\n",
       "      <td>5.0</td>\n",
       "      <td>NaN</td>\n",
       "      <td>3</td>\n",
       "    </tr>\n",
       "    <tr>\n",
       "      <th>19424</th>\n",
       "      <td>20636</td>\n",
       "      <td>1</td>\n",
       "      <td>AC</td>\n",
       "      <td>33</td>\n",
       "      <td>2</td>\n",
       "      <td>me parece que algunos cursos están mal estruc...</td>\n",
       "      <td>NaN</td>\n",
       "      <td>NaN</td>\n",
       "      <td>4.0</td>\n",
       "      <td>NaN</td>\n",
       "      <td>2</td>\n",
       "    </tr>\n",
       "    <tr>\n",
       "      <th>19428</th>\n",
       "      <td>29615</td>\n",
       "      <td>3</td>\n",
       "      <td>FC</td>\n",
       "      <td>105</td>\n",
       "      <td>1</td>\n",
       "      <td>Es pésima la plataforma! No hay información a...</td>\n",
       "      <td>NaN</td>\n",
       "      <td>NaN</td>\n",
       "      <td>4.0</td>\n",
       "      <td>NaN</td>\n",
       "      <td>2</td>\n",
       "    </tr>\n",
       "    <tr>\n",
       "      <th>19450</th>\n",
       "      <td>20704</td>\n",
       "      <td>2</td>\n",
       "      <td>AC</td>\n",
       "      <td>31</td>\n",
       "      <td>2</td>\n",
       "      <td>La calidad educativa , es decir el material b...</td>\n",
       "      <td>NaN</td>\n",
       "      <td>NaN</td>\n",
       "      <td>5.0</td>\n",
       "      <td>NaN</td>\n",
       "      <td>4</td>\n",
       "    </tr>\n",
       "    <tr>\n",
       "      <th>19533</th>\n",
       "      <td>17538</td>\n",
       "      <td>2</td>\n",
       "      <td>AC</td>\n",
       "      <td>15</td>\n",
       "      <td>3</td>\n",
       "      <td>Me parece terrible que en la universidad exis...</td>\n",
       "      <td>NaN</td>\n",
       "      <td>NaN</td>\n",
       "      <td>4.0</td>\n",
       "      <td>NaN</td>\n",
       "      <td>1</td>\n",
       "    </tr>\n",
       "    <tr>\n",
       "      <th>19623</th>\n",
       "      <td>31645</td>\n",
       "      <td>2</td>\n",
       "      <td>FC</td>\n",
       "      <td>103</td>\n",
       "      <td>1</td>\n",
       "      <td>No tuve una buena experiencia en mi primer dí...</td>\n",
       "      <td>NaN</td>\n",
       "      <td>NaN</td>\n",
       "      <td>4.0</td>\n",
       "      <td>NaN</td>\n",
       "      <td>3</td>\n",
       "    </tr>\n",
       "    <tr>\n",
       "      <th>19657</th>\n",
       "      <td>13907</td>\n",
       "      <td>4</td>\n",
       "      <td>AC</td>\n",
       "      <td>5</td>\n",
       "      <td>2</td>\n",
       "      <td>Es sistema educativo es bueno, posee excelent...</td>\n",
       "      <td>NaN</td>\n",
       "      <td>NaN</td>\n",
       "      <td>5.0</td>\n",
       "      <td>NaN</td>\n",
       "      <td>3</td>\n",
       "    </tr>\n",
       "    <tr>\n",
       "      <th>19699</th>\n",
       "      <td>8280</td>\n",
       "      <td>1</td>\n",
       "      <td>AC</td>\n",
       "      <td>25</td>\n",
       "      <td>1</td>\n",
       "      <td>No hay áreas de descanso, y el precio de los ...</td>\n",
       "      <td>NaN</td>\n",
       "      <td>NaN</td>\n",
       "      <td>5.0</td>\n",
       "      <td>NaN</td>\n",
       "      <td>2</td>\n",
       "    </tr>\n",
       "    <tr>\n",
       "      <th>19705</th>\n",
       "      <td>30042</td>\n",
       "      <td>3</td>\n",
       "      <td>FC</td>\n",
       "      <td>101</td>\n",
       "      <td>5</td>\n",
       "      <td>Valoro mucho la exigencia en los estudios pon...</td>\n",
       "      <td>NaN</td>\n",
       "      <td>NaN</td>\n",
       "      <td>2.0</td>\n",
       "      <td>NaN</td>\n",
       "      <td>4</td>\n",
       "    </tr>\n",
       "    <tr>\n",
       "      <th>19826</th>\n",
       "      <td>10491</td>\n",
       "      <td>4</td>\n",
       "      <td>AC</td>\n",
       "      <td>14</td>\n",
       "      <td>2</td>\n",
       "      <td>En la sede San Isidro, sería necesario poner ...</td>\n",
       "      <td>NaN</td>\n",
       "      <td>NaN</td>\n",
       "      <td>5.0</td>\n",
       "      <td>NaN</td>\n",
       "      <td>3</td>\n",
       "    </tr>\n",
       "    <tr>\n",
       "      <th>19832</th>\n",
       "      <td>24119</td>\n",
       "      <td>3</td>\n",
       "      <td>AC</td>\n",
       "      <td>5</td>\n",
       "      <td>1</td>\n",
       "      <td>El blended me parece que es una gran idea por...</td>\n",
       "      <td>NaN</td>\n",
       "      <td>NaN</td>\n",
       "      <td>7.0</td>\n",
       "      <td>NaN</td>\n",
       "      <td>3</td>\n",
       "    </tr>\n",
       "    <tr>\n",
       "      <th>19857</th>\n",
       "      <td>25745</td>\n",
       "      <td>1</td>\n",
       "      <td>FC</td>\n",
       "      <td>101</td>\n",
       "      <td>1</td>\n",
       "      <td>Deberían mejorar el servicio de atención al a...</td>\n",
       "      <td>NaN</td>\n",
       "      <td>NaN</td>\n",
       "      <td>4.0</td>\n",
       "      <td>NaN</td>\n",
       "      <td>3</td>\n",
       "    </tr>\n",
       "    <tr>\n",
       "      <th>19905</th>\n",
       "      <td>17466</td>\n",
       "      <td>2</td>\n",
       "      <td>AC</td>\n",
       "      <td>14</td>\n",
       "      <td>1</td>\n",
       "      <td>Bueno, yo elegí 8 porque es una buena univers...</td>\n",
       "      <td>NaN</td>\n",
       "      <td>NaN</td>\n",
       "      <td>5.0</td>\n",
       "      <td>NaN</td>\n",
       "      <td>3</td>\n",
       "    </tr>\n",
       "    <tr>\n",
       "      <th>19907</th>\n",
       "      <td>18730</td>\n",
       "      <td>4</td>\n",
       "      <td>AC</td>\n",
       "      <td>11</td>\n",
       "      <td>4</td>\n",
       "      <td>siempre cambian la malla curricular y hacen q...</td>\n",
       "      <td>NaN</td>\n",
       "      <td>Delegado</td>\n",
       "      <td>6.0</td>\n",
       "      <td>NaN</td>\n",
       "      <td>2</td>\n",
       "    </tr>\n",
       "    <tr>\n",
       "      <th>19945</th>\n",
       "      <td>27834</td>\n",
       "      <td>4</td>\n",
       "      <td>FC</td>\n",
       "      <td>105</td>\n",
       "      <td>1</td>\n",
       "      <td>Opino que deberían mejorar en lo siguiente 1....</td>\n",
       "      <td>NaN</td>\n",
       "      <td>NaN</td>\n",
       "      <td>2.0</td>\n",
       "      <td>NaN</td>\n",
       "      <td>3</td>\n",
       "    </tr>\n",
       "    <tr>\n",
       "      <th>19986</th>\n",
       "      <td>10064</td>\n",
       "      <td>4</td>\n",
       "      <td>AC</td>\n",
       "      <td>3</td>\n",
       "      <td>1</td>\n",
       "      <td>Atención al alumno es poco eficiente y la con...</td>\n",
       "      <td>NaN</td>\n",
       "      <td>NaN</td>\n",
       "      <td>6.0</td>\n",
       "      <td>NaN</td>\n",
       "      <td>3</td>\n",
       "    </tr>\n",
       "    <tr>\n",
       "      <th>19989</th>\n",
       "      <td>15522</td>\n",
       "      <td>1</td>\n",
       "      <td>AC</td>\n",
       "      <td>33</td>\n",
       "      <td>8</td>\n",
       "      <td>1. La poblacion de alumnos excede los servici...</td>\n",
       "      <td>NaN</td>\n",
       "      <td>NaN</td>\n",
       "      <td>4.0</td>\n",
       "      <td>NaN</td>\n",
       "      <td>3</td>\n",
       "    </tr>\n",
       "  </tbody>\n",
       "</table>\n",
       "<p>564 rows × 11 columns</p>\n",
       "</div>"
      ],
      "text/plain": [
       "       COD_ENCUESTADO  Nombre Campus NIVEL ACTUAL  Clave de carrera  Ciclo  \\\n",
       "9               26698              1           FC               109      7   \n",
       "16              33316              2           FC               105      7   \n",
       "19               8773              1           AC                34      4   \n",
       "52              29495              4           FC               107      4   \n",
       "70               7462              3           AC                 5      5   \n",
       "89              23451              1           AC                 5      7   \n",
       "184             25885              4           FC               101      3   \n",
       "200             15117              3           AC                 7      6   \n",
       "214              5634              1           AC                37      1   \n",
       "235             19910              2           AC                32      1   \n",
       "237             22150              3           AC                25      1   \n",
       "275             29546              3           FC               104      5   \n",
       "329             11444              1           AC                33      2   \n",
       "373             23584              1           AC                37      3   \n",
       "397             14303              4           AC                 5      2   \n",
       "403              7724              3           AC                10      6   \n",
       "404              7560              4           AC                31      3   \n",
       "479             18205              4           AC                29      6   \n",
       "520             22886              2           AC                13      1   \n",
       "538             25852              1           FC               107      3   \n",
       "615              4852              4           AC                29      4   \n",
       "680             27340              3           FC               100      5   \n",
       "789             29834              4           FC               107      6   \n",
       "826             13263              4           AC                 3      2   \n",
       "830              1846              4           AC                31      2   \n",
       "872             28516              4           FC               105      1   \n",
       "926             26171              2           FC               107      1   \n",
       "952              6702              4           AC                15      5   \n",
       "982             33349              4   PRESENCIAL               210      1   \n",
       "996             27075              3           FC               101      5   \n",
       "...               ...            ...          ...               ...    ...   \n",
       "18723           22167              3           AC                18      3   \n",
       "18725           31203              4           FC               104      2   \n",
       "18778           25587              3           FC               103      7   \n",
       "18807           18809              3           AC                 5      5   \n",
       "18814            4692              4           AC                26      3   \n",
       "18958           31233              1           FC               106      2   \n",
       "19020            3239              1           AC                26      2   \n",
       "19080           25780              1           FC               107      4   \n",
       "19102           10058              4           AC                21      1   \n",
       "19256           21624              3           AC                31      2   \n",
       "19270           26178              4           FC               108      6   \n",
       "19302            7719              4           AC                15      2   \n",
       "19390            9065              4           AC                26      1   \n",
       "19392           21441              3           AC                 5      1   \n",
       "19424           20636              1           AC                33      2   \n",
       "19428           29615              3           FC               105      1   \n",
       "19450           20704              2           AC                31      2   \n",
       "19533           17538              2           AC                15      3   \n",
       "19623           31645              2           FC               103      1   \n",
       "19657           13907              4           AC                 5      2   \n",
       "19699            8280              1           AC                25      1   \n",
       "19705           30042              3           FC               101      5   \n",
       "19826           10491              4           AC                14      2   \n",
       "19832           24119              3           AC                 5      1   \n",
       "19857           25745              1           FC               101      1   \n",
       "19905           17466              2           AC                14      1   \n",
       "19907           18730              4           AC                11      4   \n",
       "19945           27834              4           FC               105      1   \n",
       "19986           10064              4           AC                 3      1   \n",
       "19989           15522              1           AC                33      8   \n",
       "\n",
       "                                              COMENTARIO IND_GEA IND_DELEGADO  \\\n",
       "9       No es posible que para tener que matricularme...     NaN     Delegado   \n",
       "16      Primero, cambiar el horario de estudios cuand...     NaN          NaN   \n",
       "19      Demasiadas personas dentro del campus han qui...     NaN     Delegado   \n",
       "52      La enseñanza y temas son engaña muchachosel c...     NaN          NaN   \n",
       "70      Falta de aulas en cursos como Investigación d...     NaN          NaN   \n",
       "89      Respecto a la plataforma para celulares, la a...     NaN          NaN   \n",
       "184     La matrícula de este ciclo fue una pesadilla ...     NaN          NaN   \n",
       "200     Hay tantas personas en la universidad que par...     NaN     Delegado   \n",
       "214     Porque sé que tiene una malla distinta a otra...     NaN     Delegado   \n",
       "235     en el exceso de alumnos no bien preparados, e...     NaN          NaN   \n",
       "237     Lo que mas valoro de la universidad es que a ...     NaN          NaN   \n",
       "275     Los profesores son pésimos explicando ejemplo...     NaN          NaN   \n",
       "329     Los proyectos son bastante buenos, pero falla...     NaN          NaN   \n",
       "373     Debería de haber por ley una guardería y un l...     NaN          NaN   \n",
       "397     En primer lugar, la atención no es eficiente ...     NaN     Delegado   \n",
       "403     Deben poner microondas en los primeros pisos ...     GEA          NaN   \n",
       "404     La app mi universidad es muy deficiente u no ...     NaN     Delegado   \n",
       "479     Las quejas de los alumnos no siempre son aten...     GEA     Delegado   \n",
       "520     Optar por espacios más grandes , ya que ya af...     NaN          NaN   \n",
       "538     La asesoría virtual, si bien es de cada alumn...     NaN     Delegado   \n",
       "615     si bien la universidad ha crecido en cuanto a...     NaN          NaN   \n",
       "680     Mejorar el Blackboard, a veces es desordenado...     NaN          NaN   \n",
       "789     A pasar de tener varies sedes no Dan la facil...     NaN          NaN   \n",
       "826     Facilidad en el cambio de carrera. Mejoras en...     NaN          NaN   \n",
       "830     El problema radica en el sistema y los fallos...     NaN          NaN   \n",
       "872     Cuando ingrese pregunte sobre los cursos para...     NaN          NaN   \n",
       "926     Soy del programa Epe realmente estoy contenta...     NaN          NaN   \n",
       "952     Me han estafado. No hay áreas de esparcimient...     NaN          NaN   \n",
       "982     Su plana de directivos esta en constante búsq...     NaN          NaN   \n",
       "996     En las sedes, ya no alcanzó a llegar a clases...     NaN          NaN   \n",
       "...                                                  ...     ...          ...   \n",
       "18723   Malos horarios.para los cachimbos, no dan muc...     NaN          NaN   \n",
       "18725   El cambio de horario de 8 a 11 es inadecuado,...     NaN          NaN   \n",
       "18778   Primero bloquean a los alumnos si es que no h...     NaN          NaN   \n",
       "18807   Yo tengo mas que nada problemas, con los espa...     NaN     Delegado   \n",
       "18814   Los profesores cancelan sus clases sin avisar...     NaN          NaN   \n",
       "18958   Mucha burocracia para los tramites, cobro exc...     NaN          NaN   \n",
       "19020   La verdad es que no son muy exihentes.No tend...     NaN     Delegado   \n",
       "19080   Atencion al cliente, en la actualidad debido ...     NaN          NaN   \n",
       "19102   Los cambios en el reglamento académico deberí...     NaN          NaN   \n",
       "19256   No hay examen de admisión; no deberia haber b...     NaN          NaN   \n",
       "19270   Hay algunos profesores que son buenos, pero o...     NaN          NaN   \n",
       "19302   Es muy bueno en cuanto a enseñanza con profes...     NaN          NaN   \n",
       "19390   Cuando ingresé para la carrera que me gustaba...     NaN          NaN   \n",
       "19392   Todo los profesores de las tutorias deberían ...     NaN          NaN   \n",
       "19424   me parece que algunos cursos están mal estruc...     NaN          NaN   \n",
       "19428   Es pésima la plataforma! No hay información a...     NaN          NaN   \n",
       "19450   La calidad educativa , es decir el material b...     NaN          NaN   \n",
       "19533   Me parece terrible que en la universidad exis...     NaN          NaN   \n",
       "19623   No tuve una buena experiencia en mi primer dí...     NaN          NaN   \n",
       "19657   Es sistema educativo es bueno, posee excelent...     NaN          NaN   \n",
       "19699   No hay áreas de descanso, y el precio de los ...     NaN          NaN   \n",
       "19705   Valoro mucho la exigencia en los estudios pon...     NaN          NaN   \n",
       "19826   En la sede San Isidro, sería necesario poner ...     NaN          NaN   \n",
       "19832   El blended me parece que es una gran idea por...     NaN          NaN   \n",
       "19857   Deberían mejorar el servicio de atención al a...     NaN          NaN   \n",
       "19905   Bueno, yo elegí 8 porque es una buena univers...     NaN          NaN   \n",
       "19907   siempre cambian la malla curricular y hacen q...     NaN     Delegado   \n",
       "19945   Opino que deberían mejorar en lo siguiente 1....     NaN          NaN   \n",
       "19986   Atención al alumno es poco eficiente y la con...     NaN          NaN   \n",
       "19989   1. La poblacion de alumnos excede los servici...     NaN          NaN   \n",
       "\n",
       "       CANT_CURSOS_MATRICU_SIN_INGLES UOD_depostista_ind_deportista  NPS  \n",
       "9                                 4.0                           NaN    2  \n",
       "16                                3.0                           NaN    1  \n",
       "19                                6.0                           NaN    1  \n",
       "52                                4.0                           NaN    1  \n",
       "70                                5.0                           NaN    2  \n",
       "89                                6.0                           NaN    3  \n",
       "184                               4.0                           NaN    1  \n",
       "200                               4.0                           NaN    2  \n",
       "214                               6.0                           NaN    4  \n",
       "235                               6.0                           NaN    1  \n",
       "237                               5.0                           NaN    4  \n",
       "275                               3.0                           NaN    1  \n",
       "329                               5.0                           NaN    2  \n",
       "373                               5.0                           NaN    2  \n",
       "397                               3.0                           NaN    2  \n",
       "403                               7.0                           NaN    3  \n",
       "404                               4.0                           NaN    3  \n",
       "479                               6.0                           NaN    2  \n",
       "520                               7.0                           NaN    2  \n",
       "538                               5.0                           NaN    3  \n",
       "615                               4.0                           NaN    1  \n",
       "680                               5.0                           NaN    3  \n",
       "789                               1.0                           NaN    2  \n",
       "826                               5.0                           NaN    3  \n",
       "830                               7.0                           NaN    3  \n",
       "872                               4.0                           NaN    1  \n",
       "926                               4.0                           NaN    4  \n",
       "952                               7.0                           NaN    1  \n",
       "982                               NaN                           NaN    4  \n",
       "996                               4.0                           NaN    1  \n",
       "...                               ...                           ...  ...  \n",
       "18723                             5.0                           NaN    2  \n",
       "18725                             5.0                           NaN    2  \n",
       "18778                             2.0                           NaN    1  \n",
       "18807                             5.0                           NaN    2  \n",
       "18814                             3.0                           NaN    2  \n",
       "18958                             2.0                           NaN    2  \n",
       "19020                             5.0                           NaN    1  \n",
       "19080                             4.0                           NaN    3  \n",
       "19102                             4.0                           NaN    3  \n",
       "19256                             4.0                           NaN    2  \n",
       "19270                             2.0                           NaN    3  \n",
       "19302                             7.0                           NaN    3  \n",
       "19390                             4.0                           NaN    2  \n",
       "19392                             5.0                           NaN    3  \n",
       "19424                             4.0                           NaN    2  \n",
       "19428                             4.0                           NaN    2  \n",
       "19450                             5.0                           NaN    4  \n",
       "19533                             4.0                           NaN    1  \n",
       "19623                             4.0                           NaN    3  \n",
       "19657                             5.0                           NaN    3  \n",
       "19699                             5.0                           NaN    2  \n",
       "19705                             2.0                           NaN    4  \n",
       "19826                             5.0                           NaN    3  \n",
       "19832                             7.0                           NaN    3  \n",
       "19857                             4.0                           NaN    3  \n",
       "19905                             5.0                           NaN    3  \n",
       "19907                             6.0                           NaN    2  \n",
       "19945                             2.0                           NaN    3  \n",
       "19986                             6.0                           NaN    3  \n",
       "19989                             4.0                           NaN    3  \n",
       "\n",
       "[564 rows x 11 columns]"
      ]
     },
     "execution_count": 156,
     "metadata": {},
     "output_type": "execute_result"
    }
   ],
   "source": [
    "df[df['COMENTARIO'].apply(lambda x: len(x)>300)]"
   ]
  },
  {
   "cell_type": "code",
   "execution_count": 75,
   "metadata": {},
   "outputs": [
    {
     "data": {
      "text/plain": [
       "' Me han estafado. No hay áreas de esparcimiento, no hay áreas PARA ESTUDIAR, nos tratan como animales o como si estuviéramos en un Micro. Buscan llenar la universidad sin criterio y no hay espacio para tantas personas. Tengo que hacer cola 20 minutos para subir el elevador porque solo hay UNO en el pabellón B que tiene 7 PISOS. Es ridículo lo que hacen con nosotros y una terrible falta de respeto. No hay suficientes libros ni nada de lo que un estudiante necesita. Y que decir de la matrícula, alg'"
      ]
     },
     "execution_count": 75,
     "metadata": {},
     "output_type": "execute_result"
    }
   ],
   "source": [
    "df[df['COMENTARIO'].apply(lambda x: len(x)>300)]['COMENTARIO'][952]"
   ]
  },
  {
   "cell_type": "markdown",
   "metadata": {},
   "source": [
    "## Text to features"
   ]
  },
  {
   "cell_type": "code",
   "execution_count": 26,
   "metadata": {
    "collapsed": true
   },
   "outputs": [],
   "source": [
    "from nltk.corpus import stopwords\n",
    "stopwords = [unidecode(x) for x in stopwords.words('spanish')]"
   ]
  },
  {
   "cell_type": "code",
   "execution_count": 27,
   "metadata": {
    "collapsed": true
   },
   "outputs": [],
   "source": [
    "from sklearn.feature_extraction.text import TfidfVectorizer"
   ]
  },
  {
   "cell_type": "code",
   "execution_count": 28,
   "metadata": {
    "collapsed": true
   },
   "outputs": [],
   "source": [
    "def tokenize(text):\n",
    "    return [lemmatize.get(unidecode(x), unidecode(x)) for x in re.sub(r\"[;, \\(\\)',!?._-]\", \" \", text.lower()).split()]"
   ]
  },
  {
   "cell_type": "code",
   "execution_count": 157,
   "metadata": {
    "collapsed": true
   },
   "outputs": [],
   "source": [
    "vectorizer = TfidfVectorizer(stop_words=stopwords, max_features=700, tokenizer=tokenize, max_df=0.9, min_df=4)"
   ]
  },
  {
   "cell_type": "code",
   "execution_count": 158,
   "metadata": {
    "collapsed": true
   },
   "outputs": [],
   "source": [
    "text_features = vectorizer.fit_transform(df['COMENTARIO'])"
   ]
  },
  {
   "cell_type": "code",
   "execution_count": 159,
   "metadata": {},
   "outputs": [
    {
     "data": {
      "text/plain": [
       "(20000, 700)"
      ]
     },
     "execution_count": 159,
     "metadata": {},
     "output_type": "execute_result"
    }
   ],
   "source": [
    "text_features.shape"
   ]
  },
  {
   "cell_type": "code",
   "execution_count": 163,
   "metadata": {},
   "outputs": [
    {
     "data": {
      "text/plain": [
       "(20000, 14)"
      ]
     },
     "execution_count": 163,
     "metadata": {},
     "output_type": "execute_result"
    }
   ],
   "source": [
    "df_ml.shape"
   ]
  },
  {
   "cell_type": "code",
   "execution_count": 165,
   "metadata": {},
   "outputs": [
    {
     "name": "stdout",
     "output_type": "stream",
     "text": [
      "LogisticRegression \t\t Accuracy: -0.83 (+/- 0.01) Time: 1548 ms\n",
      "SGDClassifier \t\t Accuracy: -0.84 (+/- 0.02) Time: 3458 ms\n",
      "GaussianNB \t\t Accuracy: -19.66 (+/- 0.82) Time: 2435 ms\n",
      "MultinomialNB \t\t Accuracy: -0.83 (+/- 0.01) Time: 1463 ms\n",
      "BernoulliNB \t\t Accuracy: -1.16 (+/- 0.04) Time: 1553 ms\n",
      "XGBClassifier \t\t Accuracy: -0.93 (+/- 0.01) Time: 888506 ms\n",
      "RandomForestClassifier \t\t Accuracy: -2.84 (+/- 0.10) Time: 14284 ms\n",
      "GradientBoostingClassifier \t\t Accuracy: -0.92 (+/- 0.01) Time: 1275265 ms\n"
     ]
    },
    {
     "name": "stderr",
     "output_type": "stream",
     "text": [
      "c:\\users\\robertalonso\\anaconda2\\envs\\tensorflow1\\lib\\site-packages\\sklearn\\neural_network\\multilayer_perceptron.py:563: ConvergenceWarning: Stochastic Optimizer: Maximum iterations reached and the optimization hasn't converged yet.\n",
      "  % (), ConvergenceWarning)\n",
      "c:\\users\\robertalonso\\anaconda2\\envs\\tensorflow1\\lib\\site-packages\\sklearn\\neural_network\\multilayer_perceptron.py:563: ConvergenceWarning: Stochastic Optimizer: Maximum iterations reached and the optimization hasn't converged yet.\n",
      "  % (), ConvergenceWarning)\n",
      "c:\\users\\robertalonso\\anaconda2\\envs\\tensorflow1\\lib\\site-packages\\sklearn\\neural_network\\multilayer_perceptron.py:563: ConvergenceWarning: Stochastic Optimizer: Maximum iterations reached and the optimization hasn't converged yet.\n",
      "  % (), ConvergenceWarning)\n",
      "c:\\users\\robertalonso\\anaconda2\\envs\\tensorflow1\\lib\\site-packages\\sklearn\\neural_network\\multilayer_perceptron.py:563: ConvergenceWarning: Stochastic Optimizer: Maximum iterations reached and the optimization hasn't converged yet.\n",
      "  % (), ConvergenceWarning)\n"
     ]
    },
    {
     "name": "stdout",
     "output_type": "stream",
     "text": [
      "MLPClassifier \t\t Accuracy: -1.33 (+/- 0.19) Time: 364239 ms\n"
     ]
    },
    {
     "name": "stderr",
     "output_type": "stream",
     "text": [
      "c:\\users\\robertalonso\\anaconda2\\envs\\tensorflow1\\lib\\site-packages\\sklearn\\neural_network\\multilayer_perceptron.py:563: ConvergenceWarning: Stochastic Optimizer: Maximum iterations reached and the optimization hasn't converged yet.\n",
      "  % (), ConvergenceWarning)\n"
     ]
    }
   ],
   "source": [
    "run_models(text_features.toarray(), df_ml['NPS'])"
   ]
  },
  {
   "cell_type": "markdown",
   "metadata": {},
   "source": [
    "### Mix features"
   ]
  },
  {
   "cell_type": "code",
   "execution_count": 29,
   "metadata": {
    "collapsed": true
   },
   "outputs": [],
   "source": [
    "def run_model(clf, X, y, scoring='neg_log_loss', verbose=0):\n",
    "    start = int(time.time() * 1000)\n",
    "    scores = cross_val_score(clf, X, y, cv=5, scoring=scoring, verbose=verbose)\n",
    "    end = int(time.time() * 1000)\n",
    "    print(\"%s \\t\\t %s: %0.2f (+/- %0.2f) Time: %d ms\" % \\\n",
    "          (str(clf.__class__).split('.')[-1].replace('>','').replace(\"'\",''), \\\n",
    "            scoring, \\\n",
    "          scores.mean(), scores.std() * 2, end - start))"
   ]
  },
  {
   "cell_type": "code",
   "execution_count": 183,
   "metadata": {},
   "outputs": [
    {
     "data": {
      "text/plain": [
       "' Me han estafado. No hay áreas de esparcimiento, no hay áreas PARA ESTUDIAR, nos tratan como animales o como si estuviéramos en un Micro. Buscan llenar la universidad sin criterio y no hay espacio para tantas personas. Tengo que hacer cola 20 minutos para subir el elevador porque solo hay UNO en el pabellón B que tiene 7 PISOS. Es ridículo lo que hacen con nosotros y una terrible falta de respeto. No hay suficientes libros ni nada de lo que un estudiante necesita. Y que decir de la matrícula, alg'"
      ]
     },
     "execution_count": 183,
     "metadata": {},
     "output_type": "execute_result"
    }
   ],
   "source": [
    "df[df['COMENTARIO'].apply(lambda x: len(x)>300)]['COMENTARIO'][952]"
   ]
  },
  {
   "cell_type": "code",
   "execution_count": 184,
   "metadata": {},
   "outputs": [
    {
     "name": "stdout",
     "output_type": "stream",
     "text": [
      "['me', 'haber', 'estafar', 'no', 'haber', 'areas', 'de', 'esparcimiento', 'no', 'haber', 'areas', 'para', 'estudiar', 'nos', 'tratar', 'como', 'animal', 'o', 'como', 'si', 'estar', 'en', '1', 'micro', 'buscar', 'llenar', 'el', 'universidad', 'sin', 'criterio', 'y', 'no', 'haber', 'espacio', 'para', 'tanto', 'persona', 'tener', 'que', 'hacer', 'cola', '20', 'minuto', 'para', 'subir', 'el', 'elevador', 'porque', 'solo', 'haber', '1', 'en', 'el', 'pabellon', 'b', 'que', 'tener', '7', 'piso', 'ser', 'ridiculo', 'lo', 'que', 'hacer', 'con', 'nosotros', 'y', '1', 'terrible', 'falto', 'de', 'respetar', 'no', 'haber', 'suficiente', 'libro', 'ni', 'nada', 'de', 'lo', 'que', '1', 'estudiante', 'necesitar', 'y', 'que', 'decir', 'de', 'el', 'matricular', 'alg']\n"
     ]
    }
   ],
   "source": [
    "print(tokenize(df[df['COMENTARIO'].apply(lambda x: len(x)>300)]['COMENTARIO'][952]))"
   ]
  },
  {
   "cell_type": "code",
   "execution_count": 246,
   "metadata": {
    "collapsed": true
   },
   "outputs": [],
   "source": [
    "vectorizer = TfidfVectorizer(stop_words=stopwords, max_features=1000, tokenizer=tokenize, max_df=0.7, min_df=4, ngram_range=(1,3))"
   ]
  },
  {
   "cell_type": "code",
   "execution_count": 247,
   "metadata": {
    "collapsed": true
   },
   "outputs": [],
   "source": [
    "text_features = vectorizer.fit_transform(df['COMENTARIO'])"
   ]
  },
  {
   "cell_type": "code",
   "execution_count": 248,
   "metadata": {},
   "outputs": [
    {
     "data": {
      "text/plain": [
       "(20000, 1000)"
      ]
     },
     "execution_count": 248,
     "metadata": {},
     "output_type": "execute_result"
    }
   ],
   "source": [
    "text_features.shape"
   ]
  },
  {
   "cell_type": "code",
   "execution_count": 252,
   "metadata": {
    "collapsed": true
   },
   "outputs": [],
   "source": [
    "# New Feature\n",
    "df_ml['Longitud Comentario'] = df['COMENTARIO'].apply(lambda x: len(x))"
   ]
  },
  {
   "cell_type": "code",
   "execution_count": 270,
   "metadata": {
    "collapsed": true
   },
   "outputs": [],
   "source": [
    "max_ = df_ml['Longitud Comentario'].max()\n",
    "df_ml['Longitud Comentario'] = df_ml['Longitud Comentario'] / max_"
   ]
  },
  {
   "cell_type": "code",
   "execution_count": 272,
   "metadata": {},
   "outputs": [
    {
     "data": {
      "text/plain": [
       "(20000, 1014)"
      ]
     },
     "execution_count": 272,
     "metadata": {},
     "output_type": "execute_result"
    }
   ],
   "source": [
    "X = pd.concat((df_ml.drop(['NPS'], axis=1), pd.DataFrame(text_features.toarray())), axis=1)\n",
    "y = df_ml['NPS']\n",
    "X.shape"
   ]
  },
  {
   "cell_type": "code",
   "execution_count": 273,
   "metadata": {},
   "outputs": [
    {
     "name": "stdout",
     "output_type": "stream",
     "text": [
      "MultinomialNB \t\t accuracy: 0.68 (+/- 0.01) Time: 1671 ms\n",
      "MultinomialNB \t\t neg_log_loss: -0.83 (+/- 0.01) Time: 1466 ms\n"
     ]
    }
   ],
   "source": [
    "run_model(MultinomialNB(), X, y, scoring='accuracy')\n",
    "run_model(MultinomialNB(), X, y)"
   ]
  },
  {
   "cell_type": "code",
   "execution_count": 274,
   "metadata": {},
   "outputs": [
    {
     "name": "stdout",
     "output_type": "stream",
     "text": [
      "LogisticRegression \t\t accuracy: 0.68 (+/- 0.01) Time: 6777 ms\n",
      "LogisticRegression \t\t neg_log_loss: -0.82 (+/- 0.01) Time: 6381 ms\n"
     ]
    }
   ],
   "source": [
    "run_model(LogisticRegression(), X, y, scoring='accuracy')\n",
    "run_model(LogisticRegression(), X, y)"
   ]
  },
  {
   "cell_type": "code",
   "execution_count": 275,
   "metadata": {},
   "outputs": [
    {
     "name": "stdout",
     "output_type": "stream",
     "text": [
      "SGDClassifier \t\t accuracy: 0.63 (+/- 0.07) Time: 6164 ms\n",
      "SGDClassifier \t\t neg_log_loss: -1.42 (+/- 0.78) Time: 6266 ms\n"
     ]
    }
   ],
   "source": [
    "run_model(SGDClassifier(loss='log'), X, y, scoring='accuracy')\n",
    "run_model(SGDClassifier(loss='log'), X, y)"
   ]
  },
  {
   "cell_type": "code",
   "execution_count": 276,
   "metadata": {},
   "outputs": [
    {
     "name": "stdout",
     "output_type": "stream",
     "text": [
      "XGBClassifier \t\t accuracy: 0.64 (+/- 0.01) Time: 1427827 ms\n",
      "XGBClassifier \t\t neg_log_loss: -0.93 (+/- 0.01) Time: 1181395 ms\n"
     ]
    }
   ],
   "source": [
    "run_model(XGBClassifier(), X, y, scoring='accuracy')\n",
    "run_model(XGBClassifier(), X, y)"
   ]
  },
  {
   "cell_type": "markdown",
   "metadata": {},
   "source": [
    "## Workflow summary"
   ]
  },
  {
   "cell_type": "code",
   "execution_count": 69,
   "metadata": {
    "collapsed": true
   },
   "outputs": [],
   "source": [
    "df = pd.read_excel('train_universidad.xlsx', sheetname=1)"
   ]
  },
  {
   "cell_type": "code",
   "execution_count": 94,
   "metadata": {},
   "outputs": [
    {
     "data": {
      "text/plain": [
       "(20000, 1014)"
      ]
     },
     "execution_count": 94,
     "metadata": {},
     "output_type": "execute_result"
    }
   ],
   "source": [
    "df_ml = df.copy(deep=True)\n",
    "df_ml = df_ml.drop('COD_ENCUESTADO', axis=1)\n",
    "df_ml = pd.concat((df_ml, pd.get_dummies(df_ml['Nombre Campus'], prefix='Campus')), axis=1)\n",
    "df_ml = pd.concat((df_ml, pd.get_dummies(df_ml['NIVEL ACTUAL'], prefix='Nivel')), axis=1)\n",
    "df_ml = pd.concat((df_ml, pd.get_dummies(df_ml['IND_GEA'], prefix='GEA')), axis=1)\n",
    "df_ml = pd.concat((df_ml, pd.get_dummies(df_ml['IND_DELEGADO'], prefix='Delegado')), axis=1)\n",
    "df_ml = pd.concat((df_ml, pd.get_dummies(df_ml['UOD_depostista_ind_deportista'], prefix='Deportista')), axis=1)\n",
    "df_ml = df_ml.drop('Nombre Campus', axis=1)\n",
    "df_ml = df_ml.drop('NIVEL ACTUAL', axis=1)\n",
    "df_ml = df_ml.drop('IND_GEA', axis=1)\n",
    "df_ml = df_ml.drop('IND_DELEGADO', axis=1)\n",
    "df_ml = df_ml.drop('UOD_depostista_ind_deportista', axis=1)\n",
    "df_ml = df_ml.drop('Clave de carrera', axis=1)\n",
    "df_ml = df_ml.drop('COMENTARIO', axis=1)\n",
    "df_ml['CANT_CURSOS_MATRICU_SIN_INGLES'] = df_ml['CANT_CURSOS_MATRICU_SIN_INGLES'].fillna(df_ml['CANT_CURSOS_MATRICU_SIN_INGLES'].median())\n",
    "\n",
    "# New Feature\n",
    "df_ml['Longitud Comentario'] = df['COMENTARIO'].apply(lambda x: len(x))\n",
    "max_ = df_ml['Longitud Comentario'].max()\n",
    "df_ml['Longitud Comentario'] = df_ml['Longitud Comentario'] / max_\n",
    "\n",
    "from unidecode import unidecode\n",
    "import re\n",
    "lemmatize = {}\n",
    "with open('lemmatization-es.txt') as f:\n",
    "    lemmatize = {unidecode(line.split()[1]): unidecode(line.split()[0]) for line in f.readlines()}\n",
    "lemmatize['para'] = 'para'\n",
    "lemmatize['nos'] = 'nos'\n",
    "lemmatize['como'] = 'como'\n",
    "lemmatize['estuvieramos'] = 'estar'\n",
    "lemmatize['lo'] = 'lo'\n",
    "lemmatize['el'] = 'el'\n",
    "lemmatize['la'] = 'el'\n",
    "lemmatize['los'] = 'el'\n",
    "lemmatize['las'] = 'el'\n",
    "lemmatize['una'] = '1'\n",
    "lemmatize['uno'] = '1'\n",
    "lemmatize['un'] = '1'\n",
    "lemmatize['dos'] = '2'\n",
    "lemmatize['nada'] = 'nada'\n",
    "lemmatize['espacio'] = 'espacio'\n",
    "lemmatize['persona'] = 'persona'\n",
    "lemmatize['personas'] = 'persona'\n",
    "\n",
    "from nltk.corpus import stopwords\n",
    "stopwords = [unidecode(x) for x in stopwords.words('spanish')]\n",
    "\n",
    "from sklearn.feature_extraction.text import TfidfVectorizer\n",
    "def tokenize(text):\n",
    "    return [lemmatize.get(unidecode(x), unidecode(x)) for x in re.sub(r\"[;, \\(\\)',!?._-]\", \" \", text.lower()).split()]\n",
    "    \n",
    "vectorizer = TfidfVectorizer(stop_words=stopwords, max_features=1000, tokenizer=tokenize, max_df=0.7, min_df=4, ngram_range=(1,3))\n",
    "text_features = vectorizer.fit_transform(df['COMENTARIO'])\n",
    "\n",
    "X = pd.concat((df_ml.drop(['NPS'], axis=1), pd.DataFrame(text_features.toarray())), axis=1)\n",
    "y = df_ml['NPS']\n",
    "X.shape"
   ]
  },
  {
   "cell_type": "code",
   "execution_count": 54,
   "metadata": {},
   "outputs": [
    {
     "data": {
      "text/html": [
       "<div>\n",
       "<table border=\"1\" class=\"dataframe\">\n",
       "  <thead>\n",
       "    <tr style=\"text-align: right;\">\n",
       "      <th></th>\n",
       "      <th>Ciclo</th>\n",
       "      <th>CANT_CURSOS_MATRICU_SIN_INGLES</th>\n",
       "      <th>Campus_1</th>\n",
       "      <th>Campus_2</th>\n",
       "      <th>Campus_3</th>\n",
       "      <th>Campus_4</th>\n",
       "      <th>Nivel_AC</th>\n",
       "      <th>Nivel_FC</th>\n",
       "      <th>Nivel_ON LINE</th>\n",
       "      <th>Nivel_PRESENCIAL</th>\n",
       "      <th>GEA_GEA</th>\n",
       "      <th>Delegado_Delegado</th>\n",
       "      <th>Deportista_Deportista</th>\n",
       "      <th>Longitud Comentario</th>\n",
       "      <th>0</th>\n",
       "      <th>1</th>\n",
       "      <th>2</th>\n",
       "      <th>3</th>\n",
       "      <th>4</th>\n",
       "      <th>5</th>\n",
       "    </tr>\n",
       "  </thead>\n",
       "  <tbody>\n",
       "    <tr>\n",
       "      <th>count</th>\n",
       "      <td>20000.00000</td>\n",
       "      <td>20000.000000</td>\n",
       "      <td>20000.000000</td>\n",
       "      <td>20000.000000</td>\n",
       "      <td>20000.000000</td>\n",
       "      <td>20000.000000</td>\n",
       "      <td>20000.000000</td>\n",
       "      <td>20000.000000</td>\n",
       "      <td>20000.000000</td>\n",
       "      <td>20000.000000</td>\n",
       "      <td>20000.000000</td>\n",
       "      <td>20000.000000</td>\n",
       "      <td>20000.000000</td>\n",
       "      <td>20000.000000</td>\n",
       "      <td>20000.000000</td>\n",
       "      <td>20000.000000</td>\n",
       "      <td>20000.000000</td>\n",
       "      <td>20000.000000</td>\n",
       "      <td>20000.000000</td>\n",
       "      <td>20000.000000</td>\n",
       "    </tr>\n",
       "    <tr>\n",
       "      <th>mean</th>\n",
       "      <td>3.05240</td>\n",
       "      <td>4.788900</td>\n",
       "      <td>0.225200</td>\n",
       "      <td>0.149100</td>\n",
       "      <td>0.418050</td>\n",
       "      <td>0.207650</td>\n",
       "      <td>0.749500</td>\n",
       "      <td>0.232250</td>\n",
       "      <td>0.000600</td>\n",
       "      <td>0.017650</td>\n",
       "      <td>0.014950</td>\n",
       "      <td>0.176600</td>\n",
       "      <td>0.007400</td>\n",
       "      <td>0.146890</td>\n",
       "      <td>0.026613</td>\n",
       "      <td>0.000552</td>\n",
       "      <td>0.006014</td>\n",
       "      <td>0.002606</td>\n",
       "      <td>0.000521</td>\n",
       "      <td>0.000430</td>\n",
       "    </tr>\n",
       "    <tr>\n",
       "      <th>std</th>\n",
       "      <td>2.35532</td>\n",
       "      <td>1.404007</td>\n",
       "      <td>0.417724</td>\n",
       "      <td>0.356196</td>\n",
       "      <td>0.493251</td>\n",
       "      <td>0.405635</td>\n",
       "      <td>0.433312</td>\n",
       "      <td>0.422278</td>\n",
       "      <td>0.024488</td>\n",
       "      <td>0.131679</td>\n",
       "      <td>0.121356</td>\n",
       "      <td>0.381339</td>\n",
       "      <td>0.085707</td>\n",
       "      <td>0.155971</td>\n",
       "      <td>0.072549</td>\n",
       "      <td>0.014684</td>\n",
       "      <td>0.042597</td>\n",
       "      <td>0.031168</td>\n",
       "      <td>0.015309</td>\n",
       "      <td>0.011927</td>\n",
       "    </tr>\n",
       "    <tr>\n",
       "      <th>min</th>\n",
       "      <td>1.00000</td>\n",
       "      <td>0.000000</td>\n",
       "      <td>0.000000</td>\n",
       "      <td>0.000000</td>\n",
       "      <td>0.000000</td>\n",
       "      <td>0.000000</td>\n",
       "      <td>0.000000</td>\n",
       "      <td>0.000000</td>\n",
       "      <td>0.000000</td>\n",
       "      <td>0.000000</td>\n",
       "      <td>0.000000</td>\n",
       "      <td>0.000000</td>\n",
       "      <td>0.000000</td>\n",
       "      <td>0.007722</td>\n",
       "      <td>0.000000</td>\n",
       "      <td>0.000000</td>\n",
       "      <td>0.000000</td>\n",
       "      <td>0.000000</td>\n",
       "      <td>0.000000</td>\n",
       "      <td>0.000000</td>\n",
       "    </tr>\n",
       "    <tr>\n",
       "      <th>25%</th>\n",
       "      <td>1.00000</td>\n",
       "      <td>4.000000</td>\n",
       "      <td>0.000000</td>\n",
       "      <td>0.000000</td>\n",
       "      <td>0.000000</td>\n",
       "      <td>0.000000</td>\n",
       "      <td>0.000000</td>\n",
       "      <td>0.000000</td>\n",
       "      <td>0.000000</td>\n",
       "      <td>0.000000</td>\n",
       "      <td>0.000000</td>\n",
       "      <td>0.000000</td>\n",
       "      <td>0.000000</td>\n",
       "      <td>0.048263</td>\n",
       "      <td>0.000000</td>\n",
       "      <td>0.000000</td>\n",
       "      <td>0.000000</td>\n",
       "      <td>0.000000</td>\n",
       "      <td>0.000000</td>\n",
       "      <td>0.000000</td>\n",
       "    </tr>\n",
       "    <tr>\n",
       "      <th>50%</th>\n",
       "      <td>2.00000</td>\n",
       "      <td>5.000000</td>\n",
       "      <td>0.000000</td>\n",
       "      <td>0.000000</td>\n",
       "      <td>0.000000</td>\n",
       "      <td>0.000000</td>\n",
       "      <td>1.000000</td>\n",
       "      <td>0.000000</td>\n",
       "      <td>0.000000</td>\n",
       "      <td>0.000000</td>\n",
       "      <td>0.000000</td>\n",
       "      <td>0.000000</td>\n",
       "      <td>0.000000</td>\n",
       "      <td>0.096525</td>\n",
       "      <td>0.000000</td>\n",
       "      <td>0.000000</td>\n",
       "      <td>0.000000</td>\n",
       "      <td>0.000000</td>\n",
       "      <td>0.000000</td>\n",
       "      <td>0.000000</td>\n",
       "    </tr>\n",
       "    <tr>\n",
       "      <th>75%</th>\n",
       "      <td>4.00000</td>\n",
       "      <td>6.000000</td>\n",
       "      <td>0.000000</td>\n",
       "      <td>0.000000</td>\n",
       "      <td>1.000000</td>\n",
       "      <td>0.000000</td>\n",
       "      <td>1.000000</td>\n",
       "      <td>0.000000</td>\n",
       "      <td>0.000000</td>\n",
       "      <td>0.000000</td>\n",
       "      <td>0.000000</td>\n",
       "      <td>0.000000</td>\n",
       "      <td>0.000000</td>\n",
       "      <td>0.183398</td>\n",
       "      <td>0.000000</td>\n",
       "      <td>0.000000</td>\n",
       "      <td>0.000000</td>\n",
       "      <td>0.000000</td>\n",
       "      <td>0.000000</td>\n",
       "      <td>0.000000</td>\n",
       "    </tr>\n",
       "    <tr>\n",
       "      <th>max</th>\n",
       "      <td>14.00000</td>\n",
       "      <td>10.000000</td>\n",
       "      <td>1.000000</td>\n",
       "      <td>1.000000</td>\n",
       "      <td>1.000000</td>\n",
       "      <td>1.000000</td>\n",
       "      <td>1.000000</td>\n",
       "      <td>1.000000</td>\n",
       "      <td>1.000000</td>\n",
       "      <td>1.000000</td>\n",
       "      <td>1.000000</td>\n",
       "      <td>1.000000</td>\n",
       "      <td>1.000000</td>\n",
       "      <td>1.000000</td>\n",
       "      <td>1.000000</td>\n",
       "      <td>0.622977</td>\n",
       "      <td>0.576629</td>\n",
       "      <td>0.550558</td>\n",
       "      <td>0.677220</td>\n",
       "      <td>0.466275</td>\n",
       "    </tr>\n",
       "  </tbody>\n",
       "</table>\n",
       "</div>"
      ],
      "text/plain": [
       "             Ciclo  CANT_CURSOS_MATRICU_SIN_INGLES      Campus_1  \\\n",
       "count  20000.00000                    20000.000000  20000.000000   \n",
       "mean       3.05240                        4.788900      0.225200   \n",
       "std        2.35532                        1.404007      0.417724   \n",
       "min        1.00000                        0.000000      0.000000   \n",
       "25%        1.00000                        4.000000      0.000000   \n",
       "50%        2.00000                        5.000000      0.000000   \n",
       "75%        4.00000                        6.000000      0.000000   \n",
       "max       14.00000                       10.000000      1.000000   \n",
       "\n",
       "           Campus_2      Campus_3      Campus_4      Nivel_AC      Nivel_FC  \\\n",
       "count  20000.000000  20000.000000  20000.000000  20000.000000  20000.000000   \n",
       "mean       0.149100      0.418050      0.207650      0.749500      0.232250   \n",
       "std        0.356196      0.493251      0.405635      0.433312      0.422278   \n",
       "min        0.000000      0.000000      0.000000      0.000000      0.000000   \n",
       "25%        0.000000      0.000000      0.000000      0.000000      0.000000   \n",
       "50%        0.000000      0.000000      0.000000      1.000000      0.000000   \n",
       "75%        0.000000      1.000000      0.000000      1.000000      0.000000   \n",
       "max        1.000000      1.000000      1.000000      1.000000      1.000000   \n",
       "\n",
       "       Nivel_ON LINE  Nivel_PRESENCIAL       GEA_GEA  Delegado_Delegado  \\\n",
       "count   20000.000000      20000.000000  20000.000000       20000.000000   \n",
       "mean        0.000600          0.017650      0.014950           0.176600   \n",
       "std         0.024488          0.131679      0.121356           0.381339   \n",
       "min         0.000000          0.000000      0.000000           0.000000   \n",
       "25%         0.000000          0.000000      0.000000           0.000000   \n",
       "50%         0.000000          0.000000      0.000000           0.000000   \n",
       "75%         0.000000          0.000000      0.000000           0.000000   \n",
       "max         1.000000          1.000000      1.000000           1.000000   \n",
       "\n",
       "       Deportista_Deportista  Longitud Comentario             0             1  \\\n",
       "count           20000.000000         20000.000000  20000.000000  20000.000000   \n",
       "mean                0.007400             0.146890      0.026613      0.000552   \n",
       "std                 0.085707             0.155971      0.072549      0.014684   \n",
       "min                 0.000000             0.007722      0.000000      0.000000   \n",
       "25%                 0.000000             0.048263      0.000000      0.000000   \n",
       "50%                 0.000000             0.096525      0.000000      0.000000   \n",
       "75%                 0.000000             0.183398      0.000000      0.000000   \n",
       "max                 1.000000             1.000000      1.000000      0.622977   \n",
       "\n",
       "                  2             3             4             5  \n",
       "count  20000.000000  20000.000000  20000.000000  20000.000000  \n",
       "mean       0.006014      0.002606      0.000521      0.000430  \n",
       "std        0.042597      0.031168      0.015309      0.011927  \n",
       "min        0.000000      0.000000      0.000000      0.000000  \n",
       "25%        0.000000      0.000000      0.000000      0.000000  \n",
       "50%        0.000000      0.000000      0.000000      0.000000  \n",
       "75%        0.000000      0.000000      0.000000      0.000000  \n",
       "max        0.576629      0.550558      0.677220      0.466275  "
      ]
     },
     "execution_count": 54,
     "metadata": {},
     "output_type": "execute_result"
    }
   ],
   "source": [
    "X.ix[:,:20].describe(include='all')"
   ]
  },
  {
   "cell_type": "code",
   "execution_count": 95,
   "metadata": {},
   "outputs": [
    {
     "name": "stdout",
     "output_type": "stream",
     "text": [
      "MultinomialNB \t\t accuracy: 0.68 (+/- 0.01) Time: 1656 ms\n",
      "MultinomialNB \t\t neg_log_loss: -0.83 (+/- 0.01) Time: 1612 ms\n"
     ]
    }
   ],
   "source": [
    "run_model(MultinomialNB(), X, y, scoring='accuracy')\n",
    "run_model(MultinomialNB(), X, y)"
   ]
  },
  {
   "cell_type": "code",
   "execution_count": 96,
   "metadata": {},
   "outputs": [
    {
     "data": {
      "text/plain": [
       "MultinomialNB(alpha=1.0, class_prior=None, fit_prior=True)"
      ]
     },
     "execution_count": 96,
     "metadata": {},
     "output_type": "execute_result"
    }
   ],
   "source": [
    "model_nb = MultinomialNB()\n",
    "model_nb.fit(X, y)"
   ]
  },
  {
   "cell_type": "code",
   "execution_count": 97,
   "metadata": {},
   "outputs": [
    {
     "data": {
      "text/plain": [
       "<matplotlib.axes._subplots.AxesSubplot at 0x17f24034a20>"
      ]
     },
     "execution_count": 97,
     "metadata": {},
     "output_type": "execute_result"
    },
    {
     "data": {
      "image/png": "[encoded data removed]",
      "text/plain": [
       "<matplotlib.figure.Figure at 0x17f1fb916d8>"
      ]
     },
     "metadata": {
      "image/png": {
       "height": 329,
       "width": 509
      }
     },
     "output_type": "display_data"
    }
   ],
   "source": [
    "sns.countplot(x=model_nb.predict(X))"
   ]
  },
  {
   "cell_type": "code",
   "execution_count": 71,
   "metadata": {},
   "outputs": [
    {
     "data": {
      "text/plain": [
       "XGBClassifier(base_score=0.5, booster='gbtree', colsample_bylevel=1,\n",
       "       colsample_bytree=1, gamma=0, learning_rate=0.1, max_delta_step=0,\n",
       "       max_depth=3, min_child_weight=1, missing=None, n_estimators=100,\n",
       "       n_jobs=1, nthread=None, objective='multi:softprob', random_state=0,\n",
       "       reg_alpha=0, reg_lambda=1, scale_pos_weight=1, seed=None,\n",
       "       silent=False, subsample=1)"
      ]
     },
     "execution_count": 71,
     "metadata": {},
     "output_type": "execute_result"
    }
   ],
   "source": [
    "model = XGBClassifier(silent=False)\n",
    "model.fit(X, y)"
   ]
  },
  {
   "cell_type": "code",
   "execution_count": 72,
   "metadata": {},
   "outputs": [
    {
     "data": {
      "text/plain": [
       "<matplotlib.axes._subplots.AxesSubplot at 0x17f20eb1898>"
      ]
     },
     "execution_count": 72,
     "metadata": {},
     "output_type": "execute_result"
    },
    {
     "data": {
      "image/png": "[encoded data removed]",
      "text/plain": [
       "<matplotlib.figure.Figure at 0x17f1fb91f98>"
      ]
     },
     "metadata": {
      "image/png": {
       "height": 329,
       "width": 509
      }
     },
     "output_type": "display_data"
    }
   ],
   "source": [
    "sns.countplot(x=model.predict(X))"
   ]
  },
  {
   "cell_type": "markdown",
   "metadata": {},
   "source": [
    "## Testing"
   ]
  },
  {
   "cell_type": "code",
   "execution_count": 98,
   "metadata": {
    "collapsed": true
   },
   "outputs": [],
   "source": [
    "df_ml_save = df_ml.copy(deep=True)"
   ]
  },
  {
   "cell_type": "code",
   "execution_count": 99,
   "metadata": {
    "collapsed": true
   },
   "outputs": [],
   "source": [
    "df_test = pd.read_excel('test_universidad.xlsx')"
   ]
  },
  {
   "cell_type": "code",
   "execution_count": 100,
   "metadata": {},
   "outputs": [
    {
     "data": {
      "text/plain": [
       "(8427, 1014)"
      ]
     },
     "execution_count": 100,
     "metadata": {},
     "output_type": "execute_result"
    }
   ],
   "source": [
    "df_ml = df_test.copy(deep=True)\n",
    "df_ml = df_ml.drop('COD_ENCUESTADO', axis=1)\n",
    "df_ml = pd.concat((df_ml, pd.get_dummies(df_ml['Nombre Campus'], prefix='Campus')), axis=1)\n",
    "df_ml = pd.concat((df_ml, pd.get_dummies(df_ml['NIVEL ACTUAL'], prefix='Nivel')), axis=1)\n",
    "df_ml = pd.concat((df_ml, pd.get_dummies(df_ml['IND_GEA'], prefix='GEA')), axis=1)\n",
    "df_ml = pd.concat((df_ml, pd.get_dummies(df_ml['IND_DELEGADO'], prefix='Delegado')), axis=1)\n",
    "df_ml = pd.concat((df_ml, pd.get_dummies(df_ml['UOD_depostista_ind_deportista'], prefix='Deportista')), axis=1)\n",
    "df_ml = df_ml.drop('Nombre Campus', axis=1)\n",
    "df_ml = df_ml.drop('NIVEL ACTUAL', axis=1)\n",
    "df_ml = df_ml.drop('IND_GEA', axis=1)\n",
    "df_ml = df_ml.drop('IND_DELEGADO', axis=1)\n",
    "df_ml = df_ml.drop('UOD_depostista_ind_deportista', axis=1)\n",
    "df_ml = df_ml.drop('Clave de carrera', axis=1)\n",
    "\n",
    "df_ml['CANT_CURSOS_MATRICU_SIN_INGLES'] = df_ml['CANT_CURSOS_MATRICU_SIN_INGLES'].fillna(df_ml['CANT_CURSOS_MATRICU_SIN_INGLES'].median())\n",
    "\n",
    "# New Feature\n",
    "df_ml['Longitud Comentario'] = df_ml['COMENTARIO'].apply(lambda x: len(x))\n",
    "max_ = df_ml['Longitud Comentario'].max()\n",
    "df_ml['Longitud Comentario'] = df_ml['Longitud Comentario'] / max_\n",
    "    \n",
    "text_features = vectorizer.transform(df_ml['COMENTARIO'])\n",
    "\n",
    "df_ml = df_ml.drop('COMENTARIO', axis=1)\n",
    "\n",
    "X = pd.concat((df_ml, pd.DataFrame(text_features.toarray())), axis=1)\n",
    "X.shape"
   ]
  },
  {
   "cell_type": "code",
   "execution_count": 101,
   "metadata": {
    "collapsed": true
   },
   "outputs": [],
   "source": [
    "y_pred = model_nb.predict(X)"
   ]
  },
  {
   "cell_type": "code",
   "execution_count": 77,
   "metadata": {},
   "outputs": [
    {
     "data": {
      "text/plain": [
       "<matplotlib.axes._subplots.AxesSubplot at 0x17f2432f240>"
      ]
     },
     "execution_count": 77,
     "metadata": {},
     "output_type": "execute_result"
    },
    {
     "data": {
      "image/png": "[encoded data removed]",
      "text/plain": [
       "<matplotlib.figure.Figure at 0x17f15dd3550>"
      ]
     },
     "metadata": {
      "image/png": {
       "height": 329,
       "width": 504
      }
     },
     "output_type": "display_data"
    }
   ],
   "source": [
    "sns.countplot(x=y_pred)"
   ]
  },
  {
   "cell_type": "code",
   "execution_count": 60,
   "metadata": {},
   "outputs": [
    {
     "data": {
      "text/plain": [
       "<matplotlib.axes._subplots.AxesSubplot at 0x17f2427cf28>"
      ]
     },
     "execution_count": 60,
     "metadata": {},
     "output_type": "execute_result"
    },
    {
     "data": {
      "image/png": "[encoded data removed]",
      "text/plain": [
       "<matplotlib.figure.Figure at 0x17f23fb75f8>"
      ]
     },
     "metadata": {
      "image/png": {
       "height": 329,
       "width": 504
      }
     },
     "output_type": "display_data"
    }
   ],
   "source": [
    "sns.countplot(x=y_pred)"
   ]
  },
  {
   "cell_type": "code",
   "execution_count": 102,
   "metadata": {},
   "outputs": [],
   "source": [
    "df_check = pd.concat((df_test['COMENTARIO'], pd.DataFrame(y_pred, columns=['TARGET'])), axis=1)"
   ]
  },
  {
   "cell_type": "code",
   "execution_count": 111,
   "metadata": {},
   "outputs": [
    {
     "data": {
      "text/html": [
       "\n",
       "        <style  type=\"text/css\" >\n",
       "        \n",
       "        \n",
       "            #T_5e481c4a_7030_11e7_8474_005056c00008row0_col0 {\n",
       "            \n",
       "                width:  600px;\n",
       "            \n",
       "            }\n",
       "        \n",
       "            #T_5e481c4a_7030_11e7_8474_005056c00008row1_col0 {\n",
       "            \n",
       "                width:  600px;\n",
       "            \n",
       "            }\n",
       "        \n",
       "            #T_5e481c4a_7030_11e7_8474_005056c00008row2_col0 {\n",
       "            \n",
       "                width:  600px;\n",
       "            \n",
       "            }\n",
       "        \n",
       "            #T_5e481c4a_7030_11e7_8474_005056c00008row3_col0 {\n",
       "            \n",
       "                width:  600px;\n",
       "            \n",
       "            }\n",
       "        \n",
       "            #T_5e481c4a_7030_11e7_8474_005056c00008row4_col0 {\n",
       "            \n",
       "                width:  600px;\n",
       "            \n",
       "            }\n",
       "        \n",
       "        </style>\n",
       "\n",
       "        <table id=\"T_5e481c4a_7030_11e7_8474_005056c00008\" None>\n",
       "        \n",
       "\n",
       "        <thead>\n",
       "            \n",
       "            <tr>\n",
       "                \n",
       "                \n",
       "                <th class=\"blank level0\" >\n",
       "                  \n",
       "                \n",
       "                \n",
       "                \n",
       "                <th class=\"col_heading level0 col0\" colspan=1>\n",
       "                  COMENTARIO\n",
       "                \n",
       "                \n",
       "                \n",
       "                <th class=\"col_heading level0 col1\" colspan=1>\n",
       "                  TARGET\n",
       "                \n",
       "                \n",
       "            </tr>\n",
       "            \n",
       "        </thead>\n",
       "        <tbody>\n",
       "            \n",
       "            <tr>\n",
       "                \n",
       "                \n",
       "                <th id=\"T_5e481c4a_7030_11e7_8474_005056c00008\"\n",
       "                 class=\"row_heading level0 row0\" rowspan=1>\n",
       "                    0\n",
       "                \n",
       "                \n",
       "                \n",
       "                <td id=\"T_5e481c4a_7030_11e7_8474_005056c00008row0_col0\"\n",
       "                 class=\"data row0 col0\" >\n",
       "                     La universidad debería de ser mas exigente con respecto a los que ingresan a la universidad. Mucha diferencia intelectual\n",
       "                \n",
       "                \n",
       "                \n",
       "                <td id=\"T_5e481c4a_7030_11e7_8474_005056c00008row0_col1\"\n",
       "                 class=\"data row0 col1\" >\n",
       "                    3\n",
       "                \n",
       "                \n",
       "            </tr>\n",
       "            \n",
       "            <tr>\n",
       "                \n",
       "                \n",
       "                <th id=\"T_5e481c4a_7030_11e7_8474_005056c00008\"\n",
       "                 class=\"row_heading level0 row1\" rowspan=1>\n",
       "                    1\n",
       "                \n",
       "                \n",
       "                \n",
       "                <td id=\"T_5e481c4a_7030_11e7_8474_005056c00008row1_col0\"\n",
       "                 class=\"data row1 col0\" >\n",
       "                     No me han fallafo en nada\n",
       "                \n",
       "                \n",
       "                \n",
       "                <td id=\"T_5e481c4a_7030_11e7_8474_005056c00008row1_col1\"\n",
       "                 class=\"data row1 col1\" >\n",
       "                    3\n",
       "                \n",
       "                \n",
       "            </tr>\n",
       "            \n",
       "            <tr>\n",
       "                \n",
       "                \n",
       "                <th id=\"T_5e481c4a_7030_11e7_8474_005056c00008\"\n",
       "                 class=\"row_heading level0 row2\" rowspan=1>\n",
       "                    2\n",
       "                \n",
       "                \n",
       "                \n",
       "                <td id=\"T_5e481c4a_7030_11e7_8474_005056c00008row2_col0\"\n",
       "                 class=\"data row2 col0\" >\n",
       "                     Prestigio, calidad de enseñanza de los profesores y variedad de horarios.\n",
       "                \n",
       "                \n",
       "                \n",
       "                <td id=\"T_5e481c4a_7030_11e7_8474_005056c00008row2_col1\"\n",
       "                 class=\"data row2 col1\" >\n",
       "                    4\n",
       "                \n",
       "                \n",
       "            </tr>\n",
       "            \n",
       "            <tr>\n",
       "                \n",
       "                \n",
       "                <th id=\"T_5e481c4a_7030_11e7_8474_005056c00008\"\n",
       "                 class=\"row_heading level0 row3\" rowspan=1>\n",
       "                    3\n",
       "                \n",
       "                \n",
       "                \n",
       "                <td id=\"T_5e481c4a_7030_11e7_8474_005056c00008row3_col0\"\n",
       "                 class=\"data row3 col0\" >\n",
       "                     Educacion de calidad y con exigencia.\n",
       "                \n",
       "                \n",
       "                \n",
       "                <td id=\"T_5e481c4a_7030_11e7_8474_005056c00008row3_col1\"\n",
       "                 class=\"data row3 col1\" >\n",
       "                    4\n",
       "                \n",
       "                \n",
       "            </tr>\n",
       "            \n",
       "            <tr>\n",
       "                \n",
       "                \n",
       "                <th id=\"T_5e481c4a_7030_11e7_8474_005056c00008\"\n",
       "                 class=\"row_heading level0 row4\" rowspan=1>\n",
       "                    4\n",
       "                \n",
       "                \n",
       "                \n",
       "                <td id=\"T_5e481c4a_7030_11e7_8474_005056c00008row4_col0\"\n",
       "                 class=\"data row4 col0\" >\n",
       "                     No cumplen con los convenios académicos de descuento en la pensión. Sedes distintas al Campus y poca flexibilidad en pagos de inglés y retiro de asignatura.\n",
       "                \n",
       "                \n",
       "                \n",
       "                <td id=\"T_5e481c4a_7030_11e7_8474_005056c00008row4_col1\"\n",
       "                 class=\"data row4 col1\" >\n",
       "                    3\n",
       "                \n",
       "                \n",
       "            </tr>\n",
       "            \n",
       "        </tbody>\n",
       "        </table>\n",
       "        "
      ],
      "text/plain": [
       "<pandas.formats.style.Styler at 0x17f1d383a90>"
      ]
     },
     "execution_count": 111,
     "metadata": {},
     "output_type": "execute_result"
    }
   ],
   "source": [
    "df_check.head(5).style.set_properties(subset=['COMENTARIO'], **{'width': '600px'})"
   ]
  },
  {
   "cell_type": "code",
   "execution_count": 109,
   "metadata": {
    "collapsed": true
   },
   "outputs": [],
   "source": [
    "y_pred_proba = model.predict_proba(X)"
   ]
  },
  {
   "cell_type": "code",
   "execution_count": 113,
   "metadata": {},
   "outputs": [
    {
     "data": {
      "text/html": [
       "<div>\n",
       "<table border=\"1\" class=\"dataframe\">\n",
       "  <thead>\n",
       "    <tr style=\"text-align: right;\">\n",
       "      <th></th>\n",
       "      <th>COD_ENCUESTADO</th>\n",
       "      <th>COMENTARIO</th>\n",
       "      <th>NPS1</th>\n",
       "      <th>NPS2</th>\n",
       "      <th>NPS3</th>\n",
       "      <th>NPS4</th>\n",
       "    </tr>\n",
       "  </thead>\n",
       "  <tbody>\n",
       "    <tr>\n",
       "      <th>0</th>\n",
       "      <td>15118</td>\n",
       "      <td>La universidad debería de ser mas exigente co...</td>\n",
       "      <td>0.044130</td>\n",
       "      <td>0.196859</td>\n",
       "      <td>0.531970</td>\n",
       "      <td>0.227042</td>\n",
       "    </tr>\n",
       "    <tr>\n",
       "      <th>1</th>\n",
       "      <td>6715</td>\n",
       "      <td>No me han fallafo en nada</td>\n",
       "      <td>0.058000</td>\n",
       "      <td>0.234696</td>\n",
       "      <td>0.467047</td>\n",
       "      <td>0.240258</td>\n",
       "    </tr>\n",
       "    <tr>\n",
       "      <th>2</th>\n",
       "      <td>27492</td>\n",
       "      <td>Prestigio, calidad de enseñanza de los profes...</td>\n",
       "      <td>0.009531</td>\n",
       "      <td>0.020952</td>\n",
       "      <td>0.040663</td>\n",
       "      <td>0.928855</td>\n",
       "    </tr>\n",
       "    <tr>\n",
       "      <th>3</th>\n",
       "      <td>29693</td>\n",
       "      <td>Educacion de calidad y con exigencia.</td>\n",
       "      <td>0.019382</td>\n",
       "      <td>0.047902</td>\n",
       "      <td>0.070853</td>\n",
       "      <td>0.861864</td>\n",
       "    </tr>\n",
       "    <tr>\n",
       "      <th>4</th>\n",
       "      <td>29677</td>\n",
       "      <td>No cumplen con los convenios académicos de de...</td>\n",
       "      <td>0.098579</td>\n",
       "      <td>0.301093</td>\n",
       "      <td>0.490969</td>\n",
       "      <td>0.109359</td>\n",
       "    </tr>\n",
       "  </tbody>\n",
       "</table>\n",
       "</div>"
      ],
      "text/plain": [
       "   COD_ENCUESTADO                                         COMENTARIO  \\\n",
       "0           15118   La universidad debería de ser mas exigente co...   \n",
       "1            6715                          No me han fallafo en nada   \n",
       "2           27492   Prestigio, calidad de enseñanza de los profes...   \n",
       "3           29693              Educacion de calidad y con exigencia.   \n",
       "4           29677   No cumplen con los convenios académicos de de...   \n",
       "\n",
       "       NPS1      NPS2      NPS3      NPS4  \n",
       "0  0.044130  0.196859  0.531970  0.227042  \n",
       "1  0.058000  0.234696  0.467047  0.240258  \n",
       "2  0.009531  0.020952  0.040663  0.928855  \n",
       "3  0.019382  0.047902  0.070853  0.861864  \n",
       "4  0.098579  0.301093  0.490969  0.109359  "
      ]
     },
     "execution_count": 113,
     "metadata": {},
     "output_type": "execute_result"
    }
   ],
   "source": [
    "df_submit = pd.concat((df_test['COD_ENCUESTADO'], df_test['COMENTARIO'], pd.DataFrame(y_pred_proba, columns=['NPS1', 'NPS2', 'NPS3', 'NPS4'])), axis=1)\n",
    "df_submit.head()"
   ]
  },
  {
   "cell_type": "code",
   "execution_count": 116,
   "metadata": {},
   "outputs": [],
   "source": [
    "df_submit.drop('COMENTARIO', axis=1).to_csv('NB.csv', index=False)"
   ]
  },
  {
   "cell_type": "markdown",
   "metadata": {
    "collapsed": true
   },
   "source": [
    "## # TODO"
   ]
  },
  {
   "cell_type": "markdown",
   "metadata": {},
   "source": [
    "- Clustering de carreras\n",
    "- NLP sobre comentario\n",
    "- Corrección ortográfica\n",
    "- Identificar más palabras importantes\n",
    "- Balancear data"
   ]
  },
  {
   "cell_type": "code",
   "execution_count": null,
   "metadata": {
    "collapsed": true
   },
   "outputs": [],
   "source": []
  }
 ],
 "metadata": {
  "kernelspec": {
   "display_name": "Python 3",
   "language": "python",
   "name": "python3"
  },
  "language_info": {
   "codemirror_mode": {
    "name": "ipython",
    "version": 3
   },
   "file_extension": ".py",
   "mimetype": "text/x-python",
   "name": "python",
   "nbconvert_exporter": "python",
   "pygments_lexer": "ipython3",
   "version": "3.5.3"
  }
 },
 "nbformat": 4,
 "nbformat_minor": 2
}
