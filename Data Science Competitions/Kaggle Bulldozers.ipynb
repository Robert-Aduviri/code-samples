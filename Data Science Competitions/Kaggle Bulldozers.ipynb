{
 "cells": [
  {
   "cell_type": "code",
   "execution_count": 1,
   "metadata": {},
   "outputs": [],
   "source": [
    "%load_ext autoreload\n",
    "%autoreload 2\n",
    "%matplotlib inline\n",
    "%config InlineBackend.figure_format = 'retina'\n",
    "import numpy as np\n",
    "import pandas as pd\n",
    "import matplotlib.pyplot as plt\n",
    "import seaborn as sns\n",
    "sns.set()"
   ]
  },
  {
   "cell_type": "code",
   "execution_count": 2,
   "metadata": {},
   "outputs": [],
   "source": [
    "pd.set_option('display.max_rows', 500)\n",
    "pd.set_option('display.max_columns', 500)"
   ]
  },
  {
   "cell_type": "code",
   "execution_count": 3,
   "metadata": {},
   "outputs": [
    {
     "name": "stdout",
     "output_type": "stream",
     "text": [
      "_data/Machine_Appendix.csv\t\t_data/TrainAndValid.csv\n",
      "_data/median_benchmark.csv\t\t_data/Train.csv\n",
      "_data/random_forest_benchmark_test.csv\t_data/Valid.csv\n",
      "_data/Test.csv\t\t\t\t_data/ValidSolution.csv\n"
     ]
    }
   ],
   "source": [
    "!ls _data/*.csv"
   ]
  },
  {
   "cell_type": "code",
   "execution_count": 4,
   "metadata": {},
   "outputs": [],
   "source": [
    "appendix = pd.read_csv('_data/Machine_Appendix.csv', low_memory=False)\n",
    "train = pd.read_csv('_data/Train.csv', low_memory=False)\n",
    "valid = pd.read_csv('_data/Valid.csv', low_memory=False)\n",
    "test = pd.read_csv('_data/Test.csv', low_memory=False)"
   ]
  },
  {
   "cell_type": "code",
   "execution_count": 5,
   "metadata": {},
   "outputs": [
    {
     "data": {
      "text/plain": [
       "SalesID                          0\n",
       "SalePrice                        0\n",
       "MachineID                        0\n",
       "ModelID                          0\n",
       "datasource                       0\n",
       "auctioneerID                 20136\n",
       "YearMade                         0\n",
       "MachineHoursCurrentMeter    258360\n",
       "UsageBand                   331486\n",
       "saledate                         0\n",
       "fiModelDesc                      0\n",
       "fiBaseModel                      0\n",
       "fiSecondaryDesc             137191\n",
       "fiModelSeries               344217\n",
       "fiModelDescriptor           329206\n",
       "ProductSize                 210775\n",
       "fiProductClassDesc               0\n",
       "state                            0\n",
       "ProductGroup                     0\n",
       "ProductGroupDesc                 0\n",
       "Drive_System                296764\n",
       "Enclosure                      325\n",
       "Forks                       209048\n",
       "Pad_Type                    321991\n",
       "Ride_Control                252519\n",
       "Stick                       321991\n",
       "Transmission                217895\n",
       "Turbocharged                321991\n",
       "Blade_Extension             375906\n",
       "Blade_Width                 375906\n",
       "Enclosure_Type              375906\n",
       "Engine_Horsepower           375906\n",
       "Hydraulics                   80555\n",
       "Pushblock                   375906\n",
       "Ripper                      296988\n",
       "Scarifier                   375895\n",
       "Tip_Control                 375906\n",
       "Tire_Size                   306407\n",
       "Coupler                     187173\n",
       "Coupler_System              357667\n",
       "Grouser_Tracks              357763\n",
       "Hydraulics_Flow             357763\n",
       "Track_Type                  301972\n",
       "Undercarriage_Pad_Width     301253\n",
       "Stick_Length                301907\n",
       "Thumb                       301837\n",
       "Pattern_Changer             301907\n",
       "Grouser_Type                301972\n",
       "Backhoe_Mounting            322453\n",
       "Blade_Type                  321292\n",
       "Travel_Controls             321291\n",
       "Differential_Type           331714\n",
       "Steering_Controls           331756\n",
       "dtype: int64"
      ]
     },
     "execution_count": 5,
     "metadata": {},
     "output_type": "execute_result"
    }
   ],
   "source": [
    "train.apply(lambda x: sum(x.isnull()), axis=0)"
   ]
  },
  {
   "cell_type": "markdown",
   "metadata": {},
   "source": [
    "## Data Cleaning"
   ]
  },
  {
   "cell_type": "code",
   "execution_count": 6,
   "metadata": {},
   "outputs": [],
   "source": [
    "id_column = 'SalesID'\n",
    "target_column = 'SalePrice'\n",
    "date_columns = ['YearMade', 'saledate']\n",
    "num_columns = ['MachineHoursCurrentMeter']\n",
    "cat_columns = [col for col in train.columns \\\n",
    "        if col not in [id_column] + [target_column] + date_columns + num_columns]"
   ]
  },
  {
   "cell_type": "code",
   "execution_count": 9,
   "metadata": {},
   "outputs": [],
   "source": [
    "from datetime import datetime\n",
    "def parse_dates(df, column, string_format='%d-%m-%Y'):\n",
    "    df[f'{column}-day'] = df[column].apply(\n",
    "        lambda x: datetime.strptime(x, string_format).day)\n",
    "    df[f'{column}-month'] = df[column].apply(\n",
    "        lambda x: datetime.strptime(x, string_format).month)\n",
    "    df[f'{column}-year'] = df[column].apply(\n",
    "        lambda x: datetime.strptime(x, string_format).year)\n",
    "    df[f'{column}-weekday'] = df[column].apply(\n",
    "        lambda x: datetime.strptime(x, string_format).weekday())\n",
    "    return df.drop(column, axis=1)"
   ]
  },
  {
   "cell_type": "code",
   "execution_count": 10,
   "metadata": {},
   "outputs": [],
   "source": [
    "train = parse_dates(train, date_columns[1], '%m/%d/%Y %H:%M')\n",
    "valid = parse_dates(valid, date_columns[1], '%m/%d/%Y %H:%M')\n",
    "test = parse_dates(test, date_columns[1], '%m/%d/%Y %H:%M')"
   ]
  },
  {
   "cell_type": "code",
   "execution_count": 11,
   "metadata": {},
   "outputs": [],
   "source": [
    "train[num_columns[0]].fillna(0, inplace=True)\n",
    "valid[num_columns[0]].fillna(0, inplace=True)\n",
    "test[num_columns[0]].fillna(0, inplace=True)\n",
    "\n",
    "train[date_columns[0]].fillna(1995, inplace=True)\n",
    "valid[date_columns[0]].fillna(1995, inplace=True)\n",
    "test[date_columns[0]].fillna(1995, inplace=True)"
   ]
  },
  {
   "cell_type": "code",
   "execution_count": 12,
   "metadata": {},
   "outputs": [],
   "source": [
    "for col in cat_columns:\n",
    "    train[col].fillna('-999', inplace=True)\n",
    "    valid[col].fillna('-999', inplace=True)\n",
    "    test[col].fillna('-999', inplace=True)    "
   ]
  },
  {
   "cell_type": "markdown",
   "metadata": {},
   "source": [
    "## Data Preprocessing"
   ]
  },
  {
   "cell_type": "code",
   "execution_count": 13,
   "metadata": {},
   "outputs": [],
   "source": [
    "for col in cat_columns:\n",
    "    train[col] = train[col].astype('str')\n",
    "    valid[col] = valid[col].astype('str')\n",
    "    test[col] = test[col].astype('str')"
   ]
  },
  {
   "cell_type": "code",
   "execution_count": 14,
   "metadata": {},
   "outputs": [],
   "source": [
    "from sklearn.preprocessing import LabelEncoder\n",
    "label_encoders = {col: LabelEncoder().fit(pd.concat((train, valid, test))[col]) \\\n",
    "                        for col in cat_columns}\n",
    "for col in cat_columns:\n",
    "    train[col] = label_encoders[col].transform(train[col])\n",
    "    valid[col] = label_encoders[col].transform(valid[col])\n",
    "    test[col] = label_encoders[col].transform(test[col])"
   ]
  },
  {
   "cell_type": "markdown",
   "metadata": {},
   "source": [
    "## Model"
   ]
  },
  {
   "cell_type": "code",
   "execution_count": 15,
   "metadata": {},
   "outputs": [],
   "source": [
    "from lightgbm import LGBMRegressor"
   ]
  },
  {
   "cell_type": "code",
   "execution_count": 34,
   "metadata": {},
   "outputs": [
    {
     "data": {
      "text/plain": [
       "LGBMRegressor(boosting_type='gbdt', class_weight=None, colsample_bytree=1.0,\n",
       "       learning_rate=0.1, max_depth=30, min_child_samples=20,\n",
       "       min_child_weight=0.001, min_split_gain=0.0, n_estimators=400,\n",
       "       n_jobs=-1, num_leaves=31, objective=None, random_state=None,\n",
       "       reg_alpha=0.0, reg_lambda=0.0, silent=True, subsample=1.0,\n",
       "       subsample_for_bin=200000, subsample_freq=1)"
      ]
     },
     "execution_count": 34,
     "metadata": {},
     "output_type": "execute_result"
    }
   ],
   "source": [
    "lgbm = LGBMRegressor(n_estimators=400, max_depth=30)\n",
    "lgbm.fit(train.drop([id_column, target_column], axis=1), \n",
    "            np.log(train[target_column]))"
   ]
  },
  {
   "cell_type": "code",
   "execution_count": 38,
   "metadata": {},
   "outputs": [],
   "source": [
    "from sklearn.metrics import mean_squared_error\n",
    "import math\n",
    "\n",
    "def rmse(y_true, y_pred):\n",
    "    return math.sqrt(mean_squared_error(y_true, y_pred))\n",
    "\n",
    "def print_score(m, X_train, y_train, X_valid, y_valid):\n",
    "    res = [rmse(m.predict(X_train), y_train), rmse(m.predict(X_valid), y_valid),\n",
    "                m.score(X_train, y_train), m.score(X_valid, y_valid)]\n",
    "    if hasattr(m, 'oob_score_'): res.append(m.oob_score_)\n",
    "    print(res)"
   ]
  },
  {
   "cell_type": "code",
   "execution_count": 36,
   "metadata": {},
   "outputs": [
    {
     "name": "stdout",
     "output_type": "stream",
     "text": [
      "[0.21889488396755447, 0.24874458186109583, 0.9004071890470065, 0.8852872445024529]\n"
     ]
    }
   ],
   "source": [
    "y = pd.read_csv('_data/ValidSolution.csv', low_memory=False)\n",
    "print_score(lgbm, train.drop([id_column, target_column], axis=1), \n",
    "                  np.log(train[target_column]),\n",
    "                  valid.drop(id_column, axis=1), \n",
    "                  np.log(y[target_column]))"
   ]
  },
  {
   "cell_type": "code",
   "execution_count": 26,
   "metadata": {},
   "outputs": [],
   "source": [
    "submission = pd.DataFrame()\n",
    "submission[id_column] = test[id_column]\n",
    "submission[target_column] = lgbm.predict(test.drop(id_column, axis=1))\n",
    "submission.to_csv('_data/LGBM.csv', index=False)"
   ]
  }
 ],
 "metadata": {
  "kernelspec": {
   "display_name": "Python 3",
   "language": "python",
   "name": "python3"
  },
  "language_info": {
   "codemirror_mode": {
    "name": "ipython",
    "version": 3
   },
   "file_extension": ".py",
   "mimetype": "text/x-python",
   "name": "python",
   "nbconvert_exporter": "python",
   "pygments_lexer": "ipython3",
   "version": "3.6.3"
  }
 },
 "nbformat": 4,
 "nbformat_minor": 2
}
