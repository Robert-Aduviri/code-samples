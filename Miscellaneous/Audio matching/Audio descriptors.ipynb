{
 "cells": [
  {
   "cell_type": "code",
   "execution_count": 36,
   "metadata": {},
   "outputs": [
    {
     "name": "stdout",
     "output_type": "stream",
     "text": [
      "The autoreload extension is already loaded. To reload it, use:\n",
      "  %reload_ext autoreload\n"
     ]
    }
   ],
   "source": [
    "%load_ext autoreload\n",
    "%autoreload 2\n",
    "%matplotlib inline\n",
    "%config InlineBackend.figure_format = 'retina'\n",
    "\n",
    "from pathlib import Path\n",
    "from tqdm import tqdm_notebook # or tqdm\n",
    "import pandas as pd\n",
    "import numpy as np\n",
    "import subprocess as sp\n",
    "import time\n",
    "import json\n",
    "\n",
    "import matplotlib.pyplot as plt\n",
    "import seaborn as sns\n",
    "sns.set()"
   ]
  },
  {
   "cell_type": "code",
   "execution_count": 5,
   "metadata": {},
   "outputs": [
    {
     "name": "stdout",
     "output_type": "stream",
     "text": [
      "1068 - Atrévete Te Te.mp3      86564 - Persiana Americana.mp4\n",
      "1106 - Perdóname.mp3\t       86775 - Que Levante La Mano.mp4\n",
      "787 - Rolling In The Deep.mp3  88202 - Ya Lo Pasado Pasado.mp4\n"
     ]
    }
   ],
   "source": [
    "!cd _data/_test_matching && ls"
   ]
  },
  {
   "cell_type": "code",
   "execution_count": 22,
   "metadata": {},
   "outputs": [],
   "source": [
    "root_path = Path('_data/_test_matching')"
   ]
  },
  {
   "cell_type": "code",
   "execution_count": 23,
   "metadata": {},
   "outputs": [
    {
     "name": "stdout",
     "output_type": "stream",
     "text": [
      "_data/_test_matching/1068 - Atrévete Te Te.mp3 13.09\n",
      "_data/_test_matching/1106 - Perdóname.mp3 12.65\n",
      "_data/_test_matching/787 - Rolling In The Deep.mp3 19.23\n",
      "_data/_test_matching/86564 - Persiana Americana.mp4 17.74\n",
      "_data/_test_matching/86775 - Que Levante La Mano.mp4 10.28\n",
      "_data/_test_matching/88202 - Ya Lo Pasado Pasado.mp4 13.53\n"
     ]
    }
   ],
   "source": [
    "media_extensions = ['.avi', '.cdg', '.dat', '.mkv', '.mp3', '.mp4', '.mpg', '.wav', '.wma', '.wmv']\n",
    "song_paths = []\n",
    "file_paths = []\n",
    "for song_file in root_path.iterdir():\n",
    "    start = time.time()\n",
    "    song_paths.append(song_file)\n",
    "    extension = song_file.suffix\n",
    "    if extension in media_extensions:\n",
    "        sp.call(['essentia_streaming_extractor_music',\n",
    "                 song_file, str(song_file).replace(extension, '.json')])\n",
    "        file_paths.append(Path(str(song_file).replace(extension, '.json')))\n",
    "        print(song_file, f'{time.time() - start:.2f}')"
   ]
  },
  {
   "cell_type": "code",
   "execution_count": 26,
   "metadata": {},
   "outputs": [],
   "source": [
    "from files_diff import preprocess_dataframe, get_dataframe"
   ]
  },
  {
   "cell_type": "code",
   "execution_count": 30,
   "metadata": {},
   "outputs": [],
   "source": [
    "songs_df = preprocess_dataframe(get_dataframe(song_paths))"
   ]
  },
  {
   "cell_type": "code",
   "execution_count": 32,
   "metadata": {},
   "outputs": [],
   "source": [
    "songs_df['descriptor_path'] = file_paths"
   ]
  },
  {
   "cell_type": "code",
   "execution_count": 33,
   "metadata": {},
   "outputs": [
    {
     "data": {
      "text/html": [
       "<div>\n",
       "<style scoped>\n",
       "    .dataframe tbody tr th:only-of-type {\n",
       "        vertical-align: middle;\n",
       "    }\n",
       "\n",
       "    .dataframe tbody tr th {\n",
       "        vertical-align: top;\n",
       "    }\n",
       "\n",
       "    .dataframe thead th {\n",
       "        text-align: right;\n",
       "    }\n",
       "</style>\n",
       "<table border=\"1\" class=\"dataframe\">\n",
       "  <thead>\n",
       "    <tr style=\"text-align: right;\">\n",
       "      <th></th>\n",
       "      <th>path</th>\n",
       "      <th>name</th>\n",
       "      <th>extension</th>\n",
       "      <th>code</th>\n",
       "      <th>descriptor_path</th>\n",
       "    </tr>\n",
       "  </thead>\n",
       "  <tbody>\n",
       "    <tr>\n",
       "      <th>0</th>\n",
       "      <td>_data/_test_matching/1068 - Atrévete Te Te.mp3</td>\n",
       "      <td>1068 - atrévete te te</td>\n",
       "      <td>.mp3</td>\n",
       "      <td>NaN</td>\n",
       "      <td>_data/_test_matching/1068 - Atrévete Te Te.json</td>\n",
       "    </tr>\n",
       "    <tr>\n",
       "      <th>1</th>\n",
       "      <td>_data/_test_matching/1106 - Perdóname.mp3</td>\n",
       "      <td>1106 - perdóname</td>\n",
       "      <td>.mp3</td>\n",
       "      <td>NaN</td>\n",
       "      <td>_data/_test_matching/1106 - Perdóname.json</td>\n",
       "    </tr>\n",
       "    <tr>\n",
       "      <th>2</th>\n",
       "      <td>_data/_test_matching/787 - Rolling In The Deep...</td>\n",
       "      <td>787 - rolling in the deep</td>\n",
       "      <td>.mp3</td>\n",
       "      <td>NaN</td>\n",
       "      <td>_data/_test_matching/787 - Rolling In The Deep...</td>\n",
       "    </tr>\n",
       "    <tr>\n",
       "      <th>3</th>\n",
       "      <td>_data/_test_matching/86564 - Persiana American...</td>\n",
       "      <td>86564 - persiana americana</td>\n",
       "      <td>.mp4</td>\n",
       "      <td>NaN</td>\n",
       "      <td>_data/_test_matching/86564 - Persiana American...</td>\n",
       "    </tr>\n",
       "    <tr>\n",
       "      <th>4</th>\n",
       "      <td>_data/_test_matching/86775 - Que Levante La Ma...</td>\n",
       "      <td>86775 - que levante la mano</td>\n",
       "      <td>.mp4</td>\n",
       "      <td>NaN</td>\n",
       "      <td>_data/_test_matching/86775 - Que Levante La Ma...</td>\n",
       "    </tr>\n",
       "    <tr>\n",
       "      <th>5</th>\n",
       "      <td>_data/_test_matching/88202 - Ya Lo Pasado Pasa...</td>\n",
       "      <td>88202 - ya lo pasado pasado</td>\n",
       "      <td>.mp4</td>\n",
       "      <td>NaN</td>\n",
       "      <td>_data/_test_matching/88202 - Ya Lo Pasado Pasa...</td>\n",
       "    </tr>\n",
       "  </tbody>\n",
       "</table>\n",
       "</div>"
      ],
      "text/plain": [
       "                                                path  \\\n",
       "0     _data/_test_matching/1068 - Atrévete Te Te.mp3   \n",
       "1          _data/_test_matching/1106 - Perdóname.mp3   \n",
       "2  _data/_test_matching/787 - Rolling In The Deep...   \n",
       "3  _data/_test_matching/86564 - Persiana American...   \n",
       "4  _data/_test_matching/86775 - Que Levante La Ma...   \n",
       "5  _data/_test_matching/88202 - Ya Lo Pasado Pasa...   \n",
       "\n",
       "                          name extension  code  \\\n",
       "0        1068 - atrévete te te      .mp3   NaN   \n",
       "1             1106 - perdóname      .mp3   NaN   \n",
       "2    787 - rolling in the deep      .mp3   NaN   \n",
       "3   86564 - persiana americana      .mp4   NaN   \n",
       "4  86775 - que levante la mano      .mp4   NaN   \n",
       "5  88202 - ya lo pasado pasado      .mp4   NaN   \n",
       "\n",
       "                                     descriptor_path  \n",
       "0    _data/_test_matching/1068 - Atrévete Te Te.json  \n",
       "1         _data/_test_matching/1106 - Perdóname.json  \n",
       "2  _data/_test_matching/787 - Rolling In The Deep...  \n",
       "3  _data/_test_matching/86564 - Persiana American...  \n",
       "4  _data/_test_matching/86775 - Que Levante La Ma...  \n",
       "5  _data/_test_matching/88202 - Ya Lo Pasado Pasa...  "
      ]
     },
     "execution_count": 33,
     "metadata": {},
     "output_type": "execute_result"
    }
   ],
   "source": [
    "songs_df"
   ]
  },
  {
   "cell_type": "code",
   "execution_count": 38,
   "metadata": {},
   "outputs": [],
   "source": [
    "for idx, row in songs_df.iterrows():\n",
    "    features = json.load(open(row['descriptor_path']))\n",
    "    songs_df.loc[idx, 'length'] = features['metadata']['audio_properties']['length']\n",
    "    songs_df.loc[idx, 'bpm'] = features['rhythm']['bpm']\n",
    "    songs_df.loc[idx, 'chords_key'] = features['tonal']['chords_key']\n",
    "    songs_df.loc[idx, 'chords_scale'] = features['tonal']['chords_scale']"
   ]
  },
  {
   "cell_type": "code",
   "execution_count": 39,
   "metadata": {},
   "outputs": [
    {
     "data": {
      "text/html": [
       "<div>\n",
       "<style scoped>\n",
       "    .dataframe tbody tr th:only-of-type {\n",
       "        vertical-align: middle;\n",
       "    }\n",
       "\n",
       "    .dataframe tbody tr th {\n",
       "        vertical-align: top;\n",
       "    }\n",
       "\n",
       "    .dataframe thead th {\n",
       "        text-align: right;\n",
       "    }\n",
       "</style>\n",
       "<table border=\"1\" class=\"dataframe\">\n",
       "  <thead>\n",
       "    <tr style=\"text-align: right;\">\n",
       "      <th></th>\n",
       "      <th>path</th>\n",
       "      <th>name</th>\n",
       "      <th>extension</th>\n",
       "      <th>code</th>\n",
       "      <th>descriptor_path</th>\n",
       "      <th>length</th>\n",
       "      <th>bpm</th>\n",
       "      <th>chords_key</th>\n",
       "      <th>chords_scale</th>\n",
       "    </tr>\n",
       "  </thead>\n",
       "  <tbody>\n",
       "    <tr>\n",
       "      <th>0</th>\n",
       "      <td>_data/_test_matching/1068 - Atrévete Te Te.mp3</td>\n",
       "      <td>1068 - atrévete te te</td>\n",
       "      <td>.mp3</td>\n",
       "      <td>NaN</td>\n",
       "      <td>_data/_test_matching/1068 - Atrévete Te Te.json</td>\n",
       "      <td>252.970856</td>\n",
       "      <td>89.786362</td>\n",
       "      <td>D</td>\n",
       "      <td>minor</td>\n",
       "    </tr>\n",
       "    <tr>\n",
       "      <th>1</th>\n",
       "      <td>_data/_test_matching/1106 - Perdóname.mp3</td>\n",
       "      <td>1106 - perdóname</td>\n",
       "      <td>.mp3</td>\n",
       "      <td>NaN</td>\n",
       "      <td>_data/_test_matching/1106 - Perdóname.json</td>\n",
       "      <td>240.040253</td>\n",
       "      <td>133.140121</td>\n",
       "      <td>D</td>\n",
       "      <td>major</td>\n",
       "    </tr>\n",
       "    <tr>\n",
       "      <th>2</th>\n",
       "      <td>_data/_test_matching/787 - Rolling In The Deep...</td>\n",
       "      <td>787 - rolling in the deep</td>\n",
       "      <td>.mp3</td>\n",
       "      <td>NaN</td>\n",
       "      <td>_data/_test_matching/787 - Rolling In The Deep...</td>\n",
       "      <td>245.029633</td>\n",
       "      <td>105.048813</td>\n",
       "      <td>F</td>\n",
       "      <td>minor</td>\n",
       "    </tr>\n",
       "    <tr>\n",
       "      <th>3</th>\n",
       "      <td>_data/_test_matching/86564 - Persiana American...</td>\n",
       "      <td>86564 - persiana americana</td>\n",
       "      <td>.mp4</td>\n",
       "      <td>NaN</td>\n",
       "      <td>_data/_test_matching/86564 - Persiana American...</td>\n",
       "      <td>279.823669</td>\n",
       "      <td>100.923264</td>\n",
       "      <td>G</td>\n",
       "      <td>major</td>\n",
       "    </tr>\n",
       "    <tr>\n",
       "      <th>4</th>\n",
       "      <td>_data/_test_matching/86775 - Que Levante La Ma...</td>\n",
       "      <td>86775 - que levante la mano</td>\n",
       "      <td>.mp4</td>\n",
       "      <td>NaN</td>\n",
       "      <td>_data/_test_matching/86775 - Que Levante La Ma...</td>\n",
       "      <td>192.446991</td>\n",
       "      <td>90.953445</td>\n",
       "      <td>A#</td>\n",
       "      <td>major</td>\n",
       "    </tr>\n",
       "    <tr>\n",
       "      <th>5</th>\n",
       "      <td>_data/_test_matching/88202 - Ya Lo Pasado Pasa...</td>\n",
       "      <td>88202 - ya lo pasado pasado</td>\n",
       "      <td>.mp4</td>\n",
       "      <td>NaN</td>\n",
       "      <td>_data/_test_matching/88202 - Ya Lo Pasado Pasa...</td>\n",
       "      <td>251.036728</td>\n",
       "      <td>76.272369</td>\n",
       "      <td>C</td>\n",
       "      <td>major</td>\n",
       "    </tr>\n",
       "  </tbody>\n",
       "</table>\n",
       "</div>"
      ],
      "text/plain": [
       "                                                path  \\\n",
       "0     _data/_test_matching/1068 - Atrévete Te Te.mp3   \n",
       "1          _data/_test_matching/1106 - Perdóname.mp3   \n",
       "2  _data/_test_matching/787 - Rolling In The Deep...   \n",
       "3  _data/_test_matching/86564 - Persiana American...   \n",
       "4  _data/_test_matching/86775 - Que Levante La Ma...   \n",
       "5  _data/_test_matching/88202 - Ya Lo Pasado Pasa...   \n",
       "\n",
       "                          name extension  code  \\\n",
       "0        1068 - atrévete te te      .mp3   NaN   \n",
       "1             1106 - perdóname      .mp3   NaN   \n",
       "2    787 - rolling in the deep      .mp3   NaN   \n",
       "3   86564 - persiana americana      .mp4   NaN   \n",
       "4  86775 - que levante la mano      .mp4   NaN   \n",
       "5  88202 - ya lo pasado pasado      .mp4   NaN   \n",
       "\n",
       "                                     descriptor_path      length         bpm  \\\n",
       "0    _data/_test_matching/1068 - Atrévete Te Te.json  252.970856   89.786362   \n",
       "1         _data/_test_matching/1106 - Perdóname.json  240.040253  133.140121   \n",
       "2  _data/_test_matching/787 - Rolling In The Deep...  245.029633  105.048813   \n",
       "3  _data/_test_matching/86564 - Persiana American...  279.823669  100.923264   \n",
       "4  _data/_test_matching/86775 - Que Levante La Ma...  192.446991   90.953445   \n",
       "5  _data/_test_matching/88202 - Ya Lo Pasado Pasa...  251.036728   76.272369   \n",
       "\n",
       "  chords_key chords_scale  \n",
       "0          D        minor  \n",
       "1          D        major  \n",
       "2          F        minor  \n",
       "3          G        major  \n",
       "4         A#        major  \n",
       "5          C        major  "
      ]
     },
     "execution_count": 39,
     "metadata": {},
     "output_type": "execute_result"
    }
   ],
   "source": [
    "songs_df"
   ]
  }
 ],
 "metadata": {
  "kernelspec": {
   "display_name": "Python 3",
   "language": "python",
   "name": "python3"
  },
  "language_info": {
   "codemirror_mode": {
    "name": "ipython",
    "version": 3
   },
   "file_extension": ".py",
   "mimetype": "text/x-python",
   "name": "python",
   "nbconvert_exporter": "python",
   "pygments_lexer": "ipython3",
   "version": "3.6.3"
  }
 },
 "nbformat": 4,
 "nbformat_minor": 2
}
