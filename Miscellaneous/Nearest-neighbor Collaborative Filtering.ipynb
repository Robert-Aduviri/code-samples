{
 "cells": [
  {
   "cell_type": "code",
   "execution_count": 1,
   "metadata": {
    "collapsed": true
   },
   "outputs": [],
   "source": [
    "%matplotlib inline\n",
    "%config InlineBackend.figure_format = 'retina'\n",
    "import numpy as np\n",
    "import pandas as pd\n",
    "import matplotlib.pyplot as plt\n",
    "import seaborn as sns\n",
    "sns.set()\n",
    "import re\n",
    "from collections import Counter\n",
    "pd.set_option('display.max_columns', 500)"
   ]
  },
  {
   "cell_type": "code",
   "execution_count": 2,
   "metadata": {
    "collapsed": true
   },
   "outputs": [],
   "source": [
    "songs = pd.read_csv('data/songs.csv', dtype={'idSong': 'float32', 'song': 'category'})"
   ]
  },
  {
   "cell_type": "code",
   "execution_count": 3,
   "metadata": {
    "collapsed": true
   },
   "outputs": [],
   "source": [
    "columns = {'distinct_id': 'category', \n",
    "           'idUser': 'float32', \n",
    "           'idSong': 'float32', \n",
    "           'Premium': 'category',\n",
    "           'date': 'category'}"
   ]
  },
  {
   "cell_type": "code",
   "execution_count": 4,
   "metadata": {
    "collapsed": true
   },
   "outputs": [],
   "source": [
    "df = pd.read_csv('data/filtered_data.csv', dtype=columns)"
   ]
  },
  {
   "cell_type": "code",
   "execution_count": 5,
   "metadata": {},
   "outputs": [
    {
     "name": "stdout",
     "output_type": "stream",
     "text": [
      "(898166, 5)\n"
     ]
    },
    {
     "data": {
      "text/html": [
       "<div>\n",
       "<style scoped>\n",
       "    .dataframe tbody tr th:only-of-type {\n",
       "        vertical-align: middle;\n",
       "    }\n",
       "\n",
       "    .dataframe tbody tr th {\n",
       "        vertical-align: top;\n",
       "    }\n",
       "\n",
       "    .dataframe thead th {\n",
       "        text-align: right;\n",
       "    }\n",
       "</style>\n",
       "<table border=\"1\" class=\"dataframe\">\n",
       "  <thead>\n",
       "    <tr style=\"text-align: right;\">\n",
       "      <th></th>\n",
       "      <th>Premium</th>\n",
       "      <th>distinct_id</th>\n",
       "      <th>idSong</th>\n",
       "      <th>idUser</th>\n",
       "      <th>date</th>\n",
       "    </tr>\n",
       "  </thead>\n",
       "  <tbody>\n",
       "    <tr>\n",
       "      <th>0</th>\n",
       "      <td>True</td>\n",
       "      <td>1517adc8afe34-06674c418-b2033-e1000-1517adc8b003d</td>\n",
       "      <td>1455.0</td>\n",
       "      <td>254717.0</td>\n",
       "      <td>2016-01</td>\n",
       "    </tr>\n",
       "    <tr>\n",
       "      <th>1</th>\n",
       "      <td>True</td>\n",
       "      <td>151b5acaa3436-06170ce3f-569285f-e1000-151b5aca...</td>\n",
       "      <td>1267.0</td>\n",
       "      <td>260524.0</td>\n",
       "      <td>2016-01</td>\n",
       "    </tr>\n",
       "    <tr>\n",
       "      <th>2</th>\n",
       "      <td>True</td>\n",
       "      <td>151fb51704b174-028cc3d3e-770d5f50-e1000-151fb5...</td>\n",
       "      <td>1081.0</td>\n",
       "      <td>298505.0</td>\n",
       "      <td>2016-01</td>\n",
       "    </tr>\n",
       "    <tr>\n",
       "      <th>3</th>\n",
       "      <td>False</td>\n",
       "      <td>15188afdc1770-04dfc764a-77d525d-e1000-15188afd...</td>\n",
       "      <td>720.0</td>\n",
       "      <td>239346.0</td>\n",
       "      <td>2016-01</td>\n",
       "    </tr>\n",
       "    <tr>\n",
       "      <th>4</th>\n",
       "      <td>True</td>\n",
       "      <td>151a61e06202-0b1a334c8-6745156-e1000-151a61e06...</td>\n",
       "      <td>277.0</td>\n",
       "      <td>298592.0</td>\n",
       "      <td>2016-01</td>\n",
       "    </tr>\n",
       "  </tbody>\n",
       "</table>\n",
       "</div>"
      ],
      "text/plain": [
       "  Premium                                        distinct_id  idSong  \\\n",
       "0    True  1517adc8afe34-06674c418-b2033-e1000-1517adc8b003d  1455.0   \n",
       "1    True  151b5acaa3436-06170ce3f-569285f-e1000-151b5aca...  1267.0   \n",
       "2    True  151fb51704b174-028cc3d3e-770d5f50-e1000-151fb5...  1081.0   \n",
       "3   False  15188afdc1770-04dfc764a-77d525d-e1000-15188afd...   720.0   \n",
       "4    True  151a61e06202-0b1a334c8-6745156-e1000-151a61e06...   277.0   \n",
       "\n",
       "     idUser     date  \n",
       "0  254717.0  2016-01  \n",
       "1  260524.0  2016-01  \n",
       "2  298505.0  2016-01  \n",
       "3  239346.0  2016-01  \n",
       "4  298592.0  2016-01  "
      ]
     },
     "execution_count": 5,
     "metadata": {},
     "output_type": "execute_result"
    }
   ],
   "source": [
    "print(df.shape)\n",
    "df.head()"
   ]
  },
  {
   "cell_type": "code",
   "execution_count": 6,
   "metadata": {},
   "outputs": [
    {
     "name": "stdout",
     "output_type": "stream",
     "text": [
      "(7301, 2)\n"
     ]
    },
    {
     "data": {
      "text/html": [
       "<div>\n",
       "<style scoped>\n",
       "    .dataframe tbody tr th:only-of-type {\n",
       "        vertical-align: middle;\n",
       "    }\n",
       "\n",
       "    .dataframe tbody tr th {\n",
       "        vertical-align: top;\n",
       "    }\n",
       "\n",
       "    .dataframe thead th {\n",
       "        text-align: right;\n",
       "    }\n",
       "</style>\n",
       "<table border=\"1\" class=\"dataframe\">\n",
       "  <thead>\n",
       "    <tr style=\"text-align: right;\">\n",
       "      <th></th>\n",
       "      <th>idSong</th>\n",
       "      <th>song</th>\n",
       "    </tr>\n",
       "  </thead>\n",
       "  <tbody>\n",
       "    <tr>\n",
       "      <th>0</th>\n",
       "      <td>1455.0</td>\n",
       "      <td>Este Terco Corazon</td>\n",
       "    </tr>\n",
       "    <tr>\n",
       "      <th>1</th>\n",
       "      <td>5606.0</td>\n",
       "      <td>El Taxi</td>\n",
       "    </tr>\n",
       "    <tr>\n",
       "      <th>2</th>\n",
       "      <td>529.0</td>\n",
       "      <td>Llama por favor</td>\n",
       "    </tr>\n",
       "    <tr>\n",
       "      <th>3</th>\n",
       "      <td>5535.0</td>\n",
       "      <td>Tu respiracion</td>\n",
       "    </tr>\n",
       "    <tr>\n",
       "      <th>4</th>\n",
       "      <td>1267.0</td>\n",
       "      <td>No podras</td>\n",
       "    </tr>\n",
       "  </tbody>\n",
       "</table>\n",
       "</div>"
      ],
      "text/plain": [
       "   idSong                song\n",
       "0  1455.0  Este Terco Corazon\n",
       "1  5606.0             El Taxi\n",
       "2   529.0     Llama por favor\n",
       "3  5535.0      Tu respiracion\n",
       "4  1267.0           No podras"
      ]
     },
     "execution_count": 6,
     "metadata": {},
     "output_type": "execute_result"
    }
   ],
   "source": [
    "print(songs.shape)\n",
    "songs.head()"
   ]
  },
  {
   "cell_type": "code",
   "execution_count": 7,
   "metadata": {
    "collapsed": true
   },
   "outputs": [],
   "source": [
    "triplets = df.groupby(['idUser', 'idSong'], as_index=False).agg({'date': 'count'}) \\\n",
    "                                        .sort_values('date', ascending=False)\n",
    "triplets['count'] = triplets['date']\n",
    "triplets = triplets.drop('date', axis=1)"
   ]
  },
  {
   "cell_type": "code",
   "execution_count": 8,
   "metadata": {},
   "outputs": [
    {
     "data": {
      "text/html": [
       "<div>\n",
       "<style scoped>\n",
       "    .dataframe tbody tr th:only-of-type {\n",
       "        vertical-align: middle;\n",
       "    }\n",
       "\n",
       "    .dataframe tbody tr th {\n",
       "        vertical-align: top;\n",
       "    }\n",
       "\n",
       "    .dataframe thead th {\n",
       "        text-align: right;\n",
       "    }\n",
       "</style>\n",
       "<table border=\"1\" class=\"dataframe\">\n",
       "  <thead>\n",
       "    <tr style=\"text-align: right;\">\n",
       "      <th></th>\n",
       "      <th>idUser</th>\n",
       "      <th>idSong</th>\n",
       "      <th>count</th>\n",
       "    </tr>\n",
       "  </thead>\n",
       "  <tbody>\n",
       "    <tr>\n",
       "      <th>121287</th>\n",
       "      <td>357518.0</td>\n",
       "      <td>5618.0</td>\n",
       "      <td>211</td>\n",
       "    </tr>\n",
       "    <tr>\n",
       "      <th>518167</th>\n",
       "      <td>795638.0</td>\n",
       "      <td>2855.0</td>\n",
       "      <td>72</td>\n",
       "    </tr>\n",
       "    <tr>\n",
       "      <th>15967</th>\n",
       "      <td>131705.0</td>\n",
       "      <td>418.0</td>\n",
       "      <td>62</td>\n",
       "    </tr>\n",
       "    <tr>\n",
       "      <th>262121</th>\n",
       "      <td>517484.0</td>\n",
       "      <td>644.0</td>\n",
       "      <td>59</td>\n",
       "    </tr>\n",
       "    <tr>\n",
       "      <th>575756</th>\n",
       "      <td>843548.0</td>\n",
       "      <td>961.0</td>\n",
       "      <td>54</td>\n",
       "    </tr>\n",
       "  </tbody>\n",
       "</table>\n",
       "</div>"
      ],
      "text/plain": [
       "          idUser  idSong  count\n",
       "121287  357518.0  5618.0    211\n",
       "518167  795638.0  2855.0     72\n",
       "15967   131705.0   418.0     62\n",
       "262121  517484.0   644.0     59\n",
       "575756  843548.0   961.0     54"
      ]
     },
     "execution_count": 8,
     "metadata": {},
     "output_type": "execute_result"
    }
   ],
   "source": [
    "triplets.head()"
   ]
  },
  {
   "cell_type": "code",
   "execution_count": 9,
   "metadata": {},
   "outputs": [
    {
     "data": {
      "text/plain": [
       "(708110, 3)"
      ]
     },
     "execution_count": 9,
     "metadata": {},
     "output_type": "execute_result"
    }
   ],
   "source": [
    "triplets.shape"
   ]
  },
  {
   "cell_type": "code",
   "execution_count": 25,
   "metadata": {
    "collapsed": true
   },
   "outputs": [],
   "source": [
    "triplets.to_csv('data/filtered_data_triplets.csv', index=False)"
   ]
  },
  {
   "cell_type": "code",
   "execution_count": 10,
   "metadata": {},
   "outputs": [
    {
     "data": {
      "text/plain": [
       "(703, 3)"
      ]
     },
     "execution_count": 10,
     "metadata": {},
     "output_type": "execute_result"
    }
   ],
   "source": [
    "triplets[triplets['count']>10].shape"
   ]
  },
  {
   "cell_type": "markdown",
   "metadata": {},
   "source": [
    "## Clip high count values [1..5]"
   ]
  },
  {
   "cell_type": "markdown",
   "metadata": {},
   "source": [
    "- 1: [1]\n",
    "- 2: [2,3]\n",
    "- 3: [4,5,6]\n",
    "- 4: [6..]"
   ]
  },
  {
   "cell_type": "code",
   "execution_count": 15,
   "metadata": {
    "collapsed": true
   },
   "outputs": [],
   "source": [
    "def rating(count):\n",
    "    if count == 1: return 1\n",
    "    elif count <= 3: return 2\n",
    "    elif count <= 6: return 3\n",
    "    else: return 4"
   ]
  },
  {
   "cell_type": "code",
   "execution_count": 17,
   "metadata": {
    "collapsed": true
   },
   "outputs": [],
   "source": [
    "triplets['rating'] = triplets['count'].apply(rating)"
   ]
  },
  {
   "cell_type": "code",
   "execution_count": 22,
   "metadata": {},
   "outputs": [
    {
     "name": "stdout",
     "output_type": "stream",
     "text": [
      "1    592928\n",
      "2    100091\n",
      "3     12287\n",
      "4      2804\n",
      "Name: rating, dtype: int64\n"
     ]
    },
    {
     "data": {
      "text/plain": [
       "<matplotlib.axes._subplots.AxesSubplot at 0x7f261ed09940>"
      ]
     },
     "execution_count": 22,
     "metadata": {},
     "output_type": "execute_result"
    },
    {
     "data": {
      "image/png": "[encoded data removed]",
      "text/plain": [
       "<matplotlib.figure.Figure at 0x7f261ed41a90>"
      ]
     },
     "metadata": {
      "image/png": {
       "height": 248,
       "width": 389
      }
     },
     "output_type": "display_data"
    }
   ],
   "source": [
    "print(triplets['rating'].value_counts())\n",
    "triplets['rating'].value_counts().plot()"
   ]
  },
  {
   "cell_type": "code",
   "execution_count": 18,
   "metadata": {},
   "outputs": [
    {
     "data": {
      "text/html": [
       "<div>\n",
       "<style scoped>\n",
       "    .dataframe tbody tr th:only-of-type {\n",
       "        vertical-align: middle;\n",
       "    }\n",
       "\n",
       "    .dataframe tbody tr th {\n",
       "        vertical-align: top;\n",
       "    }\n",
       "\n",
       "    .dataframe thead th {\n",
       "        text-align: right;\n",
       "    }\n",
       "</style>\n",
       "<table border=\"1\" class=\"dataframe\">\n",
       "  <thead>\n",
       "    <tr style=\"text-align: right;\">\n",
       "      <th></th>\n",
       "      <th>idUser</th>\n",
       "      <th>idSong</th>\n",
       "      <th>count</th>\n",
       "      <th>rating</th>\n",
       "    </tr>\n",
       "  </thead>\n",
       "  <tbody>\n",
       "    <tr>\n",
       "      <th>121287</th>\n",
       "      <td>357518.0</td>\n",
       "      <td>5618.0</td>\n",
       "      <td>211</td>\n",
       "      <td>4</td>\n",
       "    </tr>\n",
       "    <tr>\n",
       "      <th>518167</th>\n",
       "      <td>795638.0</td>\n",
       "      <td>2855.0</td>\n",
       "      <td>72</td>\n",
       "      <td>4</td>\n",
       "    </tr>\n",
       "    <tr>\n",
       "      <th>15967</th>\n",
       "      <td>131705.0</td>\n",
       "      <td>418.0</td>\n",
       "      <td>62</td>\n",
       "      <td>4</td>\n",
       "    </tr>\n",
       "    <tr>\n",
       "      <th>262121</th>\n",
       "      <td>517484.0</td>\n",
       "      <td>644.0</td>\n",
       "      <td>59</td>\n",
       "      <td>4</td>\n",
       "    </tr>\n",
       "    <tr>\n",
       "      <th>575756</th>\n",
       "      <td>843548.0</td>\n",
       "      <td>961.0</td>\n",
       "      <td>54</td>\n",
       "      <td>4</td>\n",
       "    </tr>\n",
       "  </tbody>\n",
       "</table>\n",
       "</div>"
      ],
      "text/plain": [
       "          idUser  idSong  count  rating\n",
       "121287  357518.0  5618.0    211       4\n",
       "518167  795638.0  2855.0     72       4\n",
       "15967   131705.0   418.0     62       4\n",
       "262121  517484.0   644.0     59       4\n",
       "575756  843548.0   961.0     54       4"
      ]
     },
     "execution_count": 18,
     "metadata": {},
     "output_type": "execute_result"
    }
   ],
   "source": [
    "triplets.head()"
   ]
  },
  {
   "cell_type": "markdown",
   "metadata": {},
   "source": [
    "# Correlation matrix"
   ]
  },
  {
   "cell_type": "code",
   "execution_count": 25,
   "metadata": {
    "collapsed": true
   },
   "outputs": [],
   "source": [
    "userRatings = triplets.pivot_table(index=['idUser'], columns=['idSong'], values='rating')"
   ]
  },
  {
   "cell_type": "code",
   "execution_count": 26,
   "metadata": {},
   "outputs": [
    {
     "name": "stdout",
     "output_type": "stream",
     "text": [
      "<class 'pandas.core.frame.DataFrame'>\n",
      "Float64Index: 33945 entries, 8.0 to 1063228.0\n",
      "Columns: 6917 entries, 1.0 to 14996.0\n",
      "dtypes: float64(6917)\n",
      "memory usage: 1.7 GB\n"
     ]
    }
   ],
   "source": [
    "userRatings.info(memory_usage='deep')"
   ]
  },
  {
   "cell_type": "code",
   "execution_count": 28,
   "metadata": {
    "collapsed": true
   },
   "outputs": [],
   "source": [
    "# 22 min\n",
    "corrMatrix = userRatings.corr(method='pearson', min_periods=100)"
   ]
  },
  {
   "cell_type": "code",
   "execution_count": 29,
   "metadata": {},
   "outputs": [
    {
     "name": "stdout",
     "output_type": "stream",
     "text": [
      "<class 'pandas.core.frame.DataFrame'>\n",
      "Float64Index: 6917 entries, 1.0 to 14996.0\n",
      "Columns: 6917 entries, 1.0 to 14996.0\n",
      "dtypes: float64(6917)\n",
      "memory usage: 365.1 MB\n"
     ]
    }
   ],
   "source": [
    "corrMatrix.info(memory_usage='deep')"
   ]
  },
  {
   "cell_type": "code",
   "execution_count": 50,
   "metadata": {},
   "outputs": [
    {
     "data": {
      "text/html": [
       "<div>\n",
       "<style scoped>\n",
       "    .dataframe tbody tr th:only-of-type {\n",
       "        vertical-align: middle;\n",
       "    }\n",
       "\n",
       "    .dataframe tbody tr th {\n",
       "        vertical-align: top;\n",
       "    }\n",
       "\n",
       "    .dataframe thead th {\n",
       "        text-align: right;\n",
       "    }\n",
       "</style>\n",
       "<table border=\"1\" class=\"dataframe\">\n",
       "  <thead>\n",
       "    <tr style=\"text-align: right;\">\n",
       "      <th></th>\n",
       "      <th>idUser</th>\n",
       "      <th>idSong</th>\n",
       "      <th>count</th>\n",
       "      <th>rating</th>\n",
       "    </tr>\n",
       "  </thead>\n",
       "  <tbody>\n",
       "    <tr>\n",
       "      <th>256148</th>\n",
       "      <td>510922.0</td>\n",
       "      <td>5650.0</td>\n",
       "      <td>3</td>\n",
       "      <td>2</td>\n",
       "    </tr>\n",
       "    <tr>\n",
       "      <th>138886</th>\n",
       "      <td>375411.0</td>\n",
       "      <td>3237.0</td>\n",
       "      <td>1</td>\n",
       "      <td>1</td>\n",
       "    </tr>\n",
       "    <tr>\n",
       "      <th>558884</th>\n",
       "      <td>827049.0</td>\n",
       "      <td>4474.0</td>\n",
       "      <td>1</td>\n",
       "      <td>1</td>\n",
       "    </tr>\n",
       "    <tr>\n",
       "      <th>678681</th>\n",
       "      <td>1015628.0</td>\n",
       "      <td>480.0</td>\n",
       "      <td>1</td>\n",
       "      <td>1</td>\n",
       "    </tr>\n",
       "    <tr>\n",
       "      <th>614856</th>\n",
       "      <td>889555.0</td>\n",
       "      <td>6088.0</td>\n",
       "      <td>1</td>\n",
       "      <td>1</td>\n",
       "    </tr>\n",
       "  </tbody>\n",
       "</table>\n",
       "</div>"
      ],
      "text/plain": [
       "           idUser  idSong  count  rating\n",
       "256148   510922.0  5650.0      3       2\n",
       "138886   375411.0  3237.0      1       1\n",
       "558884   827049.0  4474.0      1       1\n",
       "678681  1015628.0   480.0      1       1\n",
       "614856   889555.0  6088.0      1       1"
      ]
     },
     "execution_count": 50,
     "metadata": {},
     "output_type": "execute_result"
    }
   ],
   "source": [
    "triplets.sample(5)"
   ]
  },
  {
   "cell_type": "code",
   "execution_count": 67,
   "metadata": {
    "collapsed": true
   },
   "outputs": [],
   "source": [
    "userRatings.to_csv('data/userRatings.csv')"
   ]
  },
  {
   "cell_type": "code",
   "execution_count": null,
   "metadata": {},
   "outputs": [],
   "source": [
    "import pandas as pd\n",
    "userRatings = pd.read_csv('data/userRatings.csv')\n",
    "userRatings.shape"
   ]
  },
  {
   "cell_type": "code",
   "execution_count": 69,
   "metadata": {
    "collapsed": true
   },
   "outputs": [],
   "source": [
    "corrMatrix.to_csv('data/corrMatrix.csv')"
   ]
  },
  {
   "cell_type": "code",
   "execution_count": 17,
   "metadata": {
    "collapsed": true
   },
   "outputs": [],
   "source": [
    "userRatings = pd.read_csv('data/userRatings.csv', index_col='idUser')\n",
    "userRatings.columns = userRatings.columns.astype('float32')"
   ]
  },
  {
   "cell_type": "code",
   "execution_count": 22,
   "metadata": {
    "collapsed": true
   },
   "outputs": [],
   "source": [
    "corrMatrix = pd.read_csv('data/corrMatrix.csv', index_col='idSong')\n",
    "corrMatrix.columns = corrMatrix.columns.astype('float32')"
   ]
  },
  {
   "cell_type": "code",
   "execution_count": 24,
   "metadata": {
    "collapsed": true
   },
   "outputs": [],
   "source": [
    "def getUserSongs(userId):\n",
    "    userSongsRatings = userRatings.loc[userId].dropna()\n",
    "    userSongs = songs[songs['idSong'].apply(lambda x: x in userSongsRatings)].copy()\n",
    "    userSongs['rating'] = userSongs['idSong'].map(userSongsRatings)\n",
    "    return userSongs"
   ]
  },
  {
   "cell_type": "code",
   "execution_count": 160,
   "metadata": {
    "collapsed": true
   },
   "outputs": [],
   "source": [
    "def getSongsNames(songsRatings):\n",
    "    songsInfo = songs[songs['idSong'].apply(lambda x: x in songsRatings)].copy()\n",
    "    songsInfo['rating'] = songsInfo['idSong'].map(songsRatings)\n",
    "    return songsInfo"
   ]
  },
  {
   "cell_type": "code",
   "execution_count": 107,
   "metadata": {
    "scrolled": false
   },
   "outputs": [
    {
     "name": "stdout",
     "output_type": "stream",
     "text": [
      "474462\n"
     ]
    },
    {
     "data": {
      "text/html": [
       "<div>\n",
       "<style scoped>\n",
       "    .dataframe tbody tr th:only-of-type {\n",
       "        vertical-align: middle;\n",
       "    }\n",
       "\n",
       "    .dataframe tbody tr th {\n",
       "        vertical-align: top;\n",
       "    }\n",
       "\n",
       "    .dataframe thead th {\n",
       "        text-align: right;\n",
       "    }\n",
       "</style>\n",
       "<table border=\"1\" class=\"dataframe\">\n",
       "  <thead>\n",
       "    <tr style=\"text-align: right;\">\n",
       "      <th></th>\n",
       "      <th>idSong</th>\n",
       "      <th>song</th>\n",
       "      <th>rating</th>\n",
       "    </tr>\n",
       "  </thead>\n",
       "  <tbody>\n",
       "    <tr>\n",
       "      <th>1</th>\n",
       "      <td>5606.0</td>\n",
       "      <td>El Taxi</td>\n",
       "      <td>1.0</td>\n",
       "    </tr>\n",
       "    <tr>\n",
       "      <th>68</th>\n",
       "      <td>3355.0</td>\n",
       "      <td>Colgando en tus manos</td>\n",
       "      <td>1.0</td>\n",
       "    </tr>\n",
       "    <tr>\n",
       "      <th>118</th>\n",
       "      <td>745.0</td>\n",
       "      <td>Como la flor</td>\n",
       "      <td>1.0</td>\n",
       "    </tr>\n",
       "    <tr>\n",
       "      <th>182</th>\n",
       "      <td>5613.0</td>\n",
       "      <td>Nota de amor</td>\n",
       "      <td>1.0</td>\n",
       "    </tr>\n",
       "    <tr>\n",
       "      <th>206</th>\n",
       "      <td>454.0</td>\n",
       "      <td>Maldita primavera</td>\n",
       "      <td>1.0</td>\n",
       "    </tr>\n",
       "    <tr>\n",
       "      <th>444</th>\n",
       "      <td>3379.0</td>\n",
       "      <td>Volvi a nacer</td>\n",
       "      <td>1.0</td>\n",
       "    </tr>\n",
       "    <tr>\n",
       "      <th>450</th>\n",
       "      <td>1768.0</td>\n",
       "      <td>Corre</td>\n",
       "      <td>1.0</td>\n",
       "    </tr>\n",
       "    <tr>\n",
       "      <th>541</th>\n",
       "      <td>2356.0</td>\n",
       "      <td>Flor palida</td>\n",
       "      <td>1.0</td>\n",
       "    </tr>\n",
       "    <tr>\n",
       "      <th>1008</th>\n",
       "      <td>1518.0</td>\n",
       "      <td>No te pido flores</td>\n",
       "      <td>1.0</td>\n",
       "    </tr>\n",
       "    <tr>\n",
       "      <th>1869</th>\n",
       "      <td>3365.0</td>\n",
       "      <td>El mar de sus ojos</td>\n",
       "      <td>2.0</td>\n",
       "    </tr>\n",
       "    <tr>\n",
       "      <th>2137</th>\n",
       "      <td>20.0</td>\n",
       "      <td>Algo suena en mi</td>\n",
       "      <td>1.0</td>\n",
       "    </tr>\n",
       "    <tr>\n",
       "      <th>4276</th>\n",
       "      <td>5618.0</td>\n",
       "      <td>La gozadera</td>\n",
       "      <td>2.0</td>\n",
       "    </tr>\n",
       "    <tr>\n",
       "      <th>4283</th>\n",
       "      <td>5624.0</td>\n",
       "      <td>Profugos</td>\n",
       "      <td>1.0</td>\n",
       "    </tr>\n",
       "  </tbody>\n",
       "</table>\n",
       "</div>"
      ],
      "text/plain": [
       "      idSong                   song  rating\n",
       "1     5606.0                El Taxi     1.0\n",
       "68    3355.0  Colgando en tus manos     1.0\n",
       "118    745.0           Como la flor     1.0\n",
       "182   5613.0           Nota de amor     1.0\n",
       "206    454.0      Maldita primavera     1.0\n",
       "444   3379.0          Volvi a nacer     1.0\n",
       "450   1768.0                  Corre     1.0\n",
       "541   2356.0            Flor palida     1.0\n",
       "1008  1518.0      No te pido flores     1.0\n",
       "1869  3365.0     El mar de sus ojos     2.0\n",
       "2137    20.0       Algo suena en mi     1.0\n",
       "4276  5618.0            La gozadera     2.0\n",
       "4283  5624.0               Profugos     1.0"
      ]
     },
     "execution_count": 107,
     "metadata": {},
     "output_type": "execute_result"
    }
   ],
   "source": [
    "# userId = 729763, 487715, 880786, 290234, 534687, 657491, 498616, 754886, 1004084, 474462\n",
    "# userId = 833773 (ingles)\n",
    "# userId = np.random.choice(triplets['idUser'].unique(), 1)[0]\n",
    "userId = 474462\n",
    "print(userId)\n",
    "getUserSongs(userId)"
   ]
  },
  {
   "cell_type": "code",
   "execution_count": 196,
   "metadata": {
    "collapsed": true
   },
   "outputs": [],
   "source": [
    "def getSimilarCandidates(userId, userSongsRatings=None):\n",
    "    if userSongsRatings is None:\n",
    "        userSongsRatings = userRatings.loc[userId].dropna()\n",
    "    simCandidates = pd.Series()\n",
    "    for i in range(len(userSongsRatings.index)):\n",
    "#         print(f\"Adding similar candidates for {songs[songs['idSong']==userSongsRatings.index[i]]['song'].astype('str').values[0]} ...\")\n",
    "        sims = corrMatrix[userSongsRatings.index[i]].dropna()\n",
    "        sims = sims.map(lambda x: x * userSongsRatings[userSongsRatings.index[i]])\n",
    "        simCandidates = simCandidates.append(sims)\n",
    "    simCandidates = simCandidates.groupby(simCandidates.index).sum()\n",
    "    simCandidates = simCandidates.drop([x for x in userSongsRatings.index if x in simCandidates.index])\n",
    "    return simCandidates"
   ]
  },
  {
   "cell_type": "code",
   "execution_count": 178,
   "metadata": {},
   "outputs": [
    {
     "name": "stdout",
     "output_type": "stream",
     "text": [
      "Adding similar candidates for Algo suena en mi ...\n",
      "Adding similar candidates for Maldita primavera ...\n",
      "Adding similar candidates for Como la flor ...\n",
      "Adding similar candidates for No te pido flores ...\n",
      "Adding similar candidates for Corre ...\n",
      "Adding similar candidates for Flor palida ...\n",
      "Adding similar candidates for Colgando en tus manos ...\n",
      "Adding similar candidates for El mar de sus ojos ...\n",
      "Adding similar candidates for Volvi a nacer ...\n",
      "Adding similar candidates for El Taxi ...\n",
      "Adding similar candidates for Nota de amor ...\n",
      "Adding similar candidates for La gozadera ...\n",
      "Adding similar candidates for Profugos ...\n"
     ]
    }
   ],
   "source": [
    "simCandidates = getSimilarCandidates(474462)"
   ]
  },
  {
   "cell_type": "code",
   "execution_count": 179,
   "metadata": {},
   "outputs": [
    {
     "data": {
      "text/html": [
       "<div>\n",
       "<style scoped>\n",
       "    .dataframe tbody tr th:only-of-type {\n",
       "        vertical-align: middle;\n",
       "    }\n",
       "\n",
       "    .dataframe tbody tr th {\n",
       "        vertical-align: top;\n",
       "    }\n",
       "\n",
       "    .dataframe thead th {\n",
       "        text-align: right;\n",
       "    }\n",
       "</style>\n",
       "<table border=\"1\" class=\"dataframe\">\n",
       "  <thead>\n",
       "    <tr style=\"text-align: right;\">\n",
       "      <th></th>\n",
       "      <th>idSong</th>\n",
       "      <th>song</th>\n",
       "      <th>rating</th>\n",
       "    </tr>\n",
       "  </thead>\n",
       "  <tbody>\n",
       "    <tr>\n",
       "      <th>11</th>\n",
       "      <td>277.0</td>\n",
       "      <td>Persiana americana</td>\n",
       "      <td>1.530432</td>\n",
       "    </tr>\n",
       "    <tr>\n",
       "      <th>392</th>\n",
       "      <td>927.0</td>\n",
       "      <td>Cosas del amor</td>\n",
       "      <td>1.504709</td>\n",
       "    </tr>\n",
       "    <tr>\n",
       "      <th>8</th>\n",
       "      <td>5610.0</td>\n",
       "      <td>El perdon</td>\n",
       "      <td>1.484741</td>\n",
       "    </tr>\n",
       "    <tr>\n",
       "      <th>264</th>\n",
       "      <td>5088.0</td>\n",
       "      <td>Un beso y una flor</td>\n",
       "      <td>1.467035</td>\n",
       "    </tr>\n",
       "    <tr>\n",
       "      <th>5746</th>\n",
       "      <td>5858.0</td>\n",
       "      <td>El Perdedor</td>\n",
       "      <td>1.440754</td>\n",
       "    </tr>\n",
       "    <tr>\n",
       "      <th>5840</th>\n",
       "      <td>5936.0</td>\n",
       "      <td>Traicionera</td>\n",
       "      <td>1.440191</td>\n",
       "    </tr>\n",
       "    <tr>\n",
       "      <th>5422</th>\n",
       "      <td>5674.0</td>\n",
       "      <td>La Bicicleta</td>\n",
       "      <td>1.435482</td>\n",
       "    </tr>\n",
       "    <tr>\n",
       "      <th>310</th>\n",
       "      <td>3392.0</td>\n",
       "      <td>La vida es un carnaval</td>\n",
       "      <td>1.397043</td>\n",
       "    </tr>\n",
       "    <tr>\n",
       "      <th>5271</th>\n",
       "      <td>5629.0</td>\n",
       "      <td>Sorry</td>\n",
       "      <td>1.364426</td>\n",
       "    </tr>\n",
       "    <tr>\n",
       "      <th>377</th>\n",
       "      <td>1911.0</td>\n",
       "      <td>Querida</td>\n",
       "      <td>1.348679</td>\n",
       "    </tr>\n",
       "  </tbody>\n",
       "</table>\n",
       "</div>"
      ],
      "text/plain": [
       "      idSong                    song    rating\n",
       "11     277.0      Persiana americana  1.530432\n",
       "392    927.0          Cosas del amor  1.504709\n",
       "8     5610.0               El perdon  1.484741\n",
       "264   5088.0      Un beso y una flor  1.467035\n",
       "5746  5858.0             El Perdedor  1.440754\n",
       "5840  5936.0             Traicionera  1.440191\n",
       "5422  5674.0            La Bicicleta  1.435482\n",
       "310   3392.0  La vida es un carnaval  1.397043\n",
       "5271  5629.0                   Sorry  1.364426\n",
       "377   1911.0                 Querida  1.348679"
      ]
     },
     "execution_count": 179,
     "metadata": {},
     "output_type": "execute_result"
    }
   ],
   "source": [
    "getSongsNames(simCandidates).sort_values('rating', ascending=False).head(10)"
   ]
  },
  {
   "cell_type": "markdown",
   "metadata": {},
   "source": [
    "# Wrap Up"
   ]
  },
  {
   "cell_type": "code",
   "execution_count": 48,
   "metadata": {
    "collapsed": true
   },
   "outputs": [],
   "source": [
    "triplets = pd.read_csv('data/filtered_data_triplets.csv')"
   ]
  },
  {
   "cell_type": "code",
   "execution_count": 64,
   "metadata": {},
   "outputs": [
    {
     "data": {
      "text/html": [
       "<div>\n",
       "<style scoped>\n",
       "    .dataframe tbody tr th:only-of-type {\n",
       "        vertical-align: middle;\n",
       "    }\n",
       "\n",
       "    .dataframe tbody tr th {\n",
       "        vertical-align: top;\n",
       "    }\n",
       "\n",
       "    .dataframe thead th {\n",
       "        text-align: right;\n",
       "    }\n",
       "</style>\n",
       "<table border=\"1\" class=\"dataframe\">\n",
       "  <thead>\n",
       "    <tr style=\"text-align: right;\">\n",
       "      <th></th>\n",
       "      <th>idUser</th>\n",
       "      <th>idSong</th>\n",
       "      <th>count</th>\n",
       "    </tr>\n",
       "  </thead>\n",
       "  <tbody>\n",
       "  </tbody>\n",
       "</table>\n",
       "</div>"
      ],
      "text/plain": [
       "Empty DataFrame\n",
       "Columns: [idUser, idSong, count]\n",
       "Index: []"
      ]
     },
     "execution_count": 64,
     "metadata": {},
     "output_type": "execute_result"
    }
   ],
   "source": [
    "triplets[triplets['idUser']==10426]"
   ]
  },
  {
   "cell_type": "code",
   "execution_count": 70,
   "metadata": {
    "collapsed": true
   },
   "outputs": [],
   "source": [
    "#userId = 798073\n",
    "#userId = 996885\n",
    "#userId = 310297\n",
    "# userId = 10426\n"
   ]
  },
  {
   "cell_type": "code",
   "execution_count": null,
   "metadata": {
    "collapsed": true
   },
   "outputs": [],
   "source": [
    "#userId = 485409.0"
   ]
  },
  {
   "cell_type": "code",
   "execution_count": 93,
   "metadata": {
    "collapsed": true
   },
   "outputs": [],
   "source": [
    "# userId = 729763, 487715, 880786, 290234, 534687, 657491, 498616, 754886, 1004084, 474462\n",
    "# userId = 833773 (ingles)\n",
    "# 878388.0 868573.0"
   ]
  },
  {
   "cell_type": "code",
   "execution_count": 113,
   "metadata": {},
   "outputs": [
    {
     "data": {
      "text/html": [
       "<div>\n",
       "<style scoped>\n",
       "    .dataframe tbody tr th:only-of-type {\n",
       "        vertical-align: middle;\n",
       "    }\n",
       "\n",
       "    .dataframe tbody tr th {\n",
       "        vertical-align: top;\n",
       "    }\n",
       "\n",
       "    .dataframe thead th {\n",
       "        text-align: right;\n",
       "    }\n",
       "</style>\n",
       "<table border=\"1\" class=\"dataframe\">\n",
       "  <thead>\n",
       "    <tr style=\"text-align: right;\">\n",
       "      <th></th>\n",
       "      <th>idUser</th>\n",
       "      <th>idSong</th>\n",
       "      <th>count</th>\n",
       "    </tr>\n",
       "  </thead>\n",
       "  <tbody>\n",
       "    <tr>\n",
       "      <th>0</th>\n",
       "      <td>357518.0</td>\n",
       "      <td>5618.0</td>\n",
       "      <td>211</td>\n",
       "    </tr>\n",
       "    <tr>\n",
       "      <th>1</th>\n",
       "      <td>795638.0</td>\n",
       "      <td>2855.0</td>\n",
       "      <td>72</td>\n",
       "    </tr>\n",
       "    <tr>\n",
       "      <th>2</th>\n",
       "      <td>131705.0</td>\n",
       "      <td>418.0</td>\n",
       "      <td>62</td>\n",
       "    </tr>\n",
       "    <tr>\n",
       "      <th>3</th>\n",
       "      <td>517484.0</td>\n",
       "      <td>644.0</td>\n",
       "      <td>59</td>\n",
       "    </tr>\n",
       "    <tr>\n",
       "      <th>4</th>\n",
       "      <td>843548.0</td>\n",
       "      <td>961.0</td>\n",
       "      <td>54</td>\n",
       "    </tr>\n",
       "  </tbody>\n",
       "</table>\n",
       "</div>"
      ],
      "text/plain": [
       "     idUser  idSong  count\n",
       "0  357518.0  5618.0    211\n",
       "1  795638.0  2855.0     72\n",
       "2  131705.0   418.0     62\n",
       "3  517484.0   644.0     59\n",
       "4  843548.0   961.0     54"
      ]
     },
     "execution_count": 113,
     "metadata": {},
     "output_type": "execute_result"
    }
   ],
   "source": [
    "getSongsNames(simCandidates).sort_values('rating', ascending=False).head(10)"
   ]
  },
  {
   "cell_type": "markdown",
   "metadata": {},
   "source": [
    "# Wrap Up"
   ]
  },
  {
   "cell_type": "code",
   "execution_count": 194,
   "metadata": {
    "collapsed": true
   },
   "outputs": [],
   "source": [
    "#userId = 798073\n",
    "#userId = 996885\n",
    "#userId = 310297triplets.head()"
   ]
  },
  {
   "cell_type": "code",
   "execution_count": 191,
   "metadata": {},
   "outputs": [
    {
     "name": "stdout",
     "output_type": "stream",
     "text": [
      "310297.0\n"
     ]
    },
    {
     "data": {
      "text/html": [
       "<div>\n",
       "<style scoped>\n",
       "    .dataframe tbody tr th:only-of-type {\n",
       "        vertical-align: middle;\n",
       "    }\n",
       "\n",
       "    .dataframe tbody tr th {\n",
       "        vertical-align: top;\n",
       "    }\n",
       "\n",
       "    .dataframe thead th {\n",
       "        text-align: right;\n",
       "    }\n",
       "</style>\n",
       "<table border=\"1\" class=\"dataframe\">\n",
       "  <thead>\n",
       "    <tr style=\"text-align: right;\">\n",
       "      <th></th>\n",
       "      <th>idSong</th>\n",
       "      <th>song</th>\n",
       "      <th>rating</th>\n",
       "    </tr>\n",
       "  </thead>\n",
       "  <tbody>\n",
       "    <tr>\n",
       "      <th>1</th>\n",
       "      <td>5606.0</td>\n",
       "      <td>El Taxi</td>\n",
       "      <td>2.0</td>\n",
       "    </tr>\n",
       "    <tr>\n",
       "      <th>8</th>\n",
       "      <td>5610.0</td>\n",
       "      <td>El perdon</td>\n",
       "      <td>1.0</td>\n",
       "    </tr>\n",
       "    <tr>\n",
       "      <th>49</th>\n",
       "      <td>1286.0</td>\n",
       "      <td>La nueva y la ex</td>\n",
       "      <td>2.0</td>\n",
       "    </tr>\n",
       "    <tr>\n",
       "      <th>65</th>\n",
       "      <td>5545.0</td>\n",
       "      <td>Thinking out loud</td>\n",
       "      <td>1.0</td>\n",
       "    </tr>\n",
       "    <tr>\n",
       "      <th>98</th>\n",
       "      <td>1216.0</td>\n",
       "      <td>Mi nina bonita</td>\n",
       "      <td>1.0</td>\n",
       "    </tr>\n",
       "    <tr>\n",
       "      <th>182</th>\n",
       "      <td>5613.0</td>\n",
       "      <td>Nota de amor</td>\n",
       "      <td>2.0</td>\n",
       "    </tr>\n",
       "    <tr>\n",
       "      <th>341</th>\n",
       "      <td>3433.0</td>\n",
       "      <td>Mi chica ideal</td>\n",
       "      <td>1.0</td>\n",
       "    </tr>\n",
       "    <tr>\n",
       "      <th>358</th>\n",
       "      <td>38.0</td>\n",
       "      <td>Baby</td>\n",
       "      <td>1.0</td>\n",
       "    </tr>\n",
       "    <tr>\n",
       "      <th>4277</th>\n",
       "      <td>5621.0</td>\n",
       "      <td>Ginza</td>\n",
       "      <td>1.0</td>\n",
       "    </tr>\n",
       "    <tr>\n",
       "      <th>4281</th>\n",
       "      <td>5622.0</td>\n",
       "      <td>Yo te lo dije</td>\n",
       "      <td>1.0</td>\n",
       "    </tr>\n",
       "  </tbody>\n",
       "</table>\n",
       "</div>"
      ],
      "text/plain": [
       "      idSong               song  rating\n",
       "1     5606.0            El Taxi     2.0\n",
       "8     5610.0          El perdon     1.0\n",
       "49    1286.0   La nueva y la ex     2.0\n",
       "65    5545.0  Thinking out loud     1.0\n",
       "98    1216.0     Mi nina bonita     1.0\n",
       "182   5613.0       Nota de amor     2.0\n",
       "341   3433.0     Mi chica ideal     1.0\n",
       "358     38.0               Baby     1.0\n",
       "4277  5621.0              Ginza     1.0\n",
       "4281  5622.0      Yo te lo dije     1.0"
      ]
     },
     "execution_count": 191,
     "metadata": {},
     "output_type": "execute_result"
    }
   ],
   "source": [
    "userId = np.random.choice(triplets['idUser'].unique(), 1)[0]\n",
    "print(userId)\n",
    "getUserSongs(userId)"
   ]
  },
  {
   "cell_type": "code",
   "execution_count": 197,
   "metadata": {
    "collapsed": true
   },
   "outputs": [],
   "source": [
    "simCandidates = getSimilarCandidates(userId)"
   ]
  },
  {
   "cell_type": "code",
   "execution_count": 198,
   "metadata": {},
   "outputs": [
    {
     "data": {
      "text/html": [
       "<div>\n",
       "<style scoped>\n",
       "    .dataframe tbody tr th:only-of-type {\n",
       "        vertical-align: middle;\n",
       "    }\n",
       "\n",
       "    .dataframe tbody tr th {\n",
       "        vertical-align: top;\n",
       "    }\n",
       "\n",
       "    .dataframe thead th {\n",
       "        text-align: right;\n",
       "    }\n",
       "</style>\n",
       "<table border=\"1\" class=\"dataframe\">\n",
       "  <thead>\n",
       "    <tr style=\"text-align: right;\">\n",
       "      <th></th>\n",
       "      <th>idSong</th>\n",
       "      <th>song</th>\n",
       "      <th>rating</th>\n",
       "    </tr>\n",
       "  </thead>\n",
       "  <tbody>\n",
       "    <tr>\n",
       "      <th>35</th>\n",
       "      <td>5608.0</td>\n",
       "      <td>Ay vamos</td>\n",
       "      <td>2.146305</td>\n",
       "    </tr>\n",
       "    <tr>\n",
       "      <th>117</th>\n",
       "      <td>3227.0</td>\n",
       "      <td>Los infieles</td>\n",
       "      <td>1.739078</td>\n",
       "    </tr>\n",
       "    <tr>\n",
       "      <th>5298</th>\n",
       "      <td>5636.0</td>\n",
       "      <td>Andas en mi cabeza</td>\n",
       "      <td>1.695797</td>\n",
       "    </tr>\n",
       "    <tr>\n",
       "      <th>5271</th>\n",
       "      <td>5629.0</td>\n",
       "      <td>Sorry</td>\n",
       "      <td>1.617916</td>\n",
       "    </tr>\n",
       "    <tr>\n",
       "      <th>21</th>\n",
       "      <td>3223.0</td>\n",
       "      <td>Dile al amor</td>\n",
       "      <td>1.569117</td>\n",
       "    </tr>\n",
       "    <tr>\n",
       "      <th>59</th>\n",
       "      <td>5609.0</td>\n",
       "      <td>Sugar</td>\n",
       "      <td>1.567929</td>\n",
       "    </tr>\n",
       "    <tr>\n",
       "      <th>4278</th>\n",
       "      <td>5623.0</td>\n",
       "      <td>Fanatica sensual</td>\n",
       "      <td>1.560647</td>\n",
       "    </tr>\n",
       "    <tr>\n",
       "      <th>4276</th>\n",
       "      <td>5618.0</td>\n",
       "      <td>La gozadera</td>\n",
       "      <td>1.552836</td>\n",
       "    </tr>\n",
       "    <tr>\n",
       "      <th>199</th>\n",
       "      <td>1285.0</td>\n",
       "      <td>Gasolina</td>\n",
       "      <td>1.508277</td>\n",
       "    </tr>\n",
       "    <tr>\n",
       "      <th>91</th>\n",
       "      <td>5605.0</td>\n",
       "      <td>Noche de sexo</td>\n",
       "      <td>1.460278</td>\n",
       "    </tr>\n",
       "  </tbody>\n",
       "</table>\n",
       "</div>"
      ],
      "text/plain": [
       "      idSong                song    rating\n",
       "35    5608.0            Ay vamos  2.146305\n",
       "117   3227.0        Los infieles  1.739078\n",
       "5298  5636.0  Andas en mi cabeza  1.695797\n",
       "5271  5629.0               Sorry  1.617916\n",
       "21    3223.0        Dile al amor  1.569117\n",
       "59    5609.0               Sugar  1.567929\n",
       "4278  5623.0    Fanatica sensual  1.560647\n",
       "4276  5618.0         La gozadera  1.552836\n",
       "199   1285.0            Gasolina  1.508277\n",
       "91    5605.0       Noche de sexo  1.460278"
      ]
     },
     "execution_count": 198,
     "metadata": {},
     "output_type": "execute_result"
    }
   ],
   "source": [
    "getSongsNames(simCandidates).sort_values('rating', ascending=False).head(10)"
   ]
  },
  {
   "cell_type": "markdown",
   "metadata": {},
   "source": [
    "## Custom user"
   ]
  },
  {
   "cell_type": "code",
   "execution_count": 266,
   "metadata": {},
   "outputs": [
    {
     "data": {
      "text/html": [
       "<div>\n",
       "<style scoped>\n",
       "    .dataframe tbody tr th:only-of-type {\n",
       "        vertical-align: middle;\n",
       "    }\n",
       "\n",
       "    .dataframe tbody tr th {\n",
       "        vertical-align: top;\n",
       "    }\n",
       "\n",
       "    .dataframe thead th {\n",
       "        text-align: right;\n",
       "    }\n",
       "</style>\n",
       "<table border=\"1\" class=\"dataframe\">\n",
       "  <thead>\n",
       "    <tr style=\"text-align: right;\">\n",
       "      <th></th>\n",
       "      <th>idSong</th>\n",
       "      <th>song</th>\n",
       "    </tr>\n",
       "  </thead>\n",
       "  <tbody>\n",
       "    <tr>\n",
       "      <th>1837</th>\n",
       "      <td>4185.0</td>\n",
       "      <td>Si me comprendieras</td>\n",
       "    </tr>\n",
       "    <tr>\n",
       "      <th>1430</th>\n",
       "      <td>3255.0</td>\n",
       "      <td>La suegra</td>\n",
       "    </tr>\n",
       "    <tr>\n",
       "      <th>1752</th>\n",
       "      <td>3944.0</td>\n",
       "      <td>Crimen</td>\n",
       "    </tr>\n",
       "    <tr>\n",
       "      <th>31</th>\n",
       "      <td>3752.0</td>\n",
       "      <td>La Cosa Mas Bella</td>\n",
       "    </tr>\n",
       "    <tr>\n",
       "      <th>2685</th>\n",
       "      <td>3205.0</td>\n",
       "      <td>Mia</td>\n",
       "    </tr>\n",
       "    <tr>\n",
       "      <th>7279</th>\n",
       "      <td>11505.0</td>\n",
       "      <td>99 Red Balloons</td>\n",
       "    </tr>\n",
       "    <tr>\n",
       "      <th>6398</th>\n",
       "      <td>14330.0</td>\n",
       "      <td>With A Little Help From My Friends</td>\n",
       "    </tr>\n",
       "    <tr>\n",
       "      <th>3960</th>\n",
       "      <td>3806.0</td>\n",
       "      <td>No hace falta decirlo</td>\n",
       "    </tr>\n",
       "    <tr>\n",
       "      <th>6487</th>\n",
       "      <td>13684.0</td>\n",
       "      <td>Wicked Game</td>\n",
       "    </tr>\n",
       "    <tr>\n",
       "      <th>3869</th>\n",
       "      <td>1178.0</td>\n",
       "      <td>Refugio de amor</td>\n",
       "    </tr>\n",
       "  </tbody>\n",
       "</table>\n",
       "</div>"
      ],
      "text/plain": [
       "       idSong                                song\n",
       "1837   4185.0                 Si me comprendieras\n",
       "1430   3255.0                           La suegra\n",
       "1752   3944.0                              Crimen\n",
       "31     3752.0                   La Cosa Mas Bella\n",
       "2685   3205.0                                 Mia\n",
       "7279  11505.0                     99 Red Balloons\n",
       "6398  14330.0  With A Little Help From My Friends\n",
       "3960   3806.0               No hace falta decirlo\n",
       "6487  13684.0                         Wicked Game\n",
       "3869   1178.0                     Refugio de amor"
      ]
     },
     "execution_count": 266,
     "metadata": {},
     "output_type": "execute_result"
    }
   ],
   "source": [
    "songs.sample(10)"
   ]
  },
  {
   "cell_type": "code",
   "execution_count": 308,
   "metadata": {},
   "outputs": [
    {
     "data": {
      "text/html": [
       "<div>\n",
       "<style scoped>\n",
       "    .dataframe tbody tr th:only-of-type {\n",
       "        vertical-align: middle;\n",
       "    }\n",
       "\n",
       "    .dataframe tbody tr th {\n",
       "        vertical-align: top;\n",
       "    }\n",
       "\n",
       "    .dataframe thead th {\n",
       "        text-align: right;\n",
       "    }\n",
       "</style>\n",
       "<table border=\"1\" class=\"dataframe\">\n",
       "  <thead>\n",
       "    <tr style=\"text-align: right;\">\n",
       "      <th></th>\n",
       "      <th>idSong</th>\n",
       "      <th>song</th>\n",
       "    </tr>\n",
       "  </thead>\n",
       "  <tbody>\n",
       "    <tr>\n",
       "      <th>568</th>\n",
       "      <td>45.0</td>\n",
       "      <td>Best song ever</td>\n",
       "    </tr>\n",
       "    <tr>\n",
       "      <th>603</th>\n",
       "      <td>5551.0</td>\n",
       "      <td>Cola song</td>\n",
       "    </tr>\n",
       "    <tr>\n",
       "      <th>897</th>\n",
       "      <td>330.0</td>\n",
       "      <td>The lazy song</td>\n",
       "    </tr>\n",
       "    <tr>\n",
       "      <th>1308</th>\n",
       "      <td>1422.0</td>\n",
       "      <td>your song</td>\n",
       "    </tr>\n",
       "    <tr>\n",
       "      <th>2629</th>\n",
       "      <td>2581.0</td>\n",
       "      <td>Best song ever</td>\n",
       "    </tr>\n",
       "    <tr>\n",
       "      <th>2901</th>\n",
       "      <td>559.0</td>\n",
       "      <td>The lazy song</td>\n",
       "    </tr>\n",
       "    <tr>\n",
       "      <th>3492</th>\n",
       "      <td>3969.0</td>\n",
       "      <td>Songoro cosongo</td>\n",
       "    </tr>\n",
       "    <tr>\n",
       "      <th>3712</th>\n",
       "      <td>3735.0</td>\n",
       "      <td>do you know (the ping pong song)</td>\n",
       "    </tr>\n",
       "    <tr>\n",
       "      <th>4425</th>\n",
       "      <td>991.0</td>\n",
       "      <td>Our song (bachata)</td>\n",
       "    </tr>\n",
       "    <tr>\n",
       "      <th>4510</th>\n",
       "      <td>5419.0</td>\n",
       "      <td>Killing me softly with his song</td>\n",
       "    </tr>\n",
       "    <tr>\n",
       "      <th>4867</th>\n",
       "      <td>2487.0</td>\n",
       "      <td>I enjoy being a girl (flower drum song)</td>\n",
       "    </tr>\n",
       "    <tr>\n",
       "      <th>6823</th>\n",
       "      <td>10451.0</td>\n",
       "      <td>Earthsong</td>\n",
       "    </tr>\n",
       "  </tbody>\n",
       "</table>\n",
       "</div>"
      ],
      "text/plain": [
       "       idSong                                     song\n",
       "568      45.0                           Best song ever\n",
       "603    5551.0                                Cola song\n",
       "897     330.0                            The lazy song\n",
       "1308   1422.0                                your song\n",
       "2629   2581.0                           Best song ever\n",
       "2901    559.0                            The lazy song\n",
       "3492   3969.0                          Songoro cosongo\n",
       "3712   3735.0         do you know (the ping pong song)\n",
       "4425    991.0                       Our song (bachata)\n",
       "4510   5419.0          Killing me softly with his song\n",
       "4867   2487.0  I enjoy being a girl (flower drum song)\n",
       "6823  10451.0                                Earthsong"
      ]
     },
     "execution_count": 308,
     "metadata": {},
     "output_type": "execute_result"
    }
   ],
   "source": [
    "songs[songs['song'].apply(lambda x: \"song\" in x)]"
   ]
  },
  {
   "cell_type": "code",
   "execution_count": 115,
   "metadata": {
    "collapsed": true
   },
   "outputs": [],
   "source": [
    "myUserRatings = [228,2328,5614,1262,767,849,5609,345,710,2182,1044,2865,4212,759,430,767,5609,3300,5545,341,202,710,228,787,1044,5614,5614,5039,1262,3300,879,1537,4992,849,5545,345,341,202,710,2182]"
   ]
  },
  {
   "cell_type": "code",
   "execution_count": 118,
   "metadata": {
    "collapsed": true
   },
   "outputs": [],
   "source": [
    "myUserRatings = pd.Series(myUserRatings).groupby(myUserRatings).count()"
   ]
  },
  {
   "cell_type": "code",
   "execution_count": 121,
   "metadata": {
    "collapsed": true
   },
   "outputs": [],
   "source": [
    "myUserRatings = myUserRatings.to_dict()"
   ]
  },
  {
   "cell_type": "code",
   "execution_count": 27,
   "metadata": {
    "collapsed": true
   },
   "outputs": [],
   "source": [
    "myUserRatings = pd.Series({\n",
    "    11807: 1,\n",
    "    904: 1,\n",
    "    5660: 1,\n",
    "    496: 2,\n",
    "    3021: 2,\n",
    "    789: 2,\n",
    "    5903: 1,\n",
    "    5545: 1,\n",
    "    561: 3,\n",
    "    13191: 2,\n",
    "    5631: 3,\n",
    "})"
   ]
  },
  {
   "cell_type": "code",
   "execution_count": 318,
   "metadata": {},
   "outputs": [
    {
     "data": {
      "text/html": [
       "<div>\n",
       "<style scoped>\n",
       "    .dataframe tbody tr th:only-of-type {\n",
       "        vertical-align: middle;\n",
       "    }\n",
       "\n",
       "    .dataframe tbody tr th {\n",
       "        vertical-align: top;\n",
       "    }\n",
       "\n",
       "    .dataframe thead th {\n",
       "        text-align: right;\n",
       "    }\n",
       "</style>\n",
       "<table border=\"1\" class=\"dataframe\">\n",
       "  <thead>\n",
       "    <tr style=\"text-align: right;\">\n",
       "      <th></th>\n",
       "      <th>idSong</th>\n",
       "      <th>song</th>\n",
       "      <th>rating</th>\n",
       "    </tr>\n",
       "  </thead>\n",
       "  <tbody>\n",
       "    <tr>\n",
       "      <th>59</th>\n",
       "      <td>5609.0</td>\n",
       "      <td>Sugar</td>\n",
       "      <td>2</td>\n",
       "    </tr>\n",
       "    <tr>\n",
       "      <th>65</th>\n",
       "      <td>5545.0</td>\n",
       "      <td>Thinking out loud</td>\n",
       "      <td>2</td>\n",
       "    </tr>\n",
       "    <tr>\n",
       "      <th>169</th>\n",
       "      <td>5614.0</td>\n",
       "      <td>Human</td>\n",
       "      <td>3</td>\n",
       "    </tr>\n",
       "    <tr>\n",
       "      <th>224</th>\n",
       "      <td>228.0</td>\n",
       "      <td>Mil horas</td>\n",
       "      <td>2</td>\n",
       "    </tr>\n",
       "    <tr>\n",
       "      <th>231</th>\n",
       "      <td>1537.0</td>\n",
       "      <td>Llueve sobre mojado</td>\n",
       "      <td>1</td>\n",
       "    </tr>\n",
       "    <tr>\n",
       "      <th>343</th>\n",
       "      <td>787.0</td>\n",
       "      <td>Rolling in the deep</td>\n",
       "      <td>1</td>\n",
       "    </tr>\n",
       "    <tr>\n",
       "      <th>416</th>\n",
       "      <td>879.0</td>\n",
       "      <td>Sin miedo a nada</td>\n",
       "      <td>1</td>\n",
       "    </tr>\n",
       "    <tr>\n",
       "      <th>470</th>\n",
       "      <td>759.0</td>\n",
       "      <td>Antologia</td>\n",
       "      <td>1</td>\n",
       "    </tr>\n",
       "    <tr>\n",
       "      <th>478</th>\n",
       "      <td>202.0</td>\n",
       "      <td>Mal paso</td>\n",
       "      <td>2</td>\n",
       "    </tr>\n",
       "    <tr>\n",
       "      <th>590</th>\n",
       "      <td>767.0</td>\n",
       "      <td>Dancing queen</td>\n",
       "      <td>2</td>\n",
       "    </tr>\n",
       "    <tr>\n",
       "      <th>800</th>\n",
       "      <td>2328.0</td>\n",
       "      <td>A veces</td>\n",
       "      <td>1</td>\n",
       "    </tr>\n",
       "    <tr>\n",
       "      <th>986</th>\n",
       "      <td>1262.0</td>\n",
       "      <td>Lloran las rosas</td>\n",
       "      <td>2</td>\n",
       "    </tr>\n",
       "    <tr>\n",
       "      <th>1036</th>\n",
       "      <td>1044.0</td>\n",
       "      <td>Just the way you are</td>\n",
       "      <td>2</td>\n",
       "    </tr>\n",
       "    <tr>\n",
       "      <th>1076</th>\n",
       "      <td>2182.0</td>\n",
       "      <td>Es la lluvia que cae</td>\n",
       "      <td>2</td>\n",
       "    </tr>\n",
       "    <tr>\n",
       "      <th>1240</th>\n",
       "      <td>430.0</td>\n",
       "      <td>Hotel california</td>\n",
       "      <td>1</td>\n",
       "    </tr>\n",
       "    <tr>\n",
       "      <th>1267</th>\n",
       "      <td>3300.0</td>\n",
       "      <td>I'll be there for you</td>\n",
       "      <td>2</td>\n",
       "    </tr>\n",
       "    <tr>\n",
       "      <th>1373</th>\n",
       "      <td>2865.0</td>\n",
       "      <td>Amada amante</td>\n",
       "      <td>1</td>\n",
       "    </tr>\n",
       "    <tr>\n",
       "      <th>1871</th>\n",
       "      <td>710.0</td>\n",
       "      <td>Fuego de noche nieve de dia</td>\n",
       "      <td>3</td>\n",
       "    </tr>\n",
       "    <tr>\n",
       "      <th>1890</th>\n",
       "      <td>849.0</td>\n",
       "      <td>Que voy a hacer con mi amor</td>\n",
       "      <td>2</td>\n",
       "    </tr>\n",
       "    <tr>\n",
       "      <th>2163</th>\n",
       "      <td>345.0</td>\n",
       "      <td>Tus viejas cartas</td>\n",
       "      <td>2</td>\n",
       "    </tr>\n",
       "    <tr>\n",
       "      <th>2305</th>\n",
       "      <td>4992.0</td>\n",
       "      <td>Amor de hombre</td>\n",
       "      <td>1</td>\n",
       "    </tr>\n",
       "    <tr>\n",
       "      <th>3159</th>\n",
       "      <td>4212.0</td>\n",
       "      <td>Te quiero</td>\n",
       "      <td>1</td>\n",
       "    </tr>\n",
       "    <tr>\n",
       "      <th>3527</th>\n",
       "      <td>341.0</td>\n",
       "      <td>Trotamundos</td>\n",
       "      <td>2</td>\n",
       "    </tr>\n",
       "    <tr>\n",
       "      <th>3551</th>\n",
       "      <td>5039.0</td>\n",
       "      <td>Jingle bells</td>\n",
       "      <td>1</td>\n",
       "    </tr>\n",
       "  </tbody>\n",
       "</table>\n",
       "</div>"
      ],
      "text/plain": [
       "      idSong                         song  rating\n",
       "59    5609.0                        Sugar       2\n",
       "65    5545.0            Thinking out loud       2\n",
       "169   5614.0                        Human       3\n",
       "224    228.0                    Mil horas       2\n",
       "231   1537.0          Llueve sobre mojado       1\n",
       "343    787.0          Rolling in the deep       1\n",
       "416    879.0             Sin miedo a nada       1\n",
       "470    759.0                    Antologia       1\n",
       "478    202.0                     Mal paso       2\n",
       "590    767.0                Dancing queen       2\n",
       "800   2328.0                      A veces       1\n",
       "986   1262.0             Lloran las rosas       2\n",
       "1036  1044.0         Just the way you are       2\n",
       "1076  2182.0         Es la lluvia que cae       2\n",
       "1240   430.0             Hotel california       1\n",
       "1267  3300.0        I'll be there for you       2\n",
       "1373  2865.0                 Amada amante       1\n",
       "1871   710.0  Fuego de noche nieve de dia       3\n",
       "1890   849.0  Que voy a hacer con mi amor       2\n",
       "2163   345.0            Tus viejas cartas       2\n",
       "2305  4992.0               Amor de hombre       1\n",
       "3159  4212.0                    Te quiero       1\n",
       "3527   341.0                  Trotamundos       2\n",
       "3551  5039.0                 Jingle bells       1"
      ]
     },
     "execution_count": 122,
     "metadata": {},
     "output_type": "execute_result"
    }
   ],
   "source": [
    "getSongsNames(myUserRatings)"
   ]
  },
  {
   "cell_type": "code",
   "execution_count": 125,
   "metadata": {
    "collapsed": true
   },
   "outputs": [],
   "source": [
    "myUserRatings = pd.Series(myUserRatings)"
   ]
  },
  {
   "cell_type": "code",
   "execution_count": 126,
   "metadata": {
    "collapsed": true
   },
   "outputs": [],
   "source": [
    "simCandidates = getSimilarCandidates(0, userSongsRatings=myUserRatings)"
   ]
  },
  {
   "cell_type": "code",
   "execution_count": 320,
   "metadata": {},
   "outputs": [
    {
     "data": {
      "text/html": [
       "<div>\n",
       "<style scoped>\n",
       "    .dataframe tbody tr th:only-of-type {\n",
       "        vertical-align: middle;\n",
       "    }\n",
       "\n",
       "    .dataframe tbody tr th {\n",
       "        vertical-align: top;\n",
       "    }\n",
       "\n",
       "    .dataframe thead th {\n",
       "        text-align: right;\n",
       "    }\n",
       "</style>\n",
       "<table border=\"1\" class=\"dataframe\">\n",
       "  <thead>\n",
       "    <tr style=\"text-align: right;\">\n",
       "      <th></th>\n",
       "      <th>idSong</th>\n",
       "      <th>song</th>\n",
       "      <th>rating</th>\n",
       "    </tr>\n",
       "  </thead>\n",
       "  <tbody>\n",
       "    <tr>\n",
       "      <th>5422</th>\n",
       "      <td>5674.0</td>\n",
       "      <td>La Bicicleta</td>\n",
       "      <td>2.019443</td>\n",
       "    </tr>\n",
       "    <tr>\n",
       "      <th>264</th>\n",
       "      <td>5088.0</td>\n",
       "      <td>Un beso y una flor</td>\n",
       "      <td>1.753315</td>\n",
       "    </tr>\n",
       "    <tr>\n",
       "      <th>5744</th>\n",
       "      <td>5859.0</td>\n",
       "      <td>La Bicicleta</td>\n",
       "      <td>1.737595</td>\n",
       "    </tr>\n",
       "    <tr>\n",
       "      <th>5937</th>\n",
       "      <td>6047.0</td>\n",
       "      <td>Despacito ❤</td>\n",
       "      <td>1.507932</td>\n",
       "    </tr>\n",
       "    <tr>\n",
       "      <th>5906</th>\n",
       "      <td>6017.0</td>\n",
       "      <td>Despacito</td>\n",
       "      <td>1.443771</td>\n",
       "    </tr>\n",
       "    <tr>\n",
       "      <th>829</th>\n",
       "      <td>4249.0</td>\n",
       "      <td>Abrazame muy fuerte</td>\n",
       "      <td>1.347837</td>\n",
       "    </tr>\n",
       "    <tr>\n",
       "      <th>302</th>\n",
       "      <td>657.0</td>\n",
       "      <td>A esa</td>\n",
       "      <td>1.263000</td>\n",
       "    </tr>\n",
       "    <tr>\n",
       "      <th>40</th>\n",
       "      <td>3237.0</td>\n",
       "      <td>Tabaco y chanel</td>\n",
       "      <td>1.181936</td>\n",
       "    </tr>\n",
       "    <tr>\n",
       "      <th>48</th>\n",
       "      <td>5607.0</td>\n",
       "      <td>Uptown funk</td>\n",
       "      <td>1.163213</td>\n",
       "    </tr>\n",
       "    <tr>\n",
       "      <th>6017</th>\n",
       "      <td>6085.0</td>\n",
       "      <td>Felices los 4</td>\n",
       "      <td>1.142767</td>\n",
       "    </tr>\n",
       "  </tbody>\n",
       "</table>\n",
       "</div>"
      ],
      "text/plain": [
       "      idSong                 song    rating\n",
       "5422  5674.0         La Bicicleta  2.019443\n",
       "264   5088.0   Un beso y una flor  1.753315\n",
       "5744  5859.0         La Bicicleta  1.737595\n",
       "5937  6047.0          Despacito ❤  1.507932\n",
       "5906  6017.0            Despacito  1.443771\n",
       "829   4249.0  Abrazame muy fuerte  1.347837\n",
       "302    657.0                A esa  1.263000\n",
       "40    3237.0      Tabaco y chanel  1.181936\n",
       "48    5607.0          Uptown funk  1.163213\n",
       "6017  6085.0        Felices los 4  1.142767"
      ]
     },
     "execution_count": 127,
     "metadata": {},
     "output_type": "execute_result"
    }
   ],
   "source": [
    "getSongsNames(simCandidates).sort_values('rating', ascending=False).head(10)"
   ]
  },
  {
   "cell_type": "code",
   "execution_count": null,
   "metadata": {
    "collapsed": true
   },
   "outputs": [],
   "source": []
  }
 ],
 "metadata": {
  "kernelspec": {
   "display_name": "Python 3",
   "language": "python",
   "name": "python3"
  },
  "language_info": {
   "codemirror_mode": {
    "name": "ipython",
    "version": 3
   },
   "file_extension": ".py",
   "mimetype": "text/x-python",
   "name": "python",
   "nbconvert_exporter": "python",
   "pygments_lexer": "ipython3",
   "version": "3.6.3"
  }
 },
 "nbformat": 4,
 "nbformat_minor": 2
}
