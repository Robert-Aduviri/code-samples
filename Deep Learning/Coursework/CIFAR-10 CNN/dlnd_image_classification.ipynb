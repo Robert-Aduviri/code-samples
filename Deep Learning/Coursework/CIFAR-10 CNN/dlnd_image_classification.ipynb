{
 "cells": [
  {
   "cell_type": "markdown",
   "metadata": {
    "collapsed": true,
    "deletable": true,
    "editable": true
   },
   "source": [
    "# Image Classification\n",
    "In this project, you'll classify images from the [CIFAR-10 dataset](https://www.cs.toronto.edu/~kriz/cifar.html).  The dataset consists of airplanes, dogs, cats, and other objects. You'll preprocess the images, then train a convolutional neural network on all the samples. The images need to be normalized and the labels need to be one-hot encoded.  You'll get to apply what you learned and build a convolutional, max pooling, dropout, and fully connected layers.  At the end, you'll get to see your neural network's predictions on the sample images.\n",
    "## Get the Data\n",
    "Run the following cell to download the [CIFAR-10 dataset for python](https://www.cs.toronto.edu/~kriz/cifar-10-python.tar.gz)."
   ]
  },
  {
   "cell_type": "code",
   "execution_count": 1,
   "metadata": {
    "collapsed": false,
    "deletable": true,
    "editable": true
   },
   "outputs": [
    {
     "name": "stderr",
     "output_type": "stream",
     "text": [
      "CIFAR-10 Dataset: 171MB [01:34, 1.80MB/s]                              \n"
     ]
    },
    {
     "name": "stdout",
     "output_type": "stream",
     "text": [
      "All files found!\n"
     ]
    }
   ],
   "source": [
    "\"\"\"\n",
    "DON'T MODIFY ANYTHING IN THIS CELL THAT IS BELOW THIS LINE\n",
    "\"\"\"\n",
    "from urllib.request import urlretrieve\n",
    "from os.path import isfile, isdir\n",
    "from tqdm import tqdm\n",
    "import problem_unittests as tests\n",
    "import tarfile\n",
    "\n",
    "cifar10_dataset_folder_path = 'cifar-10-batches-py'\n",
    "\n",
    "class DLProgress(tqdm):\n",
    "    last_block = 0\n",
    "\n",
    "    def hook(self, block_num=1, block_size=1, total_size=None):\n",
    "        self.total = total_size\n",
    "        self.update((block_num - self.last_block) * block_size)\n",
    "        self.last_block = block_num\n",
    "\n",
    "if not isfile('cifar-10-python.tar.gz'):\n",
    "    with DLProgress(unit='B', unit_scale=True, miniters=1, desc='CIFAR-10 Dataset') as pbar:\n",
    "        urlretrieve(\n",
    "            'https://www.cs.toronto.edu/~kriz/cifar-10-python.tar.gz',\n",
    "            'cifar-10-python.tar.gz',\n",
    "            pbar.hook)\n",
    "\n",
    "if not isdir(cifar10_dataset_folder_path):\n",
    "    with tarfile.open('cifar-10-python.tar.gz') as tar:\n",
    "        tar.extractall()\n",
    "        tar.close()\n",
    "\n",
    "\n",
    "tests.test_folder_path(cifar10_dataset_folder_path)"
   ]
  },
  {
   "cell_type": "markdown",
   "metadata": {
    "deletable": true,
    "editable": true
   },
   "source": [
    "## Explore the Data\n",
    "The dataset is broken into batches to prevent your machine from running out of memory.  The CIFAR-10 dataset consists of 5 batches, named `data_batch_1`, `data_batch_2`, etc.. Each batch contains the labels and images that are one of the following:\n",
    "* airplane\n",
    "* automobile\n",
    "* bird\n",
    "* cat\n",
    "* deer\n",
    "* dog\n",
    "* frog\n",
    "* horse\n",
    "* ship\n",
    "* truck\n",
    "\n",
    "Understanding a dataset is part of making predictions on the data.  Play around with the code cell below by changing the `batch_id` and `sample_id`. The `batch_id` is the id for a batch (1-5). The `sample_id` is the id for a image and label pair in the batch.\n",
    "\n",
    "Ask yourself \"What are all possible labels?\", \"What is the range of values for the image data?\", \"Are the labels in order or random?\".  Answers to questions like these will help you preprocess the data and end up with better predictions."
   ]
  },
  {
   "cell_type": "code",
   "execution_count": 2,
   "metadata": {
    "collapsed": false,
    "deletable": true,
    "editable": true
   },
   "outputs": [
    {
     "name": "stdout",
     "output_type": "stream",
     "text": [
      "\n",
      "Stats of batch 1:\n",
      "Samples: 10000\n",
      "Label Counts: {0: 1005, 1: 974, 2: 1032, 3: 1016, 4: 999, 5: 937, 6: 1030, 7: 1001, 8: 1025, 9: 981}\n",
      "First 20 Labels: [6, 9, 9, 4, 1, 1, 2, 7, 8, 3, 4, 7, 7, 2, 9, 9, 9, 3, 2, 6]\n",
      "\n",
      "Example of Image 5:\n",
      "Image - Min Value: 0 Max Value: 252\n",
      "Image - Shape: (32, 32, 3)\n",
      "Label - Label Id: 1 Name: automobile\n"
     ]
    },
    {
     "data": {
      "image/png": "[encoded data removed]",
      "text/plain": [
       "<matplotlib.figure.Figure at 0x7fa178c4d2e8>"
      ]
     },
     "metadata": {
      "image/png": {
       "height": 250,
       "width": 253
      }
     },
     "output_type": "display_data"
    }
   ],
   "source": [
    "%matplotlib inline\n",
    "%config InlineBackend.figure_format = 'retina'\n",
    "\n",
    "import helper\n",
    "import numpy as np\n",
    "\n",
    "# Explore the dataset\n",
    "batch_id = 1\n",
    "sample_id = 5\n",
    "helper.display_stats(cifar10_dataset_folder_path, batch_id, sample_id)"
   ]
  },
  {
   "cell_type": "markdown",
   "metadata": {
    "deletable": true,
    "editable": true
   },
   "source": [
    "## Implement Preprocess Functions\n",
    "### Normalize\n",
    "In the cell below, implement the `normalize` function to take in image data, `x`, and return it as a normalized Numpy array. The values should be in the range of 0 to 1, inclusive.  The return object should be the same shape as `x`."
   ]
  },
  {
   "cell_type": "code",
   "execution_count": 3,
   "metadata": {
    "collapsed": false,
    "deletable": true,
    "editable": true
   },
   "outputs": [
    {
     "name": "stdout",
     "output_type": "stream",
     "text": [
      "Tests Passed\n"
     ]
    }
   ],
   "source": [
    "def normalize(x):\n",
    "    \"\"\"\n",
    "    Normalize a list of sample image data in the range of 0 to 1\n",
    "    : x: List of image data.  The image shape is (32, 32, 3)\n",
    "    : return: Numpy array of normalize data\n",
    "    \"\"\"\n",
    "    x = x / 256.\n",
    "    return x\n",
    "\n",
    "\n",
    "\"\"\"\n",
    "DON'T MODIFY ANYTHING IN THIS CELL THAT IS BELOW THIS LINE\n",
    "\"\"\"\n",
    "tests.test_normalize(normalize)"
   ]
  },
  {
   "cell_type": "markdown",
   "metadata": {
    "deletable": true,
    "editable": true
   },
   "source": [
    "### One-hot encode\n",
    "Just like the previous code cell, you'll be implementing a function for preprocessing.  This time, you'll implement the `one_hot_encode` function. The input, `x`, are a list of labels.  Implement the function to return the list of labels as One-Hot encoded Numpy array.  The possible values for labels are 0 to 9. The one-hot encoding function should return the same encoding for each value between each call to `one_hot_encode`.  Make sure to save the map of encodings outside the function.\n",
    "\n",
    "Hint: Don't reinvent the wheel."
   ]
  },
  {
   "cell_type": "code",
   "execution_count": 4,
   "metadata": {
    "collapsed": false,
    "deletable": true,
    "editable": true
   },
   "outputs": [
    {
     "name": "stdout",
     "output_type": "stream",
     "text": [
      "Tests Passed\n"
     ]
    }
   ],
   "source": [
    "def one_hot_encode(x):\n",
    "    \"\"\"\n",
    "    One hot encode a list of sample labels. Return a one-hot encoded vector for each label.\n",
    "    : x: List of sample Labels\n",
    "    : return: Numpy array of one-hot encoded labels\n",
    "    \"\"\"\n",
    "    n_values = np.max(x) + 1\n",
    "    return np.eye(n_values)[x]\n",
    "\n",
    "\n",
    "\"\"\"\n",
    "DON'T MODIFY ANYTHING IN THIS CELL THAT IS BELOW THIS LINE\n",
    "\"\"\"\n",
    "tests.test_one_hot_encode(one_hot_encode)"
   ]
  },
  {
   "cell_type": "markdown",
   "metadata": {
    "deletable": true,
    "editable": true
   },
   "source": [
    "### Randomize Data\n",
    "As you saw from exploring the data above, the order of the samples are randomized.  It doesn't hurt to randomize it again, but you don't need to for this dataset."
   ]
  },
  {
   "cell_type": "markdown",
   "metadata": {
    "deletable": true,
    "editable": true
   },
   "source": [
    "## Preprocess all the data and save it\n",
    "Running the code cell below will preprocess all the CIFAR-10 data and save it to file. The code below also uses 10% of the training data for validation."
   ]
  },
  {
   "cell_type": "code",
   "execution_count": 5,
   "metadata": {
    "collapsed": false,
    "deletable": true,
    "editable": true
   },
   "outputs": [],
   "source": [
    "\"\"\"\n",
    "DON'T MODIFY ANYTHING IN THIS CELL\n",
    "\"\"\"\n",
    "# Preprocess Training, Validation, and Testing Data\n",
    "helper.preprocess_and_save_data(cifar10_dataset_folder_path, normalize, one_hot_encode)"
   ]
  },
  {
   "cell_type": "markdown",
   "metadata": {
    "deletable": true,
    "editable": true
   },
   "source": [
    "# Check Point\n",
    "This is your first checkpoint.  If you ever decide to come back to this notebook or have to restart the notebook, you can start from here.  The preprocessed data has been saved to disk."
   ]
  },
  {
   "cell_type": "code",
   "execution_count": 6,
   "metadata": {
    "collapsed": true,
    "deletable": true,
    "editable": true
   },
   "outputs": [],
   "source": [
    "\"\"\"\n",
    "DON'T MODIFY ANYTHING IN THIS CELL\n",
    "\"\"\"\n",
    "import pickle\n",
    "import problem_unittests as tests\n",
    "import helper\n",
    "\n",
    "# Load the Preprocessed Validation data\n",
    "valid_features, valid_labels = pickle.load(open('preprocess_validation.p', mode='rb'))"
   ]
  },
  {
   "cell_type": "markdown",
   "metadata": {
    "deletable": true,
    "editable": true
   },
   "source": [
    "## Build the network\n",
    "For the neural network, you'll build each layer into a function.  Most of the code you've seen has been outside of functions. To test your code more thoroughly, we require that you put each layer in a function.  This allows us to give you better feedback and test for simple mistakes using our unittests before you submit your project.\n",
    "\n",
    ">**Note:** If you're finding it hard to dedicate enough time for this course each week, we've provided a small shortcut to this part of the project. In the next couple of problems, you'll have the option to use classes from the [TensorFlow Layers](https://www.tensorflow.org/api_docs/python/tf/layers) or [TensorFlow Layers (contrib)](https://www.tensorflow.org/api_guides/python/contrib.layers) packages to build each layer, except the layers you build in the \"Convolutional and Max Pooling Layer\" section.  TF Layers is similar to Keras's and TFLearn's abstraction to layers, so it's easy to pickup.\n",
    "\n",
    ">However, if you would like to get the most out of this course, try to solve all the problems _without_ using anything from the TF Layers packages. You **can** still use classes from other packages that happen to have the same name as ones you find in TF Layers! For example, instead of using the TF Layers version of the `conv2d` class, [tf.layers.conv2d](https://www.tensorflow.org/api_docs/python/tf/layers/conv2d), you would want to use the TF Neural Network version of `conv2d`, [tf.nn.conv2d](https://www.tensorflow.org/api_docs/python/tf/nn/conv2d). \n",
    "\n",
    "Let's begin!\n",
    "\n",
    "### Input\n",
    "The neural network needs to read the image data, one-hot encoded labels, and dropout keep probability. Implement the following functions\n",
    "* Implement `neural_net_image_input`\n",
    " * Return a [TF Placeholder](https://www.tensorflow.org/api_docs/python/tf/placeholder)\n",
    " * Set the shape using `image_shape` with batch size set to `None`.\n",
    " * Name the TensorFlow placeholder \"x\" using the TensorFlow `name` parameter in the [TF Placeholder](https://www.tensorflow.org/api_docs/python/tf/placeholder).\n",
    "* Implement `neural_net_label_input`\n",
    " * Return a [TF Placeholder](https://www.tensorflow.org/api_docs/python/tf/placeholder)\n",
    " * Set the shape using `n_classes` with batch size set to `None`.\n",
    " * Name the TensorFlow placeholder \"y\" using the TensorFlow `name` parameter in the [TF Placeholder](https://www.tensorflow.org/api_docs/python/tf/placeholder).\n",
    "* Implement `neural_net_keep_prob_input`\n",
    " * Return a [TF Placeholder](https://www.tensorflow.org/api_docs/python/tf/placeholder) for dropout keep probability.\n",
    " * Name the TensorFlow placeholder \"keep_prob\" using the TensorFlow `name` parameter in the [TF Placeholder](https://www.tensorflow.org/api_docs/python/tf/placeholder).\n",
    "\n",
    "These names will be used at the end of the project to load your saved model.\n",
    "\n",
    "Note: `None` for shapes in TensorFlow allow for a dynamic size."
   ]
  },
  {
   "cell_type": "code",
   "execution_count": 53,
   "metadata": {
    "collapsed": false,
    "deletable": true,
    "editable": true
   },
   "outputs": [
    {
     "name": "stdout",
     "output_type": "stream",
     "text": [
      "Image Input Tests Passed.\n",
      "Label Input Tests Passed.\n",
      "Keep Prob Tests Passed.\n"
     ]
    }
   ],
   "source": [
    "import tensorflow as tf\n",
    "\n",
    "def neural_net_image_input(image_shape):\n",
    "    \"\"\"\n",
    "    Return a Tensor for a bach of image input\n",
    "    : image_shape: Shape of the images\n",
    "    : return: Tensor for image input.\n",
    "    \"\"\"\n",
    "    return tf.placeholder(tf.float32, shape=[None] + list(image_shape), name='x')\n",
    "\n",
    "\n",
    "def neural_net_label_input(n_classes):\n",
    "    \"\"\"\n",
    "    Return a Tensor for a batch of label input\n",
    "    : n_classes: Number of classes\n",
    "    : return: Tensor for label input.\n",
    "    \"\"\"\n",
    "    return tf.placeholder(tf.float32, shape=[None, n_classes], name='y')\n",
    "\n",
    "\n",
    "def neural_net_keep_prob_input():\n",
    "    \"\"\"\n",
    "    Return a Tensor for keep probability\n",
    "    : return: Tensor for keep probability.\n",
    "    \"\"\"\n",
    "    return tf.placeholder(tf.float32, name='keep_prob')\n",
    "\n",
    "\n",
    "\"\"\"\n",
    "DON'T MODIFY ANYTHING IN THIS CELL THAT IS BELOW THIS LINE\n",
    "\"\"\"\n",
    "tf.reset_default_graph()\n",
    "tests.test_nn_image_inputs(neural_net_image_input)\n",
    "tests.test_nn_label_inputs(neural_net_label_input)\n",
    "tests.test_nn_keep_prob_inputs(neural_net_keep_prob_input)"
   ]
  },
  {
   "cell_type": "markdown",
   "metadata": {
    "deletable": true,
    "editable": true
   },
   "source": [
    "### Convolution and Max Pooling Layer\n",
    "Convolution layers have a lot of success with images. For this code cell, you should implement the function `conv2d_maxpool` to apply convolution then max pooling:\n",
    "* Create the weight and bias using `conv_ksize`, `conv_num_outputs` and the shape of `x_tensor`.\n",
    "* Apply a convolution to `x_tensor` using weight and `conv_strides`.\n",
    " * We recommend you use same padding, but you're welcome to use any padding.\n",
    "* Add bias\n",
    "* Add a nonlinear activation to the convolution.\n",
    "* Apply Max Pooling using `pool_ksize` and `pool_strides`.\n",
    " * We recommend you use same padding, but you're welcome to use any padding.\n",
    "\n",
    "**Note:** You **can't** use [TensorFlow Layers](https://www.tensorflow.org/api_docs/python/tf/layers) or [TensorFlow Layers (contrib)](https://www.tensorflow.org/api_guides/python/contrib.layers) for **this** layer, but you can still use TensorFlow's [Neural Network](https://www.tensorflow.org/api_docs/python/tf/nn) package. You may still use the shortcut option for all the **other** layers."
   ]
  },
  {
   "cell_type": "code",
   "execution_count": 54,
   "metadata": {
    "collapsed": false,
    "deletable": true,
    "editable": true
   },
   "outputs": [
    {
     "name": "stdout",
     "output_type": "stream",
     "text": [
      "Tests Passed\n"
     ]
    }
   ],
   "source": [
    "def conv2d_maxpool(x_tensor, conv_num_outputs, conv_ksize, conv_strides, pool_ksize, pool_strides):\n",
    "    \"\"\"\n",
    "    Apply convolution then max pooling to x_tensor\n",
    "    :param x_tensor: TensorFlow Tensor\n",
    "    :param conv_num_outputs: Number of outputs for the convolutional layer\n",
    "    :param conv_ksize: kernal size 2-D Tuple for the convolutional layer\n",
    "    :param conv_strides: Stride 2-D Tuple for convolution\n",
    "    :param pool_ksize: kernal size 2-D Tuple for pool\n",
    "    :param pool_strides: Stride 2-D Tuple for pool\n",
    "    : return: A tensor that represents convolution and max pooling of x_tensor\n",
    "    \"\"\"\n",
    "    weight_shape = conv_ksize + (int(x_tensor.get_shape()[3]),) + (conv_num_outputs,)\n",
    "    weight = tf.Variable(tf.truncated_normal(weight_shape, stddev=0.05))\n",
    "    bias = tf.Variable(tf.truncated_normal([conv_num_outputs], stddev=0.05))\n",
    "    x_tensor = tf.nn.conv2d(x_tensor, weight,\n",
    "                         strides=[1] + list(conv_strides) + [1],\n",
    "                         padding='SAME')\n",
    "    x_tensor = tf.nn.bias_add(x_tensor, bias)\n",
    "    x_tensor = tf.nn.relu(x_tensor)\n",
    "    x_tensor = tf.nn.max_pool(x_tensor,\n",
    "                         ksize=[1] + list(pool_ksize) + [1],\n",
    "                         strides=[1] + list(pool_strides) + [1],\n",
    "                         padding='SAME')    \n",
    "    return x_tensor\n",
    "\n",
    "\n",
    "\"\"\"\n",
    "DON'T MODIFY ANYTHING IN THIS CELL THAT IS BELOW THIS LINE\n",
    "\"\"\"\n",
    "tests.test_con_pool(conv2d_maxpool)"
   ]
  },
  {
   "cell_type": "markdown",
   "metadata": {
    "deletable": true,
    "editable": true
   },
   "source": [
    "### Flatten Layer\n",
    "Implement the `flatten` function to change the dimension of `x_tensor` from a 4-D tensor to a 2-D tensor.  The output should be the shape (*Batch Size*, *Flattened Image Size*). Shortcut option: you can use classes from the [TensorFlow Layers](https://www.tensorflow.org/api_docs/python/tf/layers) or [TensorFlow Layers (contrib)](https://www.tensorflow.org/api_guides/python/contrib.layers) packages for this layer. For more of a challenge, only use other TensorFlow packages."
   ]
  },
  {
   "cell_type": "code",
   "execution_count": 55,
   "metadata": {
    "collapsed": false,
    "deletable": true,
    "editable": true
   },
   "outputs": [
    {
     "name": "stdout",
     "output_type": "stream",
     "text": [
      "Tests Passed\n"
     ]
    }
   ],
   "source": [
    "def flatten(x_tensor):\n",
    "    \"\"\"\n",
    "    Flatten x_tensor to (Batch Size, Flattened Image Size)\n",
    "    : x_tensor: A tensor of size (Batch Size, ...), where ... are the image dimensions.\n",
    "    : return: A tensor of size (Batch Size, Flattened Image Size).\n",
    "    \"\"\"\n",
    "    x_tensor_shape = x_tensor.get_shape().as_list()\n",
    "    x_tensor = tf.reshape(x_tensor, [-1, np.prod(x_tensor_shape[1:])])\n",
    "    return x_tensor\n",
    "\n",
    "\n",
    "\"\"\"\n",
    "DON'T MODIFY ANYTHING IN THIS CELL THAT IS BELOW THIS LINE\n",
    "\"\"\"\n",
    "tests.test_flatten(flatten)"
   ]
  },
  {
   "cell_type": "markdown",
   "metadata": {
    "deletable": true,
    "editable": true
   },
   "source": [
    "### Fully-Connected Layer\n",
    "Implement the `fully_conn` function to apply a fully connected layer to `x_tensor` with the shape (*Batch Size*, *num_outputs*). Shortcut option: you can use classes from the [TensorFlow Layers](https://www.tensorflow.org/api_docs/python/tf/layers) or [TensorFlow Layers (contrib)](https://www.tensorflow.org/api_guides/python/contrib.layers) packages for this layer. For more of a challenge, only use other TensorFlow packages."
   ]
  },
  {
   "cell_type": "code",
   "execution_count": 73,
   "metadata": {
    "collapsed": false,
    "deletable": true,
    "editable": true
   },
   "outputs": [
    {
     "name": "stdout",
     "output_type": "stream",
     "text": [
      "Tests Passed\n"
     ]
    }
   ],
   "source": [
    "def fully_conn(x_tensor, num_outputs):\n",
    "    \"\"\"\n",
    "    Apply a fully connected layer to x_tensor using weight and bias\n",
    "    : x_tensor: A 2-D tensor where the first dimension is batch size.\n",
    "    : num_outputs: The number of output that the new tensor should be.\n",
    "    : return: A 2-D tensor where the second dimension is num_outputs.\n",
    "    \"\"\"\n",
    "    x_tensor_shape = x_tensor.get_shape().as_list()\n",
    "    weight = tf.Variable(tf.truncated_normal((x_tensor_shape[1], num_outputs), stddev=0.05))\n",
    "    bias = tf.Variable(tf.truncated_normal([num_outputs], stddev=0.05))\n",
    "    x_tensor = tf.add(tf.matmul(x_tensor, weight), bias)\n",
    "    x_tensor = tf.nn.relu(x_tensor)\n",
    "    return x_tensor\n",
    "\n",
    "\n",
    "\"\"\"\n",
    "DON'T MODIFY ANYTHING IN THIS CELL THAT IS BELOW THIS LINE\n",
    "\"\"\"\n",
    "tests.test_fully_conn(fully_conn)"
   ]
  },
  {
   "cell_type": "markdown",
   "metadata": {
    "deletable": true,
    "editable": true
   },
   "source": [
    "### Output Layer\n",
    "Implement the `output` function to apply a fully connected layer to `x_tensor` with the shape (*Batch Size*, *num_outputs*). Shortcut option: you can use classes from the [TensorFlow Layers](https://www.tensorflow.org/api_docs/python/tf/layers) or [TensorFlow Layers (contrib)](https://www.tensorflow.org/api_guides/python/contrib.layers) packages for this layer. For more of a challenge, only use other TensorFlow packages.\n",
    "\n",
    "**Note:** Activation, softmax, or cross entropy should **not** be applied to this."
   ]
  },
  {
   "cell_type": "code",
   "execution_count": 74,
   "metadata": {
    "collapsed": false,
    "deletable": true,
    "editable": true
   },
   "outputs": [
    {
     "name": "stdout",
     "output_type": "stream",
     "text": [
      "Tests Passed\n"
     ]
    }
   ],
   "source": [
    "def output(x_tensor, num_outputs):\n",
    "    \"\"\"\n",
    "    Apply a output layer to x_tensor using weight and bias\n",
    "    : x_tensor: A 2-D tensor where the first dimension is batch size.\n",
    "    : num_outputs: The number of output that the new tensor should be.\n",
    "    : return: A 2-D tensor where the second dimension is num_outputs.\n",
    "    \"\"\"\n",
    "    x_tensor_shape = x_tensor.get_shape().as_list()\n",
    "    weight = tf.Variable(tf.truncated_normal((x_tensor_shape[1], num_outputs), stddev=0.05))\n",
    "    bias = tf.Variable(tf.truncated_normal([num_outputs], stddev=0.05))\n",
    "    x_tensor = tf.add(tf.matmul(x_tensor, weight), bias)\n",
    "    return x_tensor\n",
    "\n",
    "\n",
    "\"\"\"\n",
    "DON'T MODIFY ANYTHING IN THIS CELL THAT IS BELOW THIS LINE\n",
    "\"\"\"\n",
    "tests.test_output(output)"
   ]
  },
  {
   "cell_type": "markdown",
   "metadata": {
    "deletable": true,
    "editable": true
   },
   "source": [
    "### Create Convolutional Model\n",
    "Implement the function `conv_net` to create a convolutional neural network model. The function takes in a batch of images, `x`, and outputs logits.  Use the layers you created above to create this model:\n",
    "\n",
    "* Apply 1, 2, or 3 Convolution and Max Pool layers\n",
    "* Apply a Flatten Layer\n",
    "* Apply 1, 2, or 3 Fully Connected Layers\n",
    "* Apply an Output Layer\n",
    "* Return the output\n",
    "* Apply [TensorFlow's Dropout](https://www.tensorflow.org/api_docs/python/tf/nn/dropout) to one or more layers in the model using `keep_prob`. "
   ]
  },
  {
   "cell_type": "code",
   "execution_count": 75,
   "metadata": {
    "collapsed": false,
    "deletable": true,
    "editable": true
   },
   "outputs": [
    {
     "name": "stdout",
     "output_type": "stream",
     "text": [
      "Neural Network Built!\n"
     ]
    }
   ],
   "source": [
    "def conv_net(x, keep_prob):\n",
    "    \"\"\"\n",
    "    Create a convolutional neural network model\n",
    "    : x: Placeholder tensor that holds image data.\n",
    "    : keep_prob: Placeholder tensor that hold dropout keep probability.\n",
    "    : return: Tensor that represents logits\n",
    "    \"\"\"\n",
    "    # Function Definition from Above:\n",
    "    #    conv2d_maxpool(x_tensor, conv_num_outputs, conv_ksize, conv_strides, pool_ksize, pool_strides)\n",
    "    x = conv2d_maxpool(x, 32, (5, 5), (1, 1), (2, 2), (2, 2))\n",
    "    x = conv2d_maxpool(x, 32, (5, 5), (1, 1), (2, 2), (2, 2))\n",
    "    x = conv2d_maxpool(x, 64, (5, 5), (1, 1), (2, 2), (2, 2))\n",
    "\n",
    "    # Function Definition from Above:\n",
    "    #   flatten(x_tensor)\n",
    "    x = flatten(x)\n",
    "\n",
    "    # Function Definition from Above:\n",
    "    #   fully_conn(x_tensor, num_outputs)\n",
    "    \n",
    "    x = fully_conn(x, 200)\n",
    "    x = tf.nn.dropout(x, keep_prob)\n",
    "    \n",
    "    x = fully_conn(x, 64)\n",
    "    x = tf.nn.dropout(x, keep_prob)\n",
    "    \n",
    "    # Function Definition from Above:\n",
    "    #   output(x_tensor, num_outputs)\n",
    "    x = output(x, 10)    \n",
    "    \n",
    "    return x\n",
    "\n",
    "\n",
    "\"\"\"\n",
    "DON'T MODIFY ANYTHING IN THIS CELL THAT IS BELOW THIS LINE\n",
    "\"\"\"\n",
    "\n",
    "##############################\n",
    "## Build the Neural Network ##\n",
    "##############################\n",
    "\n",
    "# Remove previous weights, bias, inputs, etc..\n",
    "tf.reset_default_graph()\n",
    "\n",
    "# Inputs\n",
    "x = neural_net_image_input((32, 32, 3))\n",
    "y = neural_net_label_input(10)\n",
    "keep_prob = neural_net_keep_prob_input()\n",
    "\n",
    "# Model\n",
    "logits = conv_net(x, keep_prob)\n",
    "\n",
    "# Name logits Tensor, so that is can be loaded from disk after training\n",
    "logits = tf.identity(logits, name='logits')\n",
    "\n",
    "# Loss and Optimizer\n",
    "cost = tf.reduce_mean(tf.nn.softmax_cross_entropy_with_logits(logits=logits, labels=y))\n",
    "optimizer = tf.train.AdamOptimizer(learning_rate=0.0001).minimize(cost)\n",
    "\n",
    "# Accuracy\n",
    "correct_pred = tf.equal(tf.argmax(logits, 1), tf.argmax(y, 1))\n",
    "accuracy = tf.reduce_mean(tf.cast(correct_pred, tf.float32), name='accuracy')\n",
    "\n",
    "tests.test_conv_net(conv_net)"
   ]
  },
  {
   "cell_type": "markdown",
   "metadata": {
    "deletable": true,
    "editable": true
   },
   "source": [
    "## Train the Neural Network\n",
    "### Single Optimization\n",
    "Implement the function `train_neural_network` to do a single optimization.  The optimization should use `optimizer` to optimize in `session` with a `feed_dict` of the following:\n",
    "* `x` for image input\n",
    "* `y` for labels\n",
    "* `keep_prob` for keep probability for dropout\n",
    "\n",
    "This function will be called for each batch, so `tf.global_variables_initializer()` has already been called.\n",
    "\n",
    "Note: Nothing needs to be returned. This function is only optimizing the neural network."
   ]
  },
  {
   "cell_type": "code",
   "execution_count": 76,
   "metadata": {
    "collapsed": false,
    "deletable": true,
    "editable": true
   },
   "outputs": [
    {
     "name": "stdout",
     "output_type": "stream",
     "text": [
      "Tests Passed\n"
     ]
    }
   ],
   "source": [
    "def train_neural_network(session, optimizer, keep_probability, feature_batch, label_batch):\n",
    "    \"\"\"\n",
    "    Optimize the session on a batch of images and labels\n",
    "    : session: Current TensorFlow session\n",
    "    : optimizer: TensorFlow optimizer function\n",
    "    : keep_probability: keep probability\n",
    "    : feature_batch: Batch of Numpy image data\n",
    "    : label_batch: Batch of Numpy label data\n",
    "    \"\"\"\n",
    "    session.run(optimizer, feed_dict={\n",
    "        x: feature_batch,\n",
    "        y: label_batch,\n",
    "        keep_prob: keep_probability\n",
    "    })\n",
    "    \n",
    "\n",
    "\n",
    "\"\"\"\n",
    "DON'T MODIFY ANYTHING IN THIS CELL THAT IS BELOW THIS LINE\n",
    "\"\"\"\n",
    "tests.test_train_nn(train_neural_network)"
   ]
  },
  {
   "cell_type": "markdown",
   "metadata": {
    "deletable": true,
    "editable": true
   },
   "source": [
    "### Show Stats\n",
    "Implement the function `print_stats` to print loss and validation accuracy.  Use the global variables `valid_features` and `valid_labels` to calculate validation accuracy.  Use a keep probability of `1.0` to calculate the loss and validation accuracy."
   ]
  },
  {
   "cell_type": "code",
   "execution_count": 77,
   "metadata": {
    "collapsed": false,
    "deletable": true,
    "editable": true
   },
   "outputs": [],
   "source": [
    "def print_stats(session, feature_batch, label_batch, cost, accuracy):\n",
    "    \"\"\"\n",
    "    Print information about loss and validation accuracy\n",
    "    : session: Current TensorFlow session\n",
    "    : feature_batch: Batch of Numpy image data\n",
    "    : label_batch: Batch of Numpy label data\n",
    "    : cost: TensorFlow cost function\n",
    "    : accuracy: TensorFlow accuracy function\n",
    "    \"\"\"\n",
    "    loss = session.run(cost, feed_dict={\n",
    "        x: feature_batch,\n",
    "        y: label_batch,\n",
    "        keep_prob: 1.\n",
    "    })\n",
    "    \n",
    "    valid_acc =  session.run(accuracy, feed_dict={\n",
    "        x: valid_features,\n",
    "        y: valid_labels,\n",
    "        keep_prob: 1.\n",
    "    })\n",
    "    \n",
    "    print('Loss: {:>10.4f} Validation Accuracy: {:.6f}'.format(\n",
    "        loss, valid_acc\n",
    "    ))\n",
    "    "
   ]
  },
  {
   "cell_type": "markdown",
   "metadata": {
    "deletable": true,
    "editable": true
   },
   "source": [
    "### Hyperparameters\n",
    "Tune the following parameters:\n",
    "* Set `epochs` to the number of iterations until the network stops learning or start overfitting\n",
    "* Set `batch_size` to the highest number that your machine has memory for.  Most people set them to common sizes of memory:\n",
    " * 64\n",
    " * 128\n",
    " * 256\n",
    " * ...\n",
    "* Set `keep_probability` to the probability of keeping a node using dropout"
   ]
  },
  {
   "cell_type": "code",
   "execution_count": 88,
   "metadata": {
    "collapsed": true,
    "deletable": true,
    "editable": true
   },
   "outputs": [],
   "source": [
    "epochs = 40\n",
    "batch_size = 64\n",
    "keep_probability = 0.5"
   ]
  },
  {
   "cell_type": "markdown",
   "metadata": {
    "deletable": true,
    "editable": true
   },
   "source": [
    "### Train on a Single CIFAR-10 Batch\n",
    "Instead of training the neural network on all the CIFAR-10 batches of data, let's use a single batch. This should save time while you iterate on the model to get a better accuracy.  Once the final validation accuracy is 50% or greater, run the model on all the data in the next section."
   ]
  },
  {
   "cell_type": "code",
   "execution_count": 89,
   "metadata": {
    "collapsed": false,
    "deletable": true,
    "editable": true
   },
   "outputs": [
    {
     "name": "stdout",
     "output_type": "stream",
     "text": [
      "Checking the Training on a Single Batch...\n",
      "Epoch  1, CIFAR-10 Batch 1:  Loss:     2.2850 Validation Accuracy: 0.126400\n",
      "Epoch  2, CIFAR-10 Batch 1:  Loss:     2.2057 Validation Accuracy: 0.237800\n",
      "Epoch  3, CIFAR-10 Batch 1:  Loss:     2.1204 Validation Accuracy: 0.307200\n",
      "Epoch  4, CIFAR-10 Batch 1:  Loss:     2.1008 Validation Accuracy: 0.325600\n",
      "Epoch  5, CIFAR-10 Batch 1:  Loss:     2.0309 Validation Accuracy: 0.338200\n",
      "Epoch  6, CIFAR-10 Batch 1:  Loss:     2.0027 Validation Accuracy: 0.355200\n",
      "Epoch  7, CIFAR-10 Batch 1:  Loss:     1.9709 Validation Accuracy: 0.364200\n",
      "Epoch  8, CIFAR-10 Batch 1:  Loss:     1.9512 Validation Accuracy: 0.368600\n",
      "Epoch  9, CIFAR-10 Batch 1:  Loss:     1.9394 Validation Accuracy: 0.379800\n",
      "Epoch 10, CIFAR-10 Batch 1:  Loss:     1.9094 Validation Accuracy: 0.392600\n",
      "Epoch 11, CIFAR-10 Batch 1:  Loss:     1.8774 Validation Accuracy: 0.402000\n",
      "Epoch 12, CIFAR-10 Batch 1:  Loss:     1.8364 Validation Accuracy: 0.411200\n",
      "Epoch 13, CIFAR-10 Batch 1:  Loss:     1.8366 Validation Accuracy: 0.424400\n",
      "Epoch 14, CIFAR-10 Batch 1:  Loss:     1.8222 Validation Accuracy: 0.420000\n",
      "Epoch 15, CIFAR-10 Batch 1:  Loss:     1.8032 Validation Accuracy: 0.435400\n",
      "Epoch 16, CIFAR-10 Batch 1:  Loss:     1.7605 Validation Accuracy: 0.438800\n",
      "Epoch 17, CIFAR-10 Batch 1:  Loss:     1.7711 Validation Accuracy: 0.443200\n",
      "Epoch 18, CIFAR-10 Batch 1:  Loss:     1.7782 Validation Accuracy: 0.442400\n",
      "Epoch 19, CIFAR-10 Batch 1:  Loss:     1.7064 Validation Accuracy: 0.454800\n",
      "Epoch 20, CIFAR-10 Batch 1:  Loss:     1.7234 Validation Accuracy: 0.453800\n",
      "Epoch 21, CIFAR-10 Batch 1:  Loss:     1.7017 Validation Accuracy: 0.462800\n",
      "Epoch 22, CIFAR-10 Batch 1:  Loss:     1.6693 Validation Accuracy: 0.468000\n",
      "Epoch 23, CIFAR-10 Batch 1:  Loss:     1.6408 Validation Accuracy: 0.472800\n",
      "Epoch 24, CIFAR-10 Batch 1:  Loss:     1.6406 Validation Accuracy: 0.475800\n",
      "Epoch 25, CIFAR-10 Batch 1:  Loss:     1.6137 Validation Accuracy: 0.472200\n",
      "Epoch 26, CIFAR-10 Batch 1:  Loss:     1.6101 Validation Accuracy: 0.474200\n",
      "Epoch 27, CIFAR-10 Batch 1:  Loss:     1.5729 Validation Accuracy: 0.482400\n",
      "Epoch 28, CIFAR-10 Batch 1:  Loss:     1.6057 Validation Accuracy: 0.476600\n",
      "Epoch 29, CIFAR-10 Batch 1:  Loss:     1.5729 Validation Accuracy: 0.487400\n",
      "Epoch 30, CIFAR-10 Batch 1:  Loss:     1.5601 Validation Accuracy: 0.487400\n",
      "Epoch 31, CIFAR-10 Batch 1:  Loss:     1.5187 Validation Accuracy: 0.493800\n",
      "Epoch 32, CIFAR-10 Batch 1:  Loss:     1.5195 Validation Accuracy: 0.494200\n",
      "Epoch 33, CIFAR-10 Batch 1:  Loss:     1.5310 Validation Accuracy: 0.495600\n",
      "Epoch 34, CIFAR-10 Batch 1:  Loss:     1.4879 Validation Accuracy: 0.500000\n",
      "Epoch 35, CIFAR-10 Batch 1:  Loss:     1.4808 Validation Accuracy: 0.499400\n",
      "Epoch 36, CIFAR-10 Batch 1:  Loss:     1.4714 Validation Accuracy: 0.506400\n",
      "Epoch 37, CIFAR-10 Batch 1:  Loss:     1.4479 Validation Accuracy: 0.510400\n",
      "Epoch 38, CIFAR-10 Batch 1:  Loss:     1.4277 Validation Accuracy: 0.505000\n",
      "Epoch 39, CIFAR-10 Batch 1:  Loss:     1.4423 Validation Accuracy: 0.504800\n",
      "Epoch 40, CIFAR-10 Batch 1:  Loss:     1.4325 Validation Accuracy: 0.509800\n"
     ]
    }
   ],
   "source": [
    "\"\"\"\n",
    "DON'T MODIFY ANYTHING IN THIS CELL\n",
    "\"\"\"\n",
    "print('Checking the Training on a Single Batch...')\n",
    "with tf.Session() as sess:\n",
    "    # Initializing the variables\n",
    "    sess.run(tf.global_variables_initializer())\n",
    "    \n",
    "    # Training cycle\n",
    "    for epoch in range(epochs):\n",
    "        batch_i = 1\n",
    "        for batch_features, batch_labels in helper.load_preprocess_training_batch(batch_i, batch_size):\n",
    "            train_neural_network(sess, optimizer, keep_probability, batch_features, batch_labels)\n",
    "        print('Epoch {:>2}, CIFAR-10 Batch {}:  '.format(epoch + 1, batch_i), end='')\n",
    "        print_stats(sess, batch_features, batch_labels, cost, accuracy)"
   ]
  },
  {
   "cell_type": "markdown",
   "metadata": {
    "deletable": true,
    "editable": true
   },
   "source": [
    "### Fully Train the Model\n",
    "Now that you got a good accuracy with a single CIFAR-10 batch, try it with all five batches."
   ]
  },
  {
   "cell_type": "code",
   "execution_count": 90,
   "metadata": {
    "collapsed": false,
    "deletable": true,
    "editable": true
   },
   "outputs": [
    {
     "name": "stdout",
     "output_type": "stream",
     "text": [
      "Training...\n",
      "Epoch  1, CIFAR-10 Batch 1:  Loss:     2.2886 Validation Accuracy: 0.165800\n",
      "Epoch  1, CIFAR-10 Batch 2:  Loss:     2.1461 Validation Accuracy: 0.248000\n",
      "Epoch  1, CIFAR-10 Batch 3:  Loss:     1.8454 Validation Accuracy: 0.291800\n",
      "Epoch  1, CIFAR-10 Batch 4:  Loss:     1.8945 Validation Accuracy: 0.326200\n",
      "Epoch  1, CIFAR-10 Batch 5:  Loss:     1.8759 Validation Accuracy: 0.336200\n",
      "Epoch  2, CIFAR-10 Batch 1:  Loss:     2.0641 Validation Accuracy: 0.363600\n",
      "Epoch  2, CIFAR-10 Batch 2:  Loss:     1.8950 Validation Accuracy: 0.374000\n",
      "Epoch  2, CIFAR-10 Batch 3:  Loss:     1.5819 Validation Accuracy: 0.375800\n",
      "Epoch  2, CIFAR-10 Batch 4:  Loss:     1.7449 Validation Accuracy: 0.382800\n",
      "Epoch  2, CIFAR-10 Batch 5:  Loss:     1.7321 Validation Accuracy: 0.385600\n",
      "Epoch  3, CIFAR-10 Batch 1:  Loss:     1.9708 Validation Accuracy: 0.395600\n",
      "Epoch  3, CIFAR-10 Batch 2:  Loss:     1.8310 Validation Accuracy: 0.393000\n",
      "Epoch  3, CIFAR-10 Batch 3:  Loss:     1.4470 Validation Accuracy: 0.411200\n",
      "Epoch  3, CIFAR-10 Batch 4:  Loss:     1.6869 Validation Accuracy: 0.420200\n",
      "Epoch  3, CIFAR-10 Batch 5:  Loss:     1.6424 Validation Accuracy: 0.418600\n",
      "Epoch  4, CIFAR-10 Batch 1:  Loss:     1.8904 Validation Accuracy: 0.417600\n",
      "Epoch  4, CIFAR-10 Batch 2:  Loss:     1.7438 Validation Accuracy: 0.438000\n",
      "Epoch  4, CIFAR-10 Batch 3:  Loss:     1.3645 Validation Accuracy: 0.435200\n",
      "Epoch  4, CIFAR-10 Batch 4:  Loss:     1.6056 Validation Accuracy: 0.441000\n",
      "Epoch  4, CIFAR-10 Batch 5:  Loss:     1.5763 Validation Accuracy: 0.440400\n",
      "Epoch  5, CIFAR-10 Batch 1:  Loss:     1.7582 Validation Accuracy: 0.455200\n",
      "Epoch  5, CIFAR-10 Batch 2:  Loss:     1.6880 Validation Accuracy: 0.449800\n",
      "Epoch  5, CIFAR-10 Batch 3:  Loss:     1.2781 Validation Accuracy: 0.454000\n",
      "Epoch  5, CIFAR-10 Batch 4:  Loss:     1.5122 Validation Accuracy: 0.468200\n",
      "Epoch  5, CIFAR-10 Batch 5:  Loss:     1.5393 Validation Accuracy: 0.460800\n",
      "Epoch  6, CIFAR-10 Batch 1:  Loss:     1.6643 Validation Accuracy: 0.467200\n",
      "Epoch  6, CIFAR-10 Batch 2:  Loss:     1.6528 Validation Accuracy: 0.468000\n",
      "Epoch  6, CIFAR-10 Batch 3:  Loss:     1.2349 Validation Accuracy: 0.473600\n",
      "Epoch  6, CIFAR-10 Batch 4:  Loss:     1.4928 Validation Accuracy: 0.477400\n",
      "Epoch  6, CIFAR-10 Batch 5:  Loss:     1.5093 Validation Accuracy: 0.478800\n",
      "Epoch  7, CIFAR-10 Batch 1:  Loss:     1.6062 Validation Accuracy: 0.483400\n",
      "Epoch  7, CIFAR-10 Batch 2:  Loss:     1.6511 Validation Accuracy: 0.491600\n",
      "Epoch  7, CIFAR-10 Batch 3:  Loss:     1.1911 Validation Accuracy: 0.481400\n",
      "Epoch  7, CIFAR-10 Batch 4:  Loss:     1.4264 Validation Accuracy: 0.492800\n",
      "Epoch  7, CIFAR-10 Batch 5:  Loss:     1.4827 Validation Accuracy: 0.494000\n",
      "Epoch  8, CIFAR-10 Batch 1:  Loss:     1.5745 Validation Accuracy: 0.494200\n",
      "Epoch  8, CIFAR-10 Batch 2:  Loss:     1.5361 Validation Accuracy: 0.495000\n",
      "Epoch  8, CIFAR-10 Batch 3:  Loss:     1.1560 Validation Accuracy: 0.498400\n",
      "Epoch  8, CIFAR-10 Batch 4:  Loss:     1.3880 Validation Accuracy: 0.506200\n",
      "Epoch  8, CIFAR-10 Batch 5:  Loss:     1.4375 Validation Accuracy: 0.512200\n",
      "Epoch  9, CIFAR-10 Batch 1:  Loss:     1.5627 Validation Accuracy: 0.502600\n",
      "Epoch  9, CIFAR-10 Batch 2:  Loss:     1.5451 Validation Accuracy: 0.519600\n",
      "Epoch  9, CIFAR-10 Batch 3:  Loss:     1.1259 Validation Accuracy: 0.508600\n",
      "Epoch  9, CIFAR-10 Batch 4:  Loss:     1.3368 Validation Accuracy: 0.513200\n",
      "Epoch  9, CIFAR-10 Batch 5:  Loss:     1.4040 Validation Accuracy: 0.516800\n",
      "Epoch 10, CIFAR-10 Batch 1:  Loss:     1.5191 Validation Accuracy: 0.518400\n",
      "Epoch 10, CIFAR-10 Batch 2:  Loss:     1.4469 Validation Accuracy: 0.527000\n",
      "Epoch 10, CIFAR-10 Batch 3:  Loss:     1.1041 Validation Accuracy: 0.519000\n",
      "Epoch 10, CIFAR-10 Batch 4:  Loss:     1.3047 Validation Accuracy: 0.529600\n",
      "Epoch 10, CIFAR-10 Batch 5:  Loss:     1.3370 Validation Accuracy: 0.526400\n",
      "Epoch 11, CIFAR-10 Batch 1:  Loss:     1.4977 Validation Accuracy: 0.518200\n",
      "Epoch 11, CIFAR-10 Batch 2:  Loss:     1.4380 Validation Accuracy: 0.533600\n",
      "Epoch 11, CIFAR-10 Batch 3:  Loss:     1.0951 Validation Accuracy: 0.530600\n",
      "Epoch 11, CIFAR-10 Batch 4:  Loss:     1.2586 Validation Accuracy: 0.542400\n",
      "Epoch 11, CIFAR-10 Batch 5:  Loss:     1.3087 Validation Accuracy: 0.545600\n",
      "Epoch 12, CIFAR-10 Batch 1:  Loss:     1.4613 Validation Accuracy: 0.527800\n",
      "Epoch 12, CIFAR-10 Batch 2:  Loss:     1.3723 Validation Accuracy: 0.552000\n",
      "Epoch 12, CIFAR-10 Batch 3:  Loss:     1.0603 Validation Accuracy: 0.541600\n",
      "Epoch 12, CIFAR-10 Batch 4:  Loss:     1.2354 Validation Accuracy: 0.553200\n",
      "Epoch 12, CIFAR-10 Batch 5:  Loss:     1.2704 Validation Accuracy: 0.554000\n",
      "Epoch 13, CIFAR-10 Batch 1:  Loss:     1.4980 Validation Accuracy: 0.533400\n",
      "Epoch 13, CIFAR-10 Batch 2:  Loss:     1.3094 Validation Accuracy: 0.558800\n",
      "Epoch 13, CIFAR-10 Batch 3:  Loss:     1.0443 Validation Accuracy: 0.549600\n",
      "Epoch 13, CIFAR-10 Batch 4:  Loss:     1.1914 Validation Accuracy: 0.555400\n",
      "Epoch 13, CIFAR-10 Batch 5:  Loss:     1.2442 Validation Accuracy: 0.568400\n",
      "Epoch 14, CIFAR-10 Batch 1:  Loss:     1.4868 Validation Accuracy: 0.541600\n",
      "Epoch 14, CIFAR-10 Batch 2:  Loss:     1.2194 Validation Accuracy: 0.566400\n",
      "Epoch 14, CIFAR-10 Batch 3:  Loss:     1.0199 Validation Accuracy: 0.564800\n",
      "Epoch 14, CIFAR-10 Batch 4:  Loss:     1.1562 Validation Accuracy: 0.560600\n",
      "Epoch 14, CIFAR-10 Batch 5:  Loss:     1.2365 Validation Accuracy: 0.564400\n",
      "Epoch 15, CIFAR-10 Batch 1:  Loss:     1.3708 Validation Accuracy: 0.563000\n",
      "Epoch 15, CIFAR-10 Batch 2:  Loss:     1.2227 Validation Accuracy: 0.574200\n",
      "Epoch 15, CIFAR-10 Batch 3:  Loss:     1.0153 Validation Accuracy: 0.569600\n",
      "Epoch 15, CIFAR-10 Batch 4:  Loss:     1.1527 Validation Accuracy: 0.570800\n",
      "Epoch 15, CIFAR-10 Batch 5:  Loss:     1.2220 Validation Accuracy: 0.564200\n",
      "Epoch 16, CIFAR-10 Batch 1:  Loss:     1.3817 Validation Accuracy: 0.568200\n",
      "Epoch 16, CIFAR-10 Batch 2:  Loss:     1.1507 Validation Accuracy: 0.583200\n",
      "Epoch 16, CIFAR-10 Batch 3:  Loss:     0.9604 Validation Accuracy: 0.581400\n",
      "Epoch 16, CIFAR-10 Batch 4:  Loss:     1.1168 Validation Accuracy: 0.586400\n",
      "Epoch 16, CIFAR-10 Batch 5:  Loss:     1.1370 Validation Accuracy: 0.586200\n",
      "Epoch 17, CIFAR-10 Batch 1:  Loss:     1.3468 Validation Accuracy: 0.582000\n",
      "Epoch 17, CIFAR-10 Batch 2:  Loss:     1.1103 Validation Accuracy: 0.583600\n",
      "Epoch 17, CIFAR-10 Batch 3:  Loss:     0.9406 Validation Accuracy: 0.591600\n",
      "Epoch 17, CIFAR-10 Batch 4:  Loss:     1.1035 Validation Accuracy: 0.593400\n",
      "Epoch 17, CIFAR-10 Batch 5:  Loss:     1.1122 Validation Accuracy: 0.592400\n",
      "Epoch 18, CIFAR-10 Batch 1:  Loss:     1.3004 Validation Accuracy: 0.592200\n",
      "Epoch 18, CIFAR-10 Batch 2:  Loss:     1.1040 Validation Accuracy: 0.592200\n",
      "Epoch 18, CIFAR-10 Batch 3:  Loss:     0.9244 Validation Accuracy: 0.597000\n",
      "Epoch 18, CIFAR-10 Batch 4:  Loss:     1.0690 Validation Accuracy: 0.597400\n",
      "Epoch 18, CIFAR-10 Batch 5:  Loss:     1.1045 Validation Accuracy: 0.597000\n",
      "Epoch 19, CIFAR-10 Batch 1:  Loss:     1.2953 Validation Accuracy: 0.587200\n",
      "Epoch 19, CIFAR-10 Batch 2:  Loss:     1.0872 Validation Accuracy: 0.600800\n",
      "Epoch 19, CIFAR-10 Batch 3:  Loss:     0.8719 Validation Accuracy: 0.606400\n",
      "Epoch 19, CIFAR-10 Batch 4:  Loss:     1.0583 Validation Accuracy: 0.605400\n",
      "Epoch 19, CIFAR-10 Batch 5:  Loss:     1.0315 Validation Accuracy: 0.599400\n",
      "Epoch 20, CIFAR-10 Batch 1:  Loss:     1.2534 Validation Accuracy: 0.612400\n",
      "Epoch 20, CIFAR-10 Batch 2:  Loss:     1.0310 Validation Accuracy: 0.605000\n",
      "Epoch 20, CIFAR-10 Batch 3:  Loss:     0.8864 Validation Accuracy: 0.600400\n",
      "Epoch 20, CIFAR-10 Batch 4:  Loss:     1.0264 Validation Accuracy: 0.612400\n",
      "Epoch 20, CIFAR-10 Batch 5:  Loss:     1.0296 Validation Accuracy: 0.599400\n",
      "Epoch 21, CIFAR-10 Batch 1:  Loss:     1.2606 Validation Accuracy: 0.605200\n",
      "Epoch 21, CIFAR-10 Batch 2:  Loss:     1.0327 Validation Accuracy: 0.613400\n",
      "Epoch 21, CIFAR-10 Batch 3:  Loss:     0.8549 Validation Accuracy: 0.611000\n",
      "Epoch 21, CIFAR-10 Batch 4:  Loss:     0.9881 Validation Accuracy: 0.608800\n",
      "Epoch 21, CIFAR-10 Batch 5:  Loss:     0.9818 Validation Accuracy: 0.608600\n",
      "Epoch 22, CIFAR-10 Batch 1:  Loss:     1.1684 Validation Accuracy: 0.617000\n",
      "Epoch 22, CIFAR-10 Batch 2:  Loss:     0.9691 Validation Accuracy: 0.613800\n",
      "Epoch 22, CIFAR-10 Batch 3:  Loss:     0.8644 Validation Accuracy: 0.606200\n",
      "Epoch 22, CIFAR-10 Batch 4:  Loss:     0.9965 Validation Accuracy: 0.617400\n",
      "Epoch 22, CIFAR-10 Batch 5:  Loss:     1.0270 Validation Accuracy: 0.599600\n",
      "Epoch 23, CIFAR-10 Batch 1:  Loss:     1.1555 Validation Accuracy: 0.613400\n",
      "Epoch 23, CIFAR-10 Batch 2:  Loss:     0.9238 Validation Accuracy: 0.612600\n",
      "Epoch 23, CIFAR-10 Batch 3:  Loss:     0.7883 Validation Accuracy: 0.619800\n",
      "Epoch 23, CIFAR-10 Batch 4:  Loss:     0.9879 Validation Accuracy: 0.616400\n",
      "Epoch 23, CIFAR-10 Batch 5:  Loss:     0.9569 Validation Accuracy: 0.616000\n",
      "Epoch 24, CIFAR-10 Batch 1:  Loss:     1.1951 Validation Accuracy: 0.620000\n",
      "Epoch 24, CIFAR-10 Batch 2:  Loss:     0.9152 Validation Accuracy: 0.628400\n",
      "Epoch 24, CIFAR-10 Batch 3:  Loss:     0.7602 Validation Accuracy: 0.630800\n",
      "Epoch 24, CIFAR-10 Batch 4:  Loss:     0.9634 Validation Accuracy: 0.629400\n",
      "Epoch 24, CIFAR-10 Batch 5:  Loss:     0.9523 Validation Accuracy: 0.622800\n",
      "Epoch 25, CIFAR-10 Batch 1:  Loss:     1.1239 Validation Accuracy: 0.630400\n",
      "Epoch 25, CIFAR-10 Batch 2:  Loss:     0.8935 Validation Accuracy: 0.629800\n",
      "Epoch 25, CIFAR-10 Batch 3:  Loss:     0.7547 Validation Accuracy: 0.632600\n",
      "Epoch 25, CIFAR-10 Batch 4:  Loss:     0.9406 Validation Accuracy: 0.625400\n",
      "Epoch 25, CIFAR-10 Batch 5:  Loss:     0.8611 Validation Accuracy: 0.631600\n",
      "Epoch 26, CIFAR-10 Batch 1:  Loss:     1.0824 Validation Accuracy: 0.630400\n",
      "Epoch 26, CIFAR-10 Batch 2:  Loss:     0.8454 Validation Accuracy: 0.629400\n",
      "Epoch 26, CIFAR-10 Batch 3:  Loss:     0.6925 Validation Accuracy: 0.634200\n",
      "Epoch 26, CIFAR-10 Batch 4:  Loss:     0.9344 Validation Accuracy: 0.636000\n",
      "Epoch 26, CIFAR-10 Batch 5:  Loss:     0.8661 Validation Accuracy: 0.632000\n",
      "Epoch 27, CIFAR-10 Batch 1:  Loss:     1.1027 Validation Accuracy: 0.629800\n",
      "Epoch 27, CIFAR-10 Batch 2:  Loss:     0.8602 Validation Accuracy: 0.636000\n",
      "Epoch 27, CIFAR-10 Batch 3:  Loss:     0.7100 Validation Accuracy: 0.638800\n",
      "Epoch 27, CIFAR-10 Batch 4:  Loss:     0.9049 Validation Accuracy: 0.639000\n",
      "Epoch 27, CIFAR-10 Batch 5:  Loss:     0.8469 Validation Accuracy: 0.638600\n",
      "Epoch 28, CIFAR-10 Batch 1:  Loss:     1.0451 Validation Accuracy: 0.640800\n",
      "Epoch 28, CIFAR-10 Batch 2:  Loss:     0.8187 Validation Accuracy: 0.644000\n",
      "Epoch 28, CIFAR-10 Batch 3:  Loss:     0.6553 Validation Accuracy: 0.648600\n",
      "Epoch 28, CIFAR-10 Batch 4:  Loss:     0.8889 Validation Accuracy: 0.646200\n",
      "Epoch 28, CIFAR-10 Batch 5:  Loss:     0.7961 Validation Accuracy: 0.636000\n",
      "Epoch 29, CIFAR-10 Batch 1:  Loss:     1.0003 Validation Accuracy: 0.645800\n",
      "Epoch 29, CIFAR-10 Batch 2:  Loss:     0.8070 Validation Accuracy: 0.644800\n",
      "Epoch 29, CIFAR-10 Batch 3:  Loss:     0.6737 Validation Accuracy: 0.643400\n",
      "Epoch 29, CIFAR-10 Batch 4:  Loss:     0.8877 Validation Accuracy: 0.648000\n",
      "Epoch 29, CIFAR-10 Batch 5:  Loss:     0.7895 Validation Accuracy: 0.636400\n",
      "Epoch 30, CIFAR-10 Batch 1:  Loss:     0.9478 Validation Accuracy: 0.647800\n",
      "Epoch 30, CIFAR-10 Batch 2:  Loss:     0.8172 Validation Accuracy: 0.648000\n",
      "Epoch 30, CIFAR-10 Batch 3:  Loss:     0.6574 Validation Accuracy: 0.642400\n",
      "Epoch 30, CIFAR-10 Batch 4:  Loss:     0.8343 Validation Accuracy: 0.651600\n",
      "Epoch 30, CIFAR-10 Batch 5:  Loss:     0.7635 Validation Accuracy: 0.647600\n",
      "Epoch 31, CIFAR-10 Batch 1:  Loss:     0.9350 Validation Accuracy: 0.646800\n",
      "Epoch 31, CIFAR-10 Batch 2:  Loss:     0.7605 Validation Accuracy: 0.641600\n",
      "Epoch 31, CIFAR-10 Batch 3:  Loss:     0.6393 Validation Accuracy: 0.655400\n",
      "Epoch 31, CIFAR-10 Batch 4:  Loss:     0.8404 Validation Accuracy: 0.654600\n",
      "Epoch 31, CIFAR-10 Batch 5:  Loss:     0.7601 Validation Accuracy: 0.641400\n",
      "Epoch 32, CIFAR-10 Batch 1:  Loss:     0.8843 Validation Accuracy: 0.662000\n",
      "Epoch 32, CIFAR-10 Batch 2:  Loss:     0.7133 Validation Accuracy: 0.649400\n",
      "Epoch 32, CIFAR-10 Batch 3:  Loss:     0.6283 Validation Accuracy: 0.660000\n",
      "Epoch 32, CIFAR-10 Batch 4:  Loss:     0.8462 Validation Accuracy: 0.654400\n",
      "Epoch 32, CIFAR-10 Batch 5:  Loss:     0.7344 Validation Accuracy: 0.657600\n",
      "Epoch 33, CIFAR-10 Batch 1:  Loss:     0.8961 Validation Accuracy: 0.654400\n",
      "Epoch 33, CIFAR-10 Batch 2:  Loss:     0.7538 Validation Accuracy: 0.657600\n",
      "Epoch 33, CIFAR-10 Batch 3:  Loss:     0.6110 Validation Accuracy: 0.653800\n",
      "Epoch 33, CIFAR-10 Batch 4:  Loss:     0.8101 Validation Accuracy: 0.665400\n",
      "Epoch 33, CIFAR-10 Batch 5:  Loss:     0.7294 Validation Accuracy: 0.656200\n",
      "Epoch 34, CIFAR-10 Batch 1:  Loss:     0.8593 Validation Accuracy: 0.665200\n",
      "Epoch 34, CIFAR-10 Batch 2:  Loss:     0.7535 Validation Accuracy: 0.662600\n",
      "Epoch 34, CIFAR-10 Batch 3:  Loss:     0.5562 Validation Accuracy: 0.667600\n",
      "Epoch 34, CIFAR-10 Batch 4:  Loss:     0.7981 Validation Accuracy: 0.668200\n",
      "Epoch 34, CIFAR-10 Batch 5:  Loss:     0.6698 Validation Accuracy: 0.663200\n",
      "Epoch 35, CIFAR-10 Batch 1:  Loss:     0.8532 Validation Accuracy: 0.661200\n",
      "Epoch 35, CIFAR-10 Batch 2:  Loss:     0.7084 Validation Accuracy: 0.660800\n",
      "Epoch 35, CIFAR-10 Batch 3:  Loss:     0.5958 Validation Accuracy: 0.665400\n",
      "Epoch 35, CIFAR-10 Batch 4:  Loss:     0.7807 Validation Accuracy: 0.672000\n",
      "Epoch 35, CIFAR-10 Batch 5:  Loss:     0.6841 Validation Accuracy: 0.667200\n",
      "Epoch 36, CIFAR-10 Batch 1:  Loss:     0.8012 Validation Accuracy: 0.670800\n",
      "Epoch 36, CIFAR-10 Batch 2:  Loss:     0.6997 Validation Accuracy: 0.664800\n",
      "Epoch 36, CIFAR-10 Batch 3:  Loss:     0.5422 Validation Accuracy: 0.665600\n",
      "Epoch 36, CIFAR-10 Batch 4:  Loss:     0.7882 Validation Accuracy: 0.665800\n",
      "Epoch 36, CIFAR-10 Batch 5:  Loss:     0.6476 Validation Accuracy: 0.667200\n",
      "Epoch 37, CIFAR-10 Batch 1:  Loss:     0.8045 Validation Accuracy: 0.675600\n",
      "Epoch 37, CIFAR-10 Batch 2:  Loss:     0.6989 Validation Accuracy: 0.665400\n",
      "Epoch 37, CIFAR-10 Batch 3:  Loss:     0.5346 Validation Accuracy: 0.674400\n",
      "Epoch 37, CIFAR-10 Batch 4:  Loss:     0.7909 Validation Accuracy: 0.672400\n",
      "Epoch 37, CIFAR-10 Batch 5:  Loss:     0.6817 Validation Accuracy: 0.661600\n",
      "Epoch 38, CIFAR-10 Batch 1:  Loss:     0.7516 Validation Accuracy: 0.678800\n",
      "Epoch 38, CIFAR-10 Batch 2:  Loss:     0.6966 Validation Accuracy: 0.664800\n",
      "Epoch 38, CIFAR-10 Batch 3:  Loss:     0.5222 Validation Accuracy: 0.673200\n",
      "Epoch 38, CIFAR-10 Batch 4:  Loss:     0.7638 Validation Accuracy: 0.672000\n",
      "Epoch 38, CIFAR-10 Batch 5:  Loss:     0.6001 Validation Accuracy: 0.675000\n",
      "Epoch 39, CIFAR-10 Batch 1:  Loss:     0.7383 Validation Accuracy: 0.677200\n",
      "Epoch 39, CIFAR-10 Batch 2:  Loss:     0.7418 Validation Accuracy: 0.659800\n",
      "Epoch 39, CIFAR-10 Batch 3:  Loss:     0.5205 Validation Accuracy: 0.677200\n",
      "Epoch 39, CIFAR-10 Batch 4:  Loss:     0.7695 Validation Accuracy: 0.669800\n",
      "Epoch 39, CIFAR-10 Batch 5:  Loss:     0.6245 Validation Accuracy: 0.669200\n",
      "Epoch 40, CIFAR-10 Batch 1:  Loss:     0.7073 Validation Accuracy: 0.684200\n",
      "Epoch 40, CIFAR-10 Batch 2:  Loss:     0.6358 Validation Accuracy: 0.677000\n",
      "Epoch 40, CIFAR-10 Batch 3:  Loss:     0.5109 Validation Accuracy: 0.671800\n",
      "Epoch 40, CIFAR-10 Batch 4:  Loss:     0.7225 Validation Accuracy: 0.684800\n",
      "Epoch 40, CIFAR-10 Batch 5:  Loss:     0.6351 Validation Accuracy: 0.670600\n"
     ]
    }
   ],
   "source": [
    "\"\"\"\n",
    "DON'T MODIFY ANYTHING IN THIS CELL\n",
    "\"\"\"\n",
    "save_model_path = './image_classification'\n",
    "\n",
    "print('Training...')\n",
    "with tf.Session() as sess:\n",
    "    # Initializing the variables\n",
    "    sess.run(tf.global_variables_initializer())\n",
    "    \n",
    "    # Training cycle\n",
    "    for epoch in range(epochs):\n",
    "        # Loop over all batches\n",
    "        n_batches = 5\n",
    "        for batch_i in range(1, n_batches + 1):\n",
    "            for batch_features, batch_labels in helper.load_preprocess_training_batch(batch_i, batch_size):\n",
    "                train_neural_network(sess, optimizer, keep_probability, batch_features, batch_labels)\n",
    "            print('Epoch {:>2}, CIFAR-10 Batch {}:  '.format(epoch + 1, batch_i), end='')\n",
    "            print_stats(sess, batch_features, batch_labels, cost, accuracy)\n",
    "            \n",
    "    # Save Model\n",
    "    saver = tf.train.Saver()\n",
    "    save_path = saver.save(sess, save_model_path)"
   ]
  },
  {
   "cell_type": "markdown",
   "metadata": {
    "deletable": true,
    "editable": true
   },
   "source": [
    "# Checkpoint\n",
    "The model has been saved to disk.\n",
    "## Test Model\n",
    "Test your model against the test dataset.  This will be your final accuracy. You should have an accuracy greater than 50%. If you don't, keep tweaking the model architecture and parameters."
   ]
  },
  {
   "cell_type": "code",
   "execution_count": 98,
   "metadata": {
    "collapsed": false,
    "deletable": true,
    "editable": true
   },
   "outputs": [
    {
     "name": "stdout",
     "output_type": "stream",
     "text": [
      "Testing Accuracy: 0.6692874203821656\n",
      "\n"
     ]
    },
    {
     "data": {
      "image/png": "[encoded data removed]",
      "text/plain": [
       "<matplotlib.figure.Figure at 0x7fa180bd3860>"
      ]
     },
     "metadata": {
      "image/png": {
       "height": 319,
       "width": 355
      }
     },
     "output_type": "display_data"
    }
   ],
   "source": [
    "\"\"\"\n",
    "DON'T MODIFY ANYTHING IN THIS CELL\n",
    "\"\"\"\n",
    "%matplotlib inline\n",
    "%config InlineBackend.figure_format = 'retina'\n",
    "\n",
    "import tensorflow as tf\n",
    "import pickle\n",
    "import helper\n",
    "import random\n",
    "\n",
    "# Set batch size if not already set\n",
    "try:\n",
    "    if batch_size:\n",
    "        pass\n",
    "except NameError:\n",
    "    batch_size = 64\n",
    "\n",
    "save_model_path = './image_classification'\n",
    "n_samples = 4\n",
    "top_n_predictions = 3\n",
    "\n",
    "def test_model():\n",
    "    \"\"\"\n",
    "    Test the saved model against the test dataset\n",
    "    \"\"\"\n",
    "\n",
    "    test_features, test_labels = pickle.load(open('preprocess_training.p', mode='rb'))\n",
    "    loaded_graph = tf.Graph()\n",
    "\n",
    "    with tf.Session(graph=loaded_graph) as sess:\n",
    "        # Load model\n",
    "        loader = tf.train.import_meta_graph(save_model_path + '.meta')\n",
    "        loader.restore(sess, save_model_path)\n",
    "\n",
    "        # Get Tensors from loaded model\n",
    "        loaded_x = loaded_graph.get_tensor_by_name('x:0')\n",
    "        loaded_y = loaded_graph.get_tensor_by_name('y:0')\n",
    "        loaded_keep_prob = loaded_graph.get_tensor_by_name('keep_prob:0')\n",
    "        loaded_logits = loaded_graph.get_tensor_by_name('logits:0')\n",
    "        loaded_acc = loaded_graph.get_tensor_by_name('accuracy:0')\n",
    "        \n",
    "        # Get accuracy in batches for memory limitations\n",
    "        test_batch_acc_total = 0\n",
    "        test_batch_count = 0\n",
    "        \n",
    "        for train_feature_batch, train_label_batch in helper.batch_features_labels(test_features, test_labels, batch_size):\n",
    "            test_batch_acc_total += sess.run(\n",
    "                loaded_acc,\n",
    "                feed_dict={loaded_x: train_feature_batch, loaded_y: train_label_batch, loaded_keep_prob: 1.0})\n",
    "            test_batch_count += 1\n",
    "\n",
    "        print('Testing Accuracy: {}\\n'.format(test_batch_acc_total/test_batch_count))\n",
    "\n",
    "        # Print Random Samples\n",
    "        random_test_features, random_test_labels = tuple(zip(*random.sample(list(zip(test_features, test_labels)), n_samples)))\n",
    "        random_test_predictions = sess.run(\n",
    "            tf.nn.top_k(tf.nn.softmax(loaded_logits), top_n_predictions),\n",
    "            feed_dict={loaded_x: random_test_features, loaded_y: random_test_labels, loaded_keep_prob: 1.0})\n",
    "        helper.display_image_predictions(random_test_features, random_test_labels, random_test_predictions)\n",
    "\n",
    "\n",
    "test_model()"
   ]
  },
  {
   "cell_type": "markdown",
   "metadata": {
    "deletable": true,
    "editable": true
   },
   "source": [
    "## Why 50-70% Accuracy?\n",
    "You might be wondering why you can't get an accuracy any higher. First things first, 50% isn't bad for a simple CNN.  Pure guessing would get you 10% accuracy. However, you might notice people are getting scores [well above 70%](http://rodrigob.github.io/are_we_there_yet/build/classification_datasets_results.html#43494641522d3130).  That's because we haven't taught you all there is to know about neural networks. We still need to cover a few more techniques.\n",
    "## Submitting This Project\n",
    "When submitting this project, make sure to run all the cells before saving the notebook.  Save the notebook file as \"dlnd_image_classification.ipynb\" and save it as a HTML file under \"File\" -> \"Download as\".  Include the \"helper.py\" and \"problem_unittests.py\" files in your submission."
   ]
  }
 ],
 "metadata": {
  "kernelspec": {
   "display_name": "Python 3",
   "language": "python",
   "name": "python3"
  },
  "language_info": {
   "codemirror_mode": {
    "name": "ipython",
    "version": 3
   },
   "file_extension": ".py",
   "mimetype": "text/x-python",
   "name": "python",
   "nbconvert_exporter": "python",
   "pygments_lexer": "ipython3",
   "version": "3.5.2"
  }
 },
 "nbformat": 4,
 "nbformat_minor": 0
}
